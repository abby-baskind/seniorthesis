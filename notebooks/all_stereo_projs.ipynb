{
 "cells": [
  {
   "cell_type": "markdown",
   "id": "a0898b7f-f758-4cee-a691-bf87add255d7",
   "metadata": {},
   "source": [
    "`cd project/seniorthesis/notebooks`\n",
    "\n",
    "`conda list PyCO2SYS`\n",
    "\n",
    "`pip install PyCO2SYS`\n",
    "\n",
    "`pip install git+https://github.com/jbusecke/cmip6_preprocessing.git`\n",
    "\n",
    "`mv *.png ../figures`"
   ]
  },
  {
   "cell_type": "code",
   "execution_count": 9,
   "id": "7f3991a7-ec00-459e-a659-f73dbb57ca60",
   "metadata": {},
   "outputs": [],
   "source": [
    "import xarray as xr\n",
    "import xesmf as xe\n",
    "from cmip6_preprocessing.preprocessing import combined_preprocessing\n",
    "import PyCO2SYS as pyco2 # i have to install this package through terminal for it to work\n",
    "import intake\n",
    "import matplotlib.pyplot as plt\n",
    "import numpy as np\n",
    "import warnings\n",
    "import gsw\n",
    "from cmip6_preprocessing.postprocessing import combine_datasets\n",
    "from cartopy import crs as ccrs\n",
    "import cartopy.feature as cfeature\n",
    "from cartopy.util import add_cyclic_point\n",
    "import cmocean\n",
    "import matplotlib.path as mpath\n",
    "from cmip6_preprocessing.postprocessing import combine_datasets\n",
    "from cmip6_preprocessing.postprocessing import merge_variables"
   ]
  },
  {
   "cell_type": "code",
   "execution_count": 2,
   "id": "e91da0af-277b-4d40-854e-aede8fef43d7",
   "metadata": {},
   "outputs": [],
   "source": [
    "col = intake.open_esm_datastore(\"https://storage.googleapis.com/cmip6/pangeo-cmip6.json\")"
   ]
  },
  {
   "cell_type": "markdown",
   "id": "17a2f4ac-ea2e-4c31-8c8b-063abad4275d",
   "metadata": {},
   "source": [
    "# Import and regrid `gn` models"
   ]
  },
  {
   "cell_type": "code",
   "execution_count": 3,
   "id": "91f9d48e-c834-4db4-a221-0e95b8678e2b",
   "metadata": {},
   "outputs": [
    {
     "name": "stdout",
     "output_type": "stream",
     "text": [
      "\n",
      "--> The keys in the returned dictionary of datasets are constructed as follows:\n",
      "\t'activity_id.institution_id.source_id.experiment_id.member_id.table_id.variable_id.grid_label.zstore.dcpp_init_year.version'\n"
     ]
    },
    {
     "data": {
      "text/html": [
       "\n",
       "    <div>\n",
       "        <style>\n",
       "            /* Turns off some styling */\n",
       "            progress {\n",
       "                /* gets rid of default border in Firefox and Opera. */\n",
       "                border: none;\n",
       "                /* Needs to be in here for Safari polyfill so background images work as expected. */\n",
       "                background-size: auto;\n",
       "            }\n",
       "            .progress-bar-interrupted, .progress-bar-interrupted::-webkit-progress-bar {\n",
       "                background: #F44336;\n",
       "            }\n",
       "        </style>\n",
       "      <progress value='541' class='' max='541' style='width:300px; height:20px; vertical-align: middle;'></progress>\n",
       "      100.00% [541/541 03:34<00:00]\n",
       "    </div>\n",
       "    "
      ],
      "text/plain": [
       "<IPython.core.display.HTML object>"
      ]
     },
     "metadata": {},
     "output_type": "display_data"
    }
   ],
   "source": [
    "variables = ['dissic','talk', 'so', 'thetao', 'fgco2']\n",
    "z_kwargs = {'consolidated': True, 'use_cftime': True}\n",
    "query = dict(experiment_id=['historical'], \n",
    "             table_id=['Omon'], \n",
    "             variable_id=variables,\n",
    "             grid_label=['gn'],\n",
    "              source_id=['IPSL-CM6A-LR', \n",
    "#                          'MPI-ESM1-2-LR', \n",
    "                         'CNRM-ESM2-1', \n",
    "                         'CanESM5', \n",
    "#                          'MPI-ESM1-2-HR', \n",
    "#                          'CMCC-ESM2', \n",
    "#                          'GISS-E2-1-G', \n",
    "                         'UKESM1-0-LL','ACCESS-ESM1-5', 'CanESM5-CanOE' \n",
    "#                          'GISS-E2-1-G-CC',\n",
    "#                          'MPI-ESM-1-2-HAM'\n",
    "                        ]\n",
    "            )\n",
    "\n",
    "\n",
    "cat = col.search(**query)\n",
    "\n",
    "# print(cat.df['source_id'].unique())\n",
    "dset_dict_old_gn = cat.to_dataset_dict(zarr_kwargs=z_kwargs, storage_options={'token': 'anon'},\n",
    "                                preprocess=combined_preprocessing, aggregate=False)"
   ]
  },
  {
   "cell_type": "code",
   "execution_count": 4,
   "id": "74bdade0-81ff-4e74-a83d-c06d9438cddc",
   "metadata": {},
   "outputs": [
    {
     "name": "stderr",
     "output_type": "stream",
     "text": [
      "/srv/conda/envs/notebook/lib/python3.8/site-packages/cmip6_preprocessing/postprocessing.py:122: UserWarning: CMIP.IPSL.IPSL-CM6A-LR.historical.r2i1p1f1.Omon.gn.none failed to combine with :indexes along dimension 'lev' are not equal\n",
      "  warnings.warn(f\"{cmip6_dataset_id(ds)} failed to combine with :{e}\")\n",
      "/srv/conda/envs/notebook/lib/python3.8/site-packages/cmip6_preprocessing/postprocessing.py:122: UserWarning: CMIP.IPSL.IPSL-CM6A-LR.historical.r10i1p1f1.Omon.gn.none failed to combine with :cannot compare cftime.DatetimeProlepticGregorian(1850, 1, 16, 12, 0, 0, 0) and cftime.DatetimeGregorian(1850, 1, 16, 12, 0, 0, 0) (different calendars)\n",
      "  warnings.warn(f\"{cmip6_dataset_id(ds)} failed to combine with :{e}\")\n",
      "/srv/conda/envs/notebook/lib/python3.8/site-packages/cmip6_preprocessing/postprocessing.py:122: UserWarning: CMIP.CNRM-CERFACS.CNRM-ESM2-1.historical.r2i1p1f2.Omon.gn.none failed to combine with :cannot compare cftime.DatetimeGregorian(1850, 1, 16, 12, 0, 0, 0) and cftime.DatetimeProlepticGregorian(1850, 1, 16, 12, 0, 0, 0) (different calendars)\n",
      "  warnings.warn(f\"{cmip6_dataset_id(ds)} failed to combine with :{e}\")\n"
     ]
    }
   ],
   "source": [
    "dd_new_gn = merge_variables(dset_dict_old_gn)\n",
    "# list(dd_new.keys())"
   ]
  },
  {
   "cell_type": "code",
   "execution_count": 7,
   "id": "e1a31bc5-2f21-4bda-b803-df397874134c",
   "metadata": {},
   "outputs": [
    {
     "data": {
      "text/plain": [
       "['ACCESS-ESM1-5.gn.historical.Omon',\n",
       " 'CanESM5.gn.historical.Omon',\n",
       " 'IPSL-CM6A-LR.gn.historical.Omon',\n",
       " 'UKESM1-0-LL.gn.historical.Omon',\n",
       " 'CNRM-ESM2-1.gn.historical.Omon',\n",
       " 'CanESM5-CanOE.gn.historical.Omon']"
      ]
     },
     "execution_count": 7,
     "metadata": {},
     "output_type": "execute_result"
    }
   ],
   "source": [
    "def pick_first_member(ds_list, **kwargs):\n",
    "    return ds_list[0]\n",
    "\n",
    "dd_new_new_gn = combine_datasets(\n",
    "    dd_new_gn,\n",
    "    pick_first_member,\n",
    "    match_attrs=['source_id', 'grid_label', 'experiment_id', 'table_id']\n",
    ")\n",
    "list(dd_new_new_gn.keys())"
   ]
  },
  {
   "cell_type": "code",
   "execution_count": 10,
   "id": "c79bf1ab-fb4a-4555-8dc8-1fa4419ed205",
   "metadata": {},
   "outputs": [
    {
     "name": "stderr",
     "output_type": "stream",
     "text": [
      "/srv/conda/envs/notebook/lib/python3.8/site-packages/xesmf/frontend.py:496: FutureWarning: ``output_sizes`` should be given in the ``dask_gufunc_kwargs`` parameter. It will be removed as direct parameter in a future version.\n",
      "  ds_out = xr.apply_ufunc(\n",
      "/srv/conda/envs/notebook/lib/python3.8/site-packages/xesmf/frontend.py:496: FutureWarning: ``output_sizes`` should be given in the ``dask_gufunc_kwargs`` parameter. It will be removed as direct parameter in a future version.\n",
      "  ds_out = xr.apply_ufunc(\n",
      "/srv/conda/envs/notebook/lib/python3.8/site-packages/xesmf/frontend.py:496: FutureWarning: ``output_sizes`` should be given in the ``dask_gufunc_kwargs`` parameter. It will be removed as direct parameter in a future version.\n",
      "  ds_out = xr.apply_ufunc(\n",
      "/srv/conda/envs/notebook/lib/python3.8/site-packages/xesmf/frontend.py:496: FutureWarning: ``output_sizes`` should be given in the ``dask_gufunc_kwargs`` parameter. It will be removed as direct parameter in a future version.\n",
      "  ds_out = xr.apply_ufunc(\n",
      "/srv/conda/envs/notebook/lib/python3.8/site-packages/xesmf/frontend.py:496: FutureWarning: ``output_sizes`` should be given in the ``dask_gufunc_kwargs`` parameter. It will be removed as direct parameter in a future version.\n",
      "  ds_out = xr.apply_ufunc(\n",
      "/srv/conda/envs/notebook/lib/python3.8/site-packages/xesmf/frontend.py:496: FutureWarning: ``output_sizes`` should be given in the ``dask_gufunc_kwargs`` parameter. It will be removed as direct parameter in a future version.\n",
      "  ds_out = xr.apply_ufunc(\n"
     ]
    },
    {
     "data": {
      "text/plain": [
       "['ACCESS-ESM1-5.gn.historical.Omon',\n",
       " 'CanESM5.gn.historical.Omon',\n",
       " 'IPSL-CM6A-LR.gn.historical.Omon',\n",
       " 'UKESM1-0-LL.gn.historical.Omon',\n",
       " 'CNRM-ESM2-1.gn.historical.Omon',\n",
       " 'CanESM5-CanOE.gn.historical.Omon']"
      ]
     },
     "execution_count": 10,
     "metadata": {},
     "output_type": "execute_result"
    }
   ],
   "source": [
    "targetgrid_ds = xe.util.grid_global(1.0, 1.0)\n",
    "# regridder = xe.Regridder(dd_new_new, targetgrid_ds, 'bilinear', \n",
    "#                          periodic=True, ignore_degenerate=True)\n",
    "\n",
    "dd_regrid={}\n",
    "for name,item in dd_new_new_gn.items():\n",
    "    regridder = xe.Regridder(item, targetgrid_ds, 'bilinear', \n",
    "                         periodic=True, ignore_degenerate=True)\n",
    "    ds_regridded = regridder(item)\n",
    "    dd_regrid[name]=ds_regridded\n",
    "list(dd_regrid.keys())"
   ]
  },
  {
   "cell_type": "markdown",
   "id": "0b47bdb7-ce11-4e79-b7ac-a8fc745f06e0",
   "metadata": {},
   "source": [
    "# Import `gr` models"
   ]
  },
  {
   "cell_type": "code",
   "execution_count": 11,
   "id": "f943f0cc-6f3d-464a-8bce-484bfefe9a25",
   "metadata": {},
   "outputs": [
    {
     "name": "stdout",
     "output_type": "stream",
     "text": [
      "\n",
      "--> The keys in the returned dictionary of datasets are constructed as follows:\n",
      "\t'activity_id.institution_id.source_id.experiment_id.member_id.table_id.variable_id.grid_label.zstore.dcpp_init_year.version'\n"
     ]
    },
    {
     "data": {
      "text/html": [
       "\n",
       "    <div>\n",
       "        <style>\n",
       "            /* Turns off some styling */\n",
       "            progress {\n",
       "                /* gets rid of default border in Firefox and Opera. */\n",
       "                border: none;\n",
       "                /* Needs to be in here for Safari polyfill so background images work as expected. */\n",
       "                background-size: auto;\n",
       "            }\n",
       "            .progress-bar-interrupted, .progress-bar-interrupted::-webkit-progress-bar {\n",
       "                background: #F44336;\n",
       "            }\n",
       "        </style>\n",
       "      <progress value='102' class='' max='102' style='width:300px; height:20px; vertical-align: middle;'></progress>\n",
       "      100.00% [102/102 00:28<00:00]\n",
       "    </div>\n",
       "    "
      ],
      "text/plain": [
       "<IPython.core.display.HTML object>"
      ]
     },
     "metadata": {},
     "output_type": "display_data"
    }
   ],
   "source": [
    "variables = ['dissic','talk', 'so', 'thetao', 'fgco2']\n",
    "z_kwargs = {'consolidated': True, 'use_cftime': True}\n",
    "query = dict(experiment_id=['historical'], \n",
    "             table_id=['Omon'], \n",
    "             variable_id=variables,\n",
    "             grid_label=['gr'],\n",
    "              source_id=['GFDL-ESM4', 'CESM2-WACCM', 'CESM2', \n",
    "                         'CESM2-FV2', 'MRI-ESM2-0', \n",
    "                         'GFDL-CM4', 'CESM2-WACCM-FV2']\n",
    "            )\n",
    "\n",
    "\n",
    "cat = col.search(**query)\n",
    "\n",
    "# print(cat.df['source_id'].unique())\n",
    "dset_dict_old_gr = cat.to_dataset_dict(zarr_kwargs=z_kwargs, storage_options={'token': 'anon'},\n",
    "                                preprocess=combined_preprocessing, aggregate=False)"
   ]
  },
  {
   "cell_type": "code",
   "execution_count": 12,
   "id": "f8f366ff-5fbc-4fcb-885c-141b4de726af",
   "metadata": {},
   "outputs": [
    {
     "name": "stderr",
     "output_type": "stream",
     "text": [
      "/srv/conda/envs/notebook/lib/python3.8/site-packages/cmip6_preprocessing/postprocessing.py:122: UserWarning: CMIP.NCAR.CESM2-WACCM-FV2.historical.r2i1p1f1.Omon.gr.none failed to combine with :indexes along dimension 'time' are not equal\n",
      "  warnings.warn(f\"{cmip6_dataset_id(ds)} failed to combine with :{e}\")\n",
      "/srv/conda/envs/notebook/lib/python3.8/site-packages/cmip6_preprocessing/postprocessing.py:122: UserWarning: CMIP.NCAR.CESM2.historical.r10i1p1f1.Omon.gr.none failed to combine with :indexes along dimension 'time' are not equal\n",
      "  warnings.warn(f\"{cmip6_dataset_id(ds)} failed to combine with :{e}\")\n",
      "/srv/conda/envs/notebook/lib/python3.8/site-packages/cmip6_preprocessing/postprocessing.py:122: UserWarning: CMIP.NCAR.CESM2-FV2.historical.r3i1p1f1.Omon.gr.none failed to combine with :indexes along dimension 'time' are not equal\n",
      "  warnings.warn(f\"{cmip6_dataset_id(ds)} failed to combine with :{e}\")\n",
      "/srv/conda/envs/notebook/lib/python3.8/site-packages/cmip6_preprocessing/postprocessing.py:122: UserWarning: CMIP.NCAR.CESM2-WACCM-FV2.historical.r3i1p1f1.Omon.gr.none failed to combine with :indexes along dimension 'time' are not equal\n",
      "  warnings.warn(f\"{cmip6_dataset_id(ds)} failed to combine with :{e}\")\n",
      "/srv/conda/envs/notebook/lib/python3.8/site-packages/cmip6_preprocessing/postprocessing.py:122: UserWarning: CMIP.NCAR.CESM2-FV2.historical.r2i1p1f1.Omon.gr.none failed to combine with :indexes along dimension 'time' are not equal\n",
      "  warnings.warn(f\"{cmip6_dataset_id(ds)} failed to combine with :{e}\")\n"
     ]
    }
   ],
   "source": [
    "dd_new_gr = merge_variables(dset_dict_old_gr)"
   ]
  },
  {
   "cell_type": "code",
   "execution_count": 14,
   "id": "b45f5968-4307-4cfb-871e-b9434fa2f26d",
   "metadata": {},
   "outputs": [
    {
     "data": {
      "text/plain": [
       "['CESM2.gr.historical.Omon.r7i1p1f1',\n",
       " 'CESM2.gr.historical.Omon.r1i1p1f1',\n",
       " 'GFDL-ESM4.gr.historical.Omon.r1i1p1f1',\n",
       " 'CESM2.gr.historical.Omon.r6i1p1f1',\n",
       " 'CESM2-WACCM.gr.historical.Omon.r2i1p1f1',\n",
       " 'CESM2.gr.historical.Omon.r3i1p1f1',\n",
       " 'CESM2.gr.historical.Omon.r5i1p1f1',\n",
       " 'CESM2.gr.historical.Omon.r8i1p1f1',\n",
       " 'CESM2.gr.historical.Omon.r9i1p1f1',\n",
       " 'MRI-ESM2-0.gr.historical.Omon.r1i2p1f1',\n",
       " 'CESM2-WACCM.gr.historical.Omon.r3i1p1f1',\n",
       " 'CESM2-WACCM-FV2.gr.historical.Omon.r1i1p1f1',\n",
       " 'GFDL-CM4.gr.historical.Omon.r1i1p1f1',\n",
       " 'CESM2.gr.historical.Omon.r4i1p1f1',\n",
       " 'CESM2-FV2.gr.historical.Omon.r1i1p1f1',\n",
       " 'CESM2-WACCM.gr.historical.Omon.r1i1p1f1',\n",
       " 'CESM2.gr.historical.Omon.r2i1p1f1',\n",
       " 'CESM2.gr.historical.Omon.r11i1p1f1']"
      ]
     },
     "execution_count": 14,
     "metadata": {},
     "output_type": "execute_result"
    }
   ],
   "source": [
    "temp={}\n",
    "for name,item in dd_new_gr.items():\n",
    "    #print(name)\n",
    "    #print(item.data_vars)\n",
    "    present = item.data_vars\n",
    "    if all(i in present for i in variables):\n",
    "        #print(name)\n",
    "        temp[name]=item\n",
    "dd_new_gr = temp\n",
    "list(dd_new_gr.keys())"
   ]
  },
  {
   "cell_type": "code",
   "execution_count": 16,
   "id": "1ab9f14a-aa77-465b-9d02-2801ed663dac",
   "metadata": {},
   "outputs": [
    {
     "data": {
      "text/plain": [
       "['CESM2.gr.historical.Omon',\n",
       " 'GFDL-ESM4.gr.historical.Omon',\n",
       " 'CESM2-WACCM.gr.historical.Omon',\n",
       " 'MRI-ESM2-0.gr.historical.Omon',\n",
       " 'CESM2-WACCM-FV2.gr.historical.Omon',\n",
       " 'GFDL-CM4.gr.historical.Omon',\n",
       " 'CESM2-FV2.gr.historical.Omon']"
      ]
     },
     "execution_count": 16,
     "metadata": {},
     "output_type": "execute_result"
    }
   ],
   "source": [
    "dd_new_new_gr = combine_datasets(\n",
    "    dd_new_gr,\n",
    "    pick_first_member,\n",
    "    match_attrs=['source_id', 'grid_label', 'experiment_id', 'table_id']\n",
    ")\n",
    "list(dd_new_new_gr.keys())"
   ]
  },
  {
   "cell_type": "markdown",
   "id": "906fe885-07dd-4323-9627-bd48890cbdc5",
   "metadata": {},
   "source": [
    "# Combine those two dictionaries"
   ]
  },
  {
   "cell_type": "code",
   "execution_count": 24,
   "id": "0670aae8-d864-4627-9e91-06c230981083",
   "metadata": {},
   "outputs": [
    {
     "data": {
      "text/plain": [
       "['CESM2.gr.historical.Omon',\n",
       " 'GFDL-ESM4.gr.historical.Omon',\n",
       " 'CESM2-WACCM.gr.historical.Omon',\n",
       " 'MRI-ESM2-0.gr.historical.Omon',\n",
       " 'CESM2-WACCM-FV2.gr.historical.Omon',\n",
       " 'GFDL-CM4.gr.historical.Omon',\n",
       " 'CESM2-FV2.gr.historical.Omon',\n",
       " 'ACCESS-ESM1-5.gn.historical.Omon',\n",
       " 'CanESM5.gn.historical.Omon',\n",
       " 'IPSL-CM6A-LR.gn.historical.Omon',\n",
       " 'UKESM1-0-LL.gn.historical.Omon',\n",
       " 'CNRM-ESM2-1.gn.historical.Omon',\n",
       " 'CanESM5-CanOE.gn.historical.Omon']"
      ]
     },
     "execution_count": 24,
     "metadata": {},
     "output_type": "execute_result"
    }
   ],
   "source": [
    "dd_new_new = {**dd_new_new_gr, **dd_regrid}\n",
    "list(dd_new_new.keys())"
   ]
  },
  {
   "cell_type": "code",
   "execution_count": null,
   "id": "4937e9ac-9c40-4e0a-ad71-97eb476cd3f2",
   "metadata": {},
   "outputs": [
    {
     "name": "stderr",
     "output_type": "stream",
     "text": [
      "/srv/conda/envs/notebook/lib/python3.8/site-packages/dask/array/numpy_compat.py:39: RuntimeWarning: invalid value encountered in true_divide\n",
      "  x = np.divide(x1, x2, out)\n",
      "/srv/conda/envs/notebook/lib/python3.8/site-packages/dask/array/numpy_compat.py:39: RuntimeWarning: invalid value encountered in true_divide\n",
      "  x = np.divide(x1, x2, out)\n",
      "/srv/conda/envs/notebook/lib/python3.8/site-packages/dask/array/numpy_compat.py:39: RuntimeWarning: invalid value encountered in true_divide\n",
      "  x = np.divide(x1, x2, out)\n",
      "/srv/conda/envs/notebook/lib/python3.8/site-packages/dask/array/numpy_compat.py:39: RuntimeWarning: invalid value encountered in true_divide\n",
      "  x = np.divide(x1, x2, out)\n",
      "/srv/conda/envs/notebook/lib/python3.8/site-packages/dask/array/numpy_compat.py:39: RuntimeWarning: invalid value encountered in true_divide\n",
      "  x = np.divide(x1, x2, out)\n",
      "/srv/conda/envs/notebook/lib/python3.8/site-packages/dask/array/numpy_compat.py:39: RuntimeWarning: invalid value encountered in true_divide\n",
      "  x = np.divide(x1, x2, out)\n",
      "/srv/conda/envs/notebook/lib/python3.8/site-packages/dask/array/numpy_compat.py:39: RuntimeWarning: invalid value encountered in true_divide\n",
      "  x = np.divide(x1, x2, out)\n"
     ]
    }
   ],
   "source": [
    "fig, axarr = plt.subplots(nrows = 5, ncols=3, figsize=[30,30], subplot_kw={'projection':ccrs.SouthPolarStereo()})\n",
    "fig.tight_layout(pad = 10)\n",
    "crs_plot = ccrs.SouthPolarStereo()\n",
    "crs_source = ccrs.PlateCarree()\n",
    "\n",
    "ax_idx = 0 # index for your axes array\n",
    "for name, ds in dd_new_new.items():\n",
    "\n",
    "    ax = axarr.flat[ax_idx]\n",
    "    #fig,ax = plt.subplots(figsize=(10,10),subplot_kw={'projection':crs_plot})\n",
    "#     ax.add_feature(cfeature.LAND,zorder=10,facecolor='darkgray')\n",
    "    ax.set_extent([-180, 180, -90, -30], crs_source)\n",
    "    # Compute a circle in axes coordinates, which we can use as a boundary\n",
    "    # for the map. We can pan/zoom as much as we like - the boundary will be\n",
    "    # permanently circular.\n",
    "    \n",
    "    theta = np.linspace(0, 2*np.pi, 100)\n",
    "    center, radius = [0.5, 0.5], 0.5\n",
    "    verts = np.vstack([np.sin(theta), np.cos(theta)]).T\n",
    "    circle = mpath.Path(verts * radius + center)\n",
    "    ax.set_boundary(circle, transform=ax.transAxes)\n",
    "    \n",
    "#     ax.gridlines()\n",
    "#     ax.coastlines()\n",
    "    \n",
    "    title=name\n",
    "    ax.set_title(title,fontsize=24,pad = 10)\n",
    "    \n",
    "    \n",
    "    Z = ds.dissic.isel(time = slice(0, 239), lev = 0).mean('time', keep_attrs=True)\n",
    "    lat = ds.lat.transpose('y','x')\n",
    "    lon = ds.lon.transpose('y','x')\n",
    "    X = lon\n",
    "    Y = lat\n",
    "    \n",
    "    im = ax.pcolormesh(X,Y,Z,cmap='viridis', transform = crs_source, shading = 'auto', vmin = 1.85, vmax = 2.25)\n",
    "    \n",
    "    cbar_label = 'Dissolved Inorganic Carbon (mol/m\\u00b3)'\n",
    "    cbar = plt.colorbar(im,ax = ax, orientation='horizontal',fraction = 0.07, pad=0.05)\n",
    "    cbar.set_label(cbar_label, fontsize = 16)\n",
    "    \n",
    "    ax_idx += 1"
   ]
  },
  {
   "cell_type": "code",
   "execution_count": null,
   "id": "15365d55-7284-4006-8c59-9622d87b92c1",
   "metadata": {},
   "outputs": [],
   "source": []
  }
 ],
 "metadata": {
  "kernelspec": {
   "display_name": "Python 3",
   "language": "python",
   "name": "python3"
  },
  "language_info": {
   "codemirror_mode": {
    "name": "ipython",
    "version": 3
   },
   "file_extension": ".py",
   "mimetype": "text/x-python",
   "name": "python",
   "nbconvert_exporter": "python",
   "pygments_lexer": "ipython3",
   "version": "3.8.8"
  }
 },
 "nbformat": 4,
 "nbformat_minor": 5
}
