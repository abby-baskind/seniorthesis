{
 "cells": [
  {
   "cell_type": "code",
   "execution_count": null,
   "id": "f44cba17-e29a-4c5e-b85d-c7ed38d5595c",
   "metadata": {},
   "outputs": [],
   "source": []
  },
  {
   "cell_type": "markdown",
   "id": "a3f801bb-9fe5-4d5f-be22-4d766fc684c0",
   "metadata": {},
   "source": [
    "`cd project/seniorthesis/notebooks`\n",
    "\n",
    "`conda list PyCO2SYS`\n",
    "\n",
    "`pip install PyCO2SYS`\n",
    "\n",
    "`pip install git+https://github.com/jbusecke/cmip6_preprocessing.git`\n",
    "\n",
    "`mv *.png ../figures`"
   ]
  },
  {
   "cell_type": "code",
   "execution_count": 1,
   "id": "8c1a603f-33a1-4e24-9451-363fe8df53fe",
   "metadata": {},
   "outputs": [],
   "source": [
    "import xarray as xr\n",
    "import xesmf as xe\n",
    "from cmip6_preprocessing.preprocessing import combined_preprocessing\n",
    "import PyCO2SYS as pyco2 # i have to install this package through terminal for it to work\n",
    "import intake\n",
    "import matplotlib.pyplot as plt\n",
    "import numpy as np\n",
    "import warnings\n",
    "import gsw\n",
    "from cmip6_preprocessing.postprocessing import combine_datasets\n",
    "from cartopy import crs as ccrs\n",
    "import cartopy.feature as cfeature\n",
    "from cartopy.util import add_cyclic_point\n",
    "import cmocean\n",
    "import matplotlib.path as mpath\n",
    "from cmip6_preprocessing.postprocessing import combine_datasets\n",
    "from cmip6_preprocessing.postprocessing import merge_variables\n",
    "from dask.diagnostics import ProgressBar"
   ]
  },
  {
   "cell_type": "code",
   "execution_count": 2,
   "id": "4f458797-34ea-4ec0-906d-961f1a83760b",
   "metadata": {},
   "outputs": [],
   "source": [
    "col = intake.open_esm_datastore(\"https://storage.googleapis.com/cmip6/pangeo-cmip6.json\")\n"
   ]
  },
  {
   "cell_type": "markdown",
   "id": "1031bc3c-507a-4ef5-b739-ca1ecbcf0ac4",
   "metadata": {},
   "source": [
    "# `gn` datasets\n",
    "\n",
    "1. retrieve datasets\n",
    "2. preprocess\n",
    "3. merge variables\n",
    "4. filter for datasets that have all variables \n",
    "5. combine datasets + select first ensemble member"
   ]
  },
  {
   "cell_type": "code",
   "execution_count": 3,
   "id": "12ff87e7-acf7-4c0f-b880-44c2a4b6259a",
   "metadata": {},
   "outputs": [
    {
     "name": "stdout",
     "output_type": "stream",
     "text": [
      "\n",
      "--> The keys in the returned dictionary of datasets are constructed as follows:\n",
      "\t'activity_id.institution_id.source_id.experiment_id.member_id.table_id.variable_id.grid_label.zstore.dcpp_init_year.version'\n"
     ]
    },
    {
     "data": {
      "text/html": [
       "\n",
       "    <div>\n",
       "        <style>\n",
       "            /* Turns off some styling */\n",
       "            progress {\n",
       "                /* gets rid of default border in Firefox and Opera. */\n",
       "                border: none;\n",
       "                /* Needs to be in here for Safari polyfill so background images work as expected. */\n",
       "                background-size: auto;\n",
       "            }\n",
       "            .progress-bar-interrupted, .progress-bar-interrupted::-webkit-progress-bar {\n",
       "                background: #F44336;\n",
       "            }\n",
       "        </style>\n",
       "      <progress value='556' class='' max='556' style='width:300px; height:20px; vertical-align: middle;'></progress>\n",
       "      100.00% [556/556 02:19<00:00]\n",
       "    </div>\n",
       "    "
      ],
      "text/plain": [
       "<IPython.core.display.HTML object>"
      ]
     },
     "metadata": {},
     "output_type": "display_data"
    },
    {
     "name": "stderr",
     "output_type": "stream",
     "text": [
      "/home/jovyan/.local/lib/python3.8/site-packages/cmip6_preprocessing/postprocessing.py:138: UserWarning: CMIP.CNRM-CERFACS.CNRM-ESM2-1.historical.r2i1p1f2.Omon.gn.none.so failed to combine with :cannot compare cftime.DatetimeProlepticGregorian(1850, 1, 16, 12, 0, 0, 0) and cftime.DatetimeGregorian(1850, 1, 16, 12, 0, 0, 0) (different calendars)\n",
      "  warnings.warn(f\"{cmip6_dataset_id(ds)} failed to combine with :{e}\")\n",
      "/home/jovyan/.local/lib/python3.8/site-packages/cmip6_preprocessing/postprocessing.py:138: UserWarning: CMIP.IPSL.IPSL-CM6A-LR.historical.r10i1p1f1.Omon.gn.none.talk failed to combine with :cannot compare cftime.DatetimeGregorian(1850, 1, 16, 12, 0, 0, 0) and cftime.DatetimeProlepticGregorian(1850, 1, 16, 12, 0, 0, 0) (different calendars)\n",
      "  warnings.warn(f\"{cmip6_dataset_id(ds)} failed to combine with :{e}\")\n",
      "/home/jovyan/.local/lib/python3.8/site-packages/cmip6_preprocessing/postprocessing.py:138: UserWarning: CMIP.MOHC.UKESM1-0-LL.historical.r12i1p1f2.Omon.gn.none.fgco2 failed to combine with :indexes along dimension 'time' are not equal\n",
      "  warnings.warn(f\"{cmip6_dataset_id(ds)} failed to combine with :{e}\")\n",
      "/home/jovyan/.local/lib/python3.8/site-packages/cmip6_preprocessing/postprocessing.py:138: UserWarning: CMIP.IPSL.IPSL-CM6A-LR.historical.r2i1p1f1.Omon.gn.none.thetao failed to combine with :indexes along dimension 'lev' are not equal\n",
      "  warnings.warn(f\"{cmip6_dataset_id(ds)} failed to combine with :{e}\")\n"
     ]
    },
    {
     "data": {
      "text/plain": [
       "['IPSL-CM6A-LR.gn.historical.Omon',\n",
       " 'CNRM-ESM2-1.gn.historical.Omon',\n",
       " 'CanESM5.gn.historical.Omon',\n",
       " 'CanESM5-CanOE.gn.historical.Omon',\n",
       " 'UKESM1-0-LL.gn.historical.Omon']"
      ]
     },
     "execution_count": 3,
     "metadata": {},
     "output_type": "execute_result"
    }
   ],
   "source": [
    "variables = ['dissic','talk', 'so', 'thetao', 'fgco2']\n",
    "z_kwargs = {'consolidated': True, 'use_cftime': True}\n",
    "query = dict(experiment_id=['historical'], \n",
    "             table_id=['Omon'], \n",
    "             variable_id=variables,\n",
    "             grid_label=['gn'],\n",
    "              source_id=['IPSL-CM6A-LR', \n",
    "#                          'MPI-ESM1-2-LR', \n",
    "                         'CNRM-ESM2-1', \n",
    "                         'CanESM5', \n",
    "#                          'MPI-ESM1-2-HR', \n",
    "#                          'CMCC-ESM2', \n",
    "#                          'GISS-E2-1-G', \n",
    "                         'UKESM1-0-LL',\n",
    "#                          'ACCESS-ESM1-5', \n",
    "                         'CanESM5-CanOE' \n",
    "#                          'GISS-E2-1-G-CC',\n",
    "#                          'MPI-ESM-1-2-HAM'\n",
    "                        ]\n",
    "            )\n",
    "\n",
    "\n",
    "cat = col.search(**query)\n",
    "\n",
    "# print(cat.df['source_id'].unique())\n",
    "dd_gn = cat.to_dataset_dict(zarr_kwargs=z_kwargs, storage_options={'token': 'anon'},\n",
    "                                preprocess=combined_preprocessing, aggregate=False)\n",
    "\n",
    "dd_gn = merge_variables(dd_gn)\n",
    "# list(dd_new.keys())\n",
    "\n",
    "temp={}\n",
    "for name,item in dd_gn.items():\n",
    "    #print(name)\n",
    "    #print(item.data_vars)\n",
    "    present = item.data_vars\n",
    "    if all(i in present for i in variables):\n",
    "        #print(name)\n",
    "        temp[name]=item\n",
    "dd_gn = temp\n",
    "\n",
    "\n",
    "def pick_first_member(ds_list, **kwargs):\n",
    "    return ds_list[0]\n",
    "\n",
    "dd_gn = combine_datasets(\n",
    "    dd_gn,\n",
    "    pick_first_member,\n",
    "    match_attrs=['source_id', 'grid_label', 'experiment_id', 'table_id']\n",
    ")\n",
    "list(dd_gn.keys())\n",
    "# dd_new_new_gn"
   ]
  },
  {
   "cell_type": "code",
   "execution_count": 4,
   "id": "7c717bcb-c5cc-4896-8761-0ac16803d81c",
   "metadata": {},
   "outputs": [
    {
     "name": "stderr",
     "output_type": "stream",
     "text": [
      "/srv/conda/envs/notebook/lib/python3.8/site-packages/xesmf/frontend.py:496: FutureWarning: ``output_sizes`` should be given in the ``dask_gufunc_kwargs`` parameter. It will be removed as direct parameter in a future version.\n",
      "  ds_out = xr.apply_ufunc(\n",
      "/srv/conda/envs/notebook/lib/python3.8/site-packages/xesmf/frontend.py:496: FutureWarning: ``output_sizes`` should be given in the ``dask_gufunc_kwargs`` parameter. It will be removed as direct parameter in a future version.\n",
      "  ds_out = xr.apply_ufunc(\n",
      "/srv/conda/envs/notebook/lib/python3.8/site-packages/xesmf/frontend.py:496: FutureWarning: ``output_sizes`` should be given in the ``dask_gufunc_kwargs`` parameter. It will be removed as direct parameter in a future version.\n",
      "  ds_out = xr.apply_ufunc(\n",
      "/srv/conda/envs/notebook/lib/python3.8/site-packages/xesmf/frontend.py:496: FutureWarning: ``output_sizes`` should be given in the ``dask_gufunc_kwargs`` parameter. It will be removed as direct parameter in a future version.\n",
      "  ds_out = xr.apply_ufunc(\n",
      "/srv/conda/envs/notebook/lib/python3.8/site-packages/xesmf/frontend.py:496: FutureWarning: ``output_sizes`` should be given in the ``dask_gufunc_kwargs`` parameter. It will be removed as direct parameter in a future version.\n",
      "  ds_out = xr.apply_ufunc(\n"
     ]
    },
    {
     "data": {
      "text/plain": [
       "['IPSL-CM6A-LR.gn.historical.Omon',\n",
       " 'CNRM-ESM2-1.gn.historical.Omon',\n",
       " 'CanESM5.gn.historical.Omon',\n",
       " 'CanESM5-CanOE.gn.historical.Omon',\n",
       " 'UKESM1-0-LL.gn.historical.Omon']"
      ]
     },
     "execution_count": 4,
     "metadata": {},
     "output_type": "execute_result"
    }
   ],
   "source": [
    "# Regrid\n",
    "targetgrid_ds = xe.util.grid_global(1.0, 1.0)\n",
    "targetgrid_ds['lon'] = targetgrid_ds['lon']+180\n",
    "targetgrid_ds['lon_b'] = targetgrid_ds['lon_b']+180\n",
    "newcoords = {'x':targetgrid_ds['lon'][0,:],'y':targetgrid_ds['lat'][:,0]}\n",
    "\n",
    "dd_regrid={}\n",
    "for name,item in dd_gn.items():\n",
    "    regridder = xe.Regridder(item, targetgrid_ds, 'bilinear', \n",
    "                         periodic=True, ignore_degenerate=True)\n",
    "    ds_regridded = regridder(item).assign_coords(**newcoords).chunk({'time':120,'lev':1})\n",
    "    dd_regrid[name]=ds_regridded\n",
    "list(dd_regrid.keys())"
   ]
  },
  {
   "cell_type": "code",
   "execution_count": 5,
   "id": "9ca691e1-07ec-44aa-9071-c91f028bbec4",
   "metadata": {},
   "outputs": [
    {
     "name": "stderr",
     "output_type": "stream",
     "text": [
      "/srv/conda/envs/notebook/lib/python3.8/site-packages/dask/array/numpy_compat.py:39: RuntimeWarning: invalid value encountered in true_divide\n",
      "  x = np.divide(x1, x2, out)\n",
      "/srv/conda/envs/notebook/lib/python3.8/site-packages/dask/array/numpy_compat.py:39: RuntimeWarning: invalid value encountered in true_divide\n",
      "  x = np.divide(x1, x2, out)\n",
      "/srv/conda/envs/notebook/lib/python3.8/site-packages/dask/array/numpy_compat.py:39: RuntimeWarning: invalid value encountered in true_divide\n",
      "  x = np.divide(x1, x2, out)\n",
      "/srv/conda/envs/notebook/lib/python3.8/site-packages/dask/array/numpy_compat.py:39: RuntimeWarning: invalid value encountered in true_divide\n",
      "  x = np.divide(x1, x2, out)\n",
      "/srv/conda/envs/notebook/lib/python3.8/site-packages/dask/array/numpy_compat.py:39: RuntimeWarning: invalid value encountered in true_divide\n",
      "  x = np.divide(x1, x2, out)\n"
     ]
    }
   ],
   "source": [
    "ds = dd_regrid['UKESM1-0-LL.gn.historical.Omon']\n",
    "ds.dissic.isel(time = slice(0,239)).mean('time',keep_attrs=True).to_netcdf('UKESM1_dissic_20yr.nc')\n",
    "ds.talk.isel(time = slice(0,239)).mean('time',keep_attrs=True).to_netcdf('UKESM1_talk_20yr.nc')\n",
    "ds.thetao.isel(time = slice(0,239)).mean('time',keep_attrs=True).to_netcdf('UKESM1_thetao_20yr.nc')\n",
    "ds.so.isel(time = slice(0,239)).mean('time',keep_attrs=True).to_netcdf('UKESM1_so_20yr.nc')\n",
    "ds.fgco2.isel(time = slice(0,239)).mean('time',keep_attrs=True).to_netcdf('UKESM1_fgco2_20yr.nc')"
   ]
  },
  {
   "cell_type": "code",
   "execution_count": 6,
   "id": "4bae99d8-f765-49a9-8477-f5963e5f42e6",
   "metadata": {},
   "outputs": [
    {
     "name": "stderr",
     "output_type": "stream",
     "text": [
      "/srv/conda/envs/notebook/lib/python3.8/site-packages/dask/array/numpy_compat.py:39: RuntimeWarning: invalid value encountered in true_divide\n",
      "  x = np.divide(x1, x2, out)\n",
      "/srv/conda/envs/notebook/lib/python3.8/site-packages/dask/array/numpy_compat.py:39: RuntimeWarning: invalid value encountered in true_divide\n",
      "  x = np.divide(x1, x2, out)\n",
      "/srv/conda/envs/notebook/lib/python3.8/site-packages/dask/array/numpy_compat.py:39: RuntimeWarning: invalid value encountered in true_divide\n",
      "  x = np.divide(x1, x2, out)\n",
      "/srv/conda/envs/notebook/lib/python3.8/site-packages/dask/array/numpy_compat.py:39: RuntimeWarning: invalid value encountered in true_divide\n",
      "  x = np.divide(x1, x2, out)\n",
      "/srv/conda/envs/notebook/lib/python3.8/site-packages/dask/array/numpy_compat.py:39: RuntimeWarning: invalid value encountered in true_divide\n",
      "  x = np.divide(x1, x2, out)\n"
     ]
    }
   ],
   "source": [
    "ds = dd_regrid['IPSL-CM6A-LR.gn.historical.Omon']\n",
    "ds.dissic.isel(time = slice(0,239)).mean('time',keep_attrs=True).to_netcdf('IPSL_dissic_20yr.nc')\n",
    "ds.talk.isel(time = slice(0,239)).mean('time',keep_attrs=True).to_netcdf('IPSL_talk_20yr.nc')\n",
    "ds.thetao.isel(time = slice(0,239)).mean('time',keep_attrs=True).to_netcdf('IPSL_thetao_20yr.nc')\n",
    "ds.so.isel(time = slice(0,239)).mean('time',keep_attrs=True).to_netcdf('IPSL_so_20yr.nc')\n",
    "ds.fgco2.isel(time = slice(0,239)).mean('time',keep_attrs=True).to_netcdf('IPSL_fgco2_20yr.nc')"
   ]
  },
  {
   "cell_type": "code",
   "execution_count": 7,
   "id": "227cfdc8-1e07-4473-9528-4a5e71d98d19",
   "metadata": {},
   "outputs": [
    {
     "name": "stderr",
     "output_type": "stream",
     "text": [
      "/srv/conda/envs/notebook/lib/python3.8/site-packages/dask/array/numpy_compat.py:39: RuntimeWarning: invalid value encountered in true_divide\n",
      "  x = np.divide(x1, x2, out)\n",
      "/srv/conda/envs/notebook/lib/python3.8/site-packages/dask/array/numpy_compat.py:39: RuntimeWarning: invalid value encountered in true_divide\n",
      "  x = np.divide(x1, x2, out)\n",
      "/srv/conda/envs/notebook/lib/python3.8/site-packages/dask/array/numpy_compat.py:39: RuntimeWarning: invalid value encountered in true_divide\n",
      "  x = np.divide(x1, x2, out)\n",
      "/srv/conda/envs/notebook/lib/python3.8/site-packages/dask/array/numpy_compat.py:39: RuntimeWarning: invalid value encountered in true_divide\n",
      "  x = np.divide(x1, x2, out)\n",
      "/srv/conda/envs/notebook/lib/python3.8/site-packages/dask/array/numpy_compat.py:39: RuntimeWarning: invalid value encountered in true_divide\n",
      "  x = np.divide(x1, x2, out)\n"
     ]
    }
   ],
   "source": [
    "ds = dd_regrid['CNRM-ESM2-1.gn.historical.Omon']\n",
    "ds.dissic.isel(time = slice(0,239)).mean('time',keep_attrs=True).to_netcdf('CNRM_dissic_20yr.nc')\n",
    "ds.talk.isel(time = slice(0,239)).mean('time',keep_attrs=True).to_netcdf('CNRM_talk_20yr.nc')\n",
    "ds.thetao.isel(time = slice(0,239)).mean('time',keep_attrs=True).to_netcdf('CNRM_thetao_20yr.nc')\n",
    "ds.so.isel(time = slice(0,239)).mean('time',keep_attrs=True).to_netcdf('CNRM_so_20yr.nc')\n",
    "ds.fgco2.isel(time = slice(0,239)).mean('time',keep_attrs=True).to_netcdf('CNRM_fgco2_20yr.nc')"
   ]
  },
  {
   "cell_type": "code",
   "execution_count": 8,
   "id": "876d464e-adf0-48c0-bcd5-529946875efa",
   "metadata": {},
   "outputs": [
    {
     "name": "stderr",
     "output_type": "stream",
     "text": [
      "/srv/conda/envs/notebook/lib/python3.8/site-packages/dask/array/numpy_compat.py:39: RuntimeWarning: invalid value encountered in true_divide\n",
      "  x = np.divide(x1, x2, out)\n",
      "/srv/conda/envs/notebook/lib/python3.8/site-packages/dask/array/numpy_compat.py:39: RuntimeWarning: invalid value encountered in true_divide\n",
      "  x = np.divide(x1, x2, out)\n",
      "/srv/conda/envs/notebook/lib/python3.8/site-packages/dask/array/numpy_compat.py:39: RuntimeWarning: invalid value encountered in true_divide\n",
      "  x = np.divide(x1, x2, out)\n",
      "/srv/conda/envs/notebook/lib/python3.8/site-packages/dask/array/numpy_compat.py:39: RuntimeWarning: invalid value encountered in true_divide\n",
      "  x = np.divide(x1, x2, out)\n",
      "/srv/conda/envs/notebook/lib/python3.8/site-packages/dask/array/numpy_compat.py:39: RuntimeWarning: invalid value encountered in true_divide\n",
      "  x = np.divide(x1, x2, out)\n"
     ]
    }
   ],
   "source": [
    "ds = dd_regrid['CanESM5-CanOE.gn.historical.Omon']\n",
    "ds.dissic.isel(time = slice(0,239)).mean('time',keep_attrs=True).to_netcdf('CanESM5CanOE_dissic_20yr.nc')\n",
    "ds.talk.isel(time = slice(0,239)).mean('time',keep_attrs=True).to_netcdf('CanESM5CanOE_talk_20yr.nc')\n",
    "ds.thetao.isel(time = slice(0,239)).mean('time',keep_attrs=True).to_netcdf('CanESM5CanOE_thetao_20yr.nc')\n",
    "ds.so.isel(time = slice(0,239)).mean('time',keep_attrs=True).to_netcdf('CanESM5CanOE_so_20yr.nc')\n",
    "ds.fgco2.isel(time = slice(0,239)).mean('time',keep_attrs=True).to_netcdf('CanESM5CanOE_fgco2_20yr.nc')"
   ]
  },
  {
   "cell_type": "code",
   "execution_count": 9,
   "id": "d71f28b7-1381-411d-9e83-598b9c48eb76",
   "metadata": {},
   "outputs": [
    {
     "name": "stderr",
     "output_type": "stream",
     "text": [
      "/srv/conda/envs/notebook/lib/python3.8/site-packages/dask/array/numpy_compat.py:39: RuntimeWarning: invalid value encountered in true_divide\n",
      "  x = np.divide(x1, x2, out)\n",
      "/srv/conda/envs/notebook/lib/python3.8/site-packages/dask/array/numpy_compat.py:39: RuntimeWarning: invalid value encountered in true_divide\n",
      "  x = np.divide(x1, x2, out)\n",
      "/srv/conda/envs/notebook/lib/python3.8/site-packages/dask/array/numpy_compat.py:39: RuntimeWarning: invalid value encountered in true_divide\n",
      "  x = np.divide(x1, x2, out)\n",
      "/srv/conda/envs/notebook/lib/python3.8/site-packages/dask/array/numpy_compat.py:39: RuntimeWarning: invalid value encountered in true_divide\n",
      "  x = np.divide(x1, x2, out)\n",
      "/srv/conda/envs/notebook/lib/python3.8/site-packages/dask/array/numpy_compat.py:39: RuntimeWarning: invalid value encountered in true_divide\n",
      "  x = np.divide(x1, x2, out)\n"
     ]
    }
   ],
   "source": [
    "ds = dd_regrid['CanESM5.gn.historical.Omon']\n",
    "ds.dissic.isel(time = slice(0,239)).mean('time',keep_attrs=True).to_netcdf('CanESM5_dissic_20yr.nc')\n",
    "ds.talk.isel(time = slice(0,239)).mean('time',keep_attrs=True).to_netcdf('CanESM5_talk_20yr.nc')\n",
    "ds.thetao.isel(time = slice(0,239)).mean('time',keep_attrs=True).to_netcdf('CanESM5_thetao_20yr.nc')\n",
    "ds.so.isel(time = slice(0,239)).mean('time',keep_attrs=True).to_netcdf('CanESM5_so_20yr.nc')\n",
    "ds.fgco2.isel(time = slice(0,239)).mean('time',keep_attrs=True).to_netcdf('CanESM5_fgco2_20yr.nc')"
   ]
  },
  {
   "cell_type": "code",
   "execution_count": 12,
   "id": "28056f01-27bd-4e0a-b3e5-1a51fe1dfec6",
   "metadata": {},
   "outputs": [
    {
     "data": {
      "text/plain": [
       "23.328"
      ]
     },
     "execution_count": 12,
     "metadata": {},
     "output_type": "execute_result"
    }
   ],
   "source": [
    "ds.dissic.isel(time = slice(0,239)).mean('time',keep_attrs=True).nbytes/1e6"
   ]
  },
  {
   "cell_type": "markdown",
   "id": "bf3e08fb-96eb-442e-8cfa-431ba8feb1c5",
   "metadata": {},
   "source": [
    "# `gr` datasets"
   ]
  },
  {
   "cell_type": "code",
   "execution_count": 10,
   "id": "5321d372-4d50-417b-ba21-4ef7de9787ca",
   "metadata": {},
   "outputs": [
    {
     "name": "stdout",
     "output_type": "stream",
     "text": [
      "\n",
      "--> The keys in the returned dictionary of datasets are constructed as follows:\n",
      "\t'activity_id.institution_id.source_id.experiment_id.member_id.table_id.variable_id.grid_label.zstore.dcpp_init_year.version'\n"
     ]
    },
    {
     "data": {
      "text/html": [
       "\n",
       "    <div>\n",
       "        <style>\n",
       "            /* Turns off some styling */\n",
       "            progress {\n",
       "                /* gets rid of default border in Firefox and Opera. */\n",
       "                border: none;\n",
       "                /* Needs to be in here for Safari polyfill so background images work as expected. */\n",
       "                background-size: auto;\n",
       "            }\n",
       "            .progress-bar-interrupted, .progress-bar-interrupted::-webkit-progress-bar {\n",
       "                background: #F44336;\n",
       "            }\n",
       "        </style>\n",
       "      <progress value='125' class='' max='125' style='width:300px; height:20px; vertical-align: middle;'></progress>\n",
       "      100.00% [125/125 00:37<00:00]\n",
       "    </div>\n",
       "    "
      ],
      "text/plain": [
       "<IPython.core.display.HTML object>"
      ]
     },
     "metadata": {},
     "output_type": "display_data"
    },
    {
     "name": "stderr",
     "output_type": "stream",
     "text": [
      "/home/jovyan/.local/lib/python3.8/site-packages/cmip6_preprocessing/postprocessing.py:138: UserWarning: CMIP.NCAR.CESM2-WACCM-FV2.historical.r3i1p1f1.Omon.gr.none.fgco2 failed to combine with :indexes along dimension 'time' are not equal\n",
      "  warnings.warn(f\"{cmip6_dataset_id(ds)} failed to combine with :{e}\")\n",
      "/home/jovyan/.local/lib/python3.8/site-packages/cmip6_preprocessing/postprocessing.py:138: UserWarning: CMIP.NCAR.CESM2.historical.r10i1p1f1.Omon.gr.none.dissic failed to combine with :indexes along dimension 'time' are not equal\n",
      "  warnings.warn(f\"{cmip6_dataset_id(ds)} failed to combine with :{e}\")\n",
      "/home/jovyan/.local/lib/python3.8/site-packages/cmip6_preprocessing/postprocessing.py:138: UserWarning: CMIP.NCAR.CESM2-FV2.historical.r3i1p1f1.Omon.gr.none.talk failed to combine with :indexes along dimension 'time' are not equal\n",
      "  warnings.warn(f\"{cmip6_dataset_id(ds)} failed to combine with :{e}\")\n",
      "/home/jovyan/.local/lib/python3.8/site-packages/cmip6_preprocessing/postprocessing.py:138: UserWarning: CMIP.NCAR.CESM2-WACCM-FV2.historical.r2i1p1f1.Omon.gr.none.fgco2 failed to combine with :indexes along dimension 'time' are not equal\n",
      "  warnings.warn(f\"{cmip6_dataset_id(ds)} failed to combine with :{e}\")\n",
      "/home/jovyan/.local/lib/python3.8/site-packages/cmip6_preprocessing/postprocessing.py:138: UserWarning: CMIP.NCAR.CESM2-FV2.historical.r2i1p1f1.Omon.gr.none.dissic failed to combine with :indexes along dimension 'time' are not equal\n",
      "  warnings.warn(f\"{cmip6_dataset_id(ds)} failed to combine with :{e}\")\n"
     ]
    },
    {
     "data": {
      "text/plain": [
       "['CESM2-WACCM.gr.historical.Omon',\n",
       " 'CESM2.gr.historical.Omon',\n",
       " 'GFDL-ESM4.gr.historical.Omon',\n",
       " 'MRI-ESM2-0.gr.historical.Omon',\n",
       " 'CESM2-WACCM-FV2.gr.historical.Omon',\n",
       " 'GFDL-CM4.gr.historical.Omon',\n",
       " 'CESM2-FV2.gr.historical.Omon']"
      ]
     },
     "execution_count": 10,
     "metadata": {},
     "output_type": "execute_result"
    }
   ],
   "source": [
    "variables = ['dissic','talk', 'so', 'thetao', 'fgco2']\n",
    "z_kwargs = {'consolidated': True, 'use_cftime': True}\n",
    "query = dict(experiment_id=['historical'], \n",
    "             table_id=['Omon'], \n",
    "             variable_id=variables,\n",
    "             grid_label=['gr'],\n",
    "              source_id=['GFDL-ESM4', 'CESM2-WACCM', 'CESM2', \n",
    "                         'CESM2-FV2', 'MRI-ESM2-0', \n",
    "                         'GFDL-CM4', 'CESM2-WACCM-FV2']\n",
    "            )\n",
    "\n",
    "\n",
    "cat = col.search(**query)\n",
    "\n",
    "# print(cat.df['source_id'].unique())\n",
    "dd_gr = cat.to_dataset_dict(zarr_kwargs=z_kwargs, storage_options={'token': 'anon'},\n",
    "                                preprocess=combined_preprocessing, aggregate=False)\n",
    "\n",
    "dd_gr = merge_variables(dd_gr)\n",
    "\n",
    "temp={}\n",
    "for name,item in dd_gr.items():\n",
    "    #print(name)\n",
    "    #print(item.data_vars)\n",
    "    present = item.data_vars\n",
    "    if all(i in present for i in variables):\n",
    "        #print(name)\n",
    "        temp[name]=item\n",
    "dd_gr = temp\n",
    "# list(dd_new_gr.keys())\n",
    "\n",
    "dd_gr = combine_datasets(\n",
    "    dd_gr,\n",
    "    pick_first_member,\n",
    "    match_attrs=['source_id', 'grid_label', 'experiment_id', 'table_id']\n",
    ")\n",
    "list(dd_gr.keys())\n",
    "# dd_new_new_gr"
   ]
  },
  {
   "cell_type": "code",
   "execution_count": 11,
   "id": "a271e013-44e7-4460-b03c-25b277129289",
   "metadata": {},
   "outputs": [
    {
     "name": "stderr",
     "output_type": "stream",
     "text": [
      "/srv/conda/envs/notebook/lib/python3.8/site-packages/dask/array/numpy_compat.py:39: RuntimeWarning: invalid value encountered in true_divide\n",
      "  x = np.divide(x1, x2, out)\n",
      "/srv/conda/envs/notebook/lib/python3.8/site-packages/dask/array/numpy_compat.py:39: RuntimeWarning: invalid value encountered in true_divide\n",
      "  x = np.divide(x1, x2, out)\n",
      "/srv/conda/envs/notebook/lib/python3.8/site-packages/dask/array/numpy_compat.py:39: RuntimeWarning: invalid value encountered in true_divide\n",
      "  x = np.divide(x1, x2, out)\n",
      "/srv/conda/envs/notebook/lib/python3.8/site-packages/dask/array/numpy_compat.py:39: RuntimeWarning: invalid value encountered in true_divide\n",
      "  x = np.divide(x1, x2, out)\n",
      "/srv/conda/envs/notebook/lib/python3.8/site-packages/dask/array/numpy_compat.py:39: RuntimeWarning: invalid value encountered in true_divide\n",
      "  x = np.divide(x1, x2, out)\n"
     ]
    }
   ],
   "source": [
    "ds= dd_gr['CESM2-FV2.gr.historical.Omon']\n",
    "ds.dissic.isel(time = slice(0,239)).mean('time',keep_attrs=True).to_netcdf('CESM2-FV2_dissic_20yr.nc')\n",
    "ds.talk.isel(time = slice(0,239)).mean('time',keep_attrs=True).to_netcdf('CESM2-FV2_talk_20yr.nc')\n",
    "ds.thetao.isel(time = slice(0,239)).mean('time',keep_attrs=True).to_netcdf('CESM2-FV2_thetao_20yr.nc')\n",
    "ds.so.isel(time = slice(0,239)).mean('time',keep_attrs=True).to_netcdf('CESM2-FV2_so_20yr.nc')\n",
    "ds.fgco2.isel(time = slice(0,239)).mean('time',keep_attrs=True).to_netcdf('CESM2-FV2_fgco2_20yr.nc')"
   ]
  },
  {
   "cell_type": "code",
   "execution_count": 12,
   "id": "2b9764f0-df24-416e-941e-fda8ff1919f2",
   "metadata": {},
   "outputs": [
    {
     "name": "stderr",
     "output_type": "stream",
     "text": [
      "/srv/conda/envs/notebook/lib/python3.8/site-packages/dask/array/numpy_compat.py:39: RuntimeWarning: invalid value encountered in true_divide\n",
      "  x = np.divide(x1, x2, out)\n",
      "/srv/conda/envs/notebook/lib/python3.8/site-packages/dask/array/numpy_compat.py:39: RuntimeWarning: invalid value encountered in true_divide\n",
      "  x = np.divide(x1, x2, out)\n",
      "/srv/conda/envs/notebook/lib/python3.8/site-packages/dask/array/numpy_compat.py:39: RuntimeWarning: invalid value encountered in true_divide\n",
      "  x = np.divide(x1, x2, out)\n",
      "/srv/conda/envs/notebook/lib/python3.8/site-packages/dask/array/numpy_compat.py:39: RuntimeWarning: invalid value encountered in true_divide\n",
      "  x = np.divide(x1, x2, out)\n",
      "/srv/conda/envs/notebook/lib/python3.8/site-packages/dask/array/numpy_compat.py:39: RuntimeWarning: invalid value encountered in true_divide\n",
      "  x = np.divide(x1, x2, out)\n"
     ]
    }
   ],
   "source": [
    "ds= dd_gr['CESM2-WACCM-FV2.gr.historical.Omon']\n",
    "ds.dissic.isel(time = slice(0,239)).mean('time',keep_attrs=True).to_netcdf('CESM2-WACCM-FV2_dissic_20yr.nc')\n",
    "ds.talk.isel(time = slice(0,239)).mean('time',keep_attrs=True).to_netcdf('CESM2-WACCM-FV2_talk_20yr.nc')\n",
    "ds.thetao.isel(time = slice(0,239)).mean('time',keep_attrs=True).to_netcdf('CESM2-WACCM-FV2_thetao_20yr.nc')\n",
    "ds.so.isel(time = slice(0,239)).mean('time',keep_attrs=True).to_netcdf('CESM2-WACCM-FV2_so_20yr.nc')\n",
    "ds.fgco2.isel(time = slice(0,239)).mean('time',keep_attrs=True).to_netcdf('CESM2-WACCM-FV2_fgco2_20yr.nc')"
   ]
  },
  {
   "cell_type": "code",
   "execution_count": 13,
   "id": "c082378f-7ec5-459d-810a-5d4ffe56a7ac",
   "metadata": {},
   "outputs": [
    {
     "name": "stderr",
     "output_type": "stream",
     "text": [
      "/srv/conda/envs/notebook/lib/python3.8/site-packages/dask/array/numpy_compat.py:39: RuntimeWarning: invalid value encountered in true_divide\n",
      "  x = np.divide(x1, x2, out)\n",
      "/srv/conda/envs/notebook/lib/python3.8/site-packages/dask/array/numpy_compat.py:39: RuntimeWarning: invalid value encountered in true_divide\n",
      "  x = np.divide(x1, x2, out)\n",
      "/srv/conda/envs/notebook/lib/python3.8/site-packages/dask/array/numpy_compat.py:39: RuntimeWarning: invalid value encountered in true_divide\n",
      "  x = np.divide(x1, x2, out)\n",
      "/srv/conda/envs/notebook/lib/python3.8/site-packages/dask/array/numpy_compat.py:39: RuntimeWarning: invalid value encountered in true_divide\n",
      "  x = np.divide(x1, x2, out)\n",
      "/srv/conda/envs/notebook/lib/python3.8/site-packages/dask/array/numpy_compat.py:39: RuntimeWarning: invalid value encountered in true_divide\n",
      "  x = np.divide(x1, x2, out)\n"
     ]
    }
   ],
   "source": [
    "ds= dd_gr['CESM2-WACCM.gr.historical.Omon']\n",
    "ds.dissic.isel(time = slice(0,239)).mean('time',keep_attrs=True).to_netcdf('CESM2-WACCM_dissic_20yr.nc')\n",
    "ds.talk.isel(time = slice(0,239)).mean('time',keep_attrs=True).to_netcdf('CESM2-WACCM_talk_20yr.nc')\n",
    "ds.thetao.isel(time = slice(0,239)).mean('time',keep_attrs=True).to_netcdf('CESM2-WACCM_thetao_20yr.nc')\n",
    "ds.so.isel(time = slice(0,239)).mean('time',keep_attrs=True).to_netcdf('CESM2-WACCM_so_20yr.nc')\n",
    "ds.fgco2.isel(time = slice(0,239)).mean('time',keep_attrs=True).to_netcdf('CESM2-WACCM_fgco2_20yr.nc')"
   ]
  },
  {
   "cell_type": "code",
   "execution_count": 14,
   "id": "5aff70df-03b8-41f6-83c0-68d7d2d5b99b",
   "metadata": {},
   "outputs": [
    {
     "name": "stderr",
     "output_type": "stream",
     "text": [
      "/srv/conda/envs/notebook/lib/python3.8/site-packages/dask/array/numpy_compat.py:39: RuntimeWarning: invalid value encountered in true_divide\n",
      "  x = np.divide(x1, x2, out)\n",
      "/srv/conda/envs/notebook/lib/python3.8/site-packages/dask/array/numpy_compat.py:39: RuntimeWarning: invalid value encountered in true_divide\n",
      "  x = np.divide(x1, x2, out)\n",
      "/srv/conda/envs/notebook/lib/python3.8/site-packages/dask/array/numpy_compat.py:39: RuntimeWarning: invalid value encountered in true_divide\n",
      "  x = np.divide(x1, x2, out)\n",
      "/srv/conda/envs/notebook/lib/python3.8/site-packages/dask/array/numpy_compat.py:39: RuntimeWarning: invalid value encountered in true_divide\n",
      "  x = np.divide(x1, x2, out)\n",
      "/srv/conda/envs/notebook/lib/python3.8/site-packages/dask/array/numpy_compat.py:39: RuntimeWarning: invalid value encountered in true_divide\n",
      "  x = np.divide(x1, x2, out)\n"
     ]
    }
   ],
   "source": [
    "ds= dd_gr['CESM2.gr.historical.Omon']\n",
    "ds.dissic.isel(time = slice(0,239)).mean('time',keep_attrs=True).to_netcdf('CESM2_dissic_20yr.nc')\n",
    "ds.talk.isel(time = slice(0,239)).mean('time',keep_attrs=True).to_netcdf('CESM2_talk_20yr.nc')\n",
    "ds.thetao.isel(time = slice(0,239)).mean('time',keep_attrs=True).to_netcdf('CESM2_thetao_20yr.nc')\n",
    "ds.so.isel(time = slice(0,239)).mean('time',keep_attrs=True).to_netcdf('CESM2_so_20yr.nc')\n",
    "ds.fgco2.isel(time = slice(0,239)).mean('time',keep_attrs=True).to_netcdf('CESM2_fgco2_20yr.nc')"
   ]
  },
  {
   "cell_type": "code",
   "execution_count": 15,
   "id": "2402a4d5-926d-45ad-a9ce-ad681565a20f",
   "metadata": {},
   "outputs": [
    {
     "name": "stderr",
     "output_type": "stream",
     "text": [
      "/srv/conda/envs/notebook/lib/python3.8/site-packages/dask/array/numpy_compat.py:39: RuntimeWarning: invalid value encountered in true_divide\n",
      "  x = np.divide(x1, x2, out)\n",
      "/srv/conda/envs/notebook/lib/python3.8/site-packages/dask/array/numpy_compat.py:39: RuntimeWarning: invalid value encountered in true_divide\n",
      "  x = np.divide(x1, x2, out)\n",
      "/srv/conda/envs/notebook/lib/python3.8/site-packages/dask/array/numpy_compat.py:39: RuntimeWarning: invalid value encountered in true_divide\n",
      "  x = np.divide(x1, x2, out)\n",
      "/srv/conda/envs/notebook/lib/python3.8/site-packages/dask/array/numpy_compat.py:39: RuntimeWarning: invalid value encountered in true_divide\n",
      "  x = np.divide(x1, x2, out)\n",
      "/srv/conda/envs/notebook/lib/python3.8/site-packages/dask/array/numpy_compat.py:39: RuntimeWarning: invalid value encountered in true_divide\n",
      "  x = np.divide(x1, x2, out)\n"
     ]
    }
   ],
   "source": [
    "ds= dd_gr['GFDL-CM4.gr.historical.Omon']\n",
    "ds.dissic.isel(time = slice(0,239)).mean('time',keep_attrs=True).to_netcdf('GFDL-CM4_dissic_20yr.nc')\n",
    "ds.talk.isel(time = slice(0,239)).mean('time',keep_attrs=True).to_netcdf('GFDL-CM4_talk_20yr.nc')\n",
    "ds.thetao.isel(time = slice(0,239)).mean('time',keep_attrs=True).to_netcdf('GFDL-CM4_thetao_20yr.nc')\n",
    "ds.so.isel(time = slice(0,239)).mean('time',keep_attrs=True).to_netcdf('GFDL-CM4_so_20yr.nc')\n",
    "ds.fgco2.isel(time = slice(0,239)).mean('time',keep_attrs=True).to_netcdf('GFDL-CM4_fgco2_20yr.nc')"
   ]
  },
  {
   "cell_type": "code",
   "execution_count": 16,
   "id": "3d6e8d27-48c4-4a39-82a4-60b9b25d5919",
   "metadata": {},
   "outputs": [
    {
     "name": "stderr",
     "output_type": "stream",
     "text": [
      "/srv/conda/envs/notebook/lib/python3.8/site-packages/dask/array/numpy_compat.py:39: RuntimeWarning: invalid value encountered in true_divide\n",
      "  x = np.divide(x1, x2, out)\n",
      "/srv/conda/envs/notebook/lib/python3.8/site-packages/dask/array/numpy_compat.py:39: RuntimeWarning: invalid value encountered in true_divide\n",
      "  x = np.divide(x1, x2, out)\n",
      "/srv/conda/envs/notebook/lib/python3.8/site-packages/dask/array/numpy_compat.py:39: RuntimeWarning: invalid value encountered in true_divide\n",
      "  x = np.divide(x1, x2, out)\n",
      "/srv/conda/envs/notebook/lib/python3.8/site-packages/dask/array/numpy_compat.py:39: RuntimeWarning: invalid value encountered in true_divide\n",
      "  x = np.divide(x1, x2, out)\n",
      "/srv/conda/envs/notebook/lib/python3.8/site-packages/dask/array/numpy_compat.py:39: RuntimeWarning: invalid value encountered in true_divide\n",
      "  x = np.divide(x1, x2, out)\n"
     ]
    }
   ],
   "source": [
    "ds= dd_gr['GFDL-ESM4.gr.historical.Omon']\n",
    "ds.dissic.isel(time = slice(0,239)).mean('time',keep_attrs=True).to_netcdf('GFDL-ESM4_dissic_20yr.nc')\n",
    "ds.talk.isel(time = slice(0,239)).mean('time',keep_attrs=True).to_netcdf('GFDL-ESM4_talk_20yr.nc')\n",
    "ds.thetao.isel(time = slice(0,239)).mean('time',keep_attrs=True).to_netcdf('GFDL-ESM4_thetao_20yr.nc')\n",
    "ds.so.isel(time = slice(0,239)).mean('time',keep_attrs=True).to_netcdf('GFDL-ESM4_so_20yr.nc')\n",
    "ds.fgco2.isel(time = slice(0,239)).mean('time',keep_attrs=True).to_netcdf('GFDL-ESM4_fgco2_20yr.nc')"
   ]
  },
  {
   "cell_type": "code",
   "execution_count": null,
   "id": "44feb1f0-b7e1-4fe2-a498-01be0b487be2",
   "metadata": {},
   "outputs": [
    {
     "name": "stderr",
     "output_type": "stream",
     "text": [
      "/srv/conda/envs/notebook/lib/python3.8/site-packages/dask/array/numpy_compat.py:39: RuntimeWarning: invalid value encountered in true_divide\n",
      "  x = np.divide(x1, x2, out)\n",
      "/srv/conda/envs/notebook/lib/python3.8/site-packages/dask/array/numpy_compat.py:39: RuntimeWarning: invalid value encountered in true_divide\n",
      "  x = np.divide(x1, x2, out)\n"
     ]
    }
   ],
   "source": [
    "ds= dd_gr['MRI-ESM2-0.gr.historical.Omon']\n",
    "ds.dissic.isel(time = slice(0,239)).mean('time',keep_attrs=True).to_netcdf('MRI-ESM2-0_dissic_20yr.nc')\n",
    "ds.talk.isel(time = slice(0,239)).mean('time',keep_attrs=True).to_netcdf('MRI-ESM2-0_talk_20yr.nc')\n",
    "ds.thetao.isel(time = slice(0,239)).mean('time',keep_attrs=True).to_netcdf('MRI-ESM2-0_thetao_20yr.nc')\n",
    "ds.so.isel(time = slice(0,239)).mean('time',keep_attrs=True).to_netcdf('MRI-ESM2-0_so_20yr.nc')\n",
    "ds.fgco2.isel(time = slice(0,239)).mean('time',keep_attrs=True).to_netcdf('MRI-ESM2-0_fgco2_20yr.nc')"
   ]
  },
  {
   "cell_type": "code",
   "execution_count": 9,
   "id": "7eeebdbe-4f6d-4006-a8ed-87d56261f070",
   "metadata": {},
   "outputs": [
    {
     "data": {
      "text/plain": [
       "['CESM2-WACCM.gr.historical.Omon',\n",
       " 'CESM2.gr.historical.Omon',\n",
       " 'CESM2-WACCM-FV2.gr.historical.Omon',\n",
       " 'GFDL-ESM4.gr.historical.Omon',\n",
       " 'CESM2-FV2.gr.historical.Omon',\n",
       " 'GFDL-CM4.gr.historical.Omon',\n",
       " 'MRI-ESM2-0.gr.historical.Omon',\n",
       " 'CNRM-ESM2-1.gn.historical.Omon',\n",
       " 'IPSL-CM6A-LR.gn.historical.Omon',\n",
       " 'CanESM5.gn.historical.Omon',\n",
       " 'UKESM1-0-LL.gn.historical.Omon',\n",
       " 'CanESM5-CanOE.gn.historical.Omon']"
      ]
     },
     "execution_count": 9,
     "metadata": {},
     "output_type": "execute_result"
    }
   ],
   "source": [
    "dd = {**dd_gr, **dd_regrid}\n",
    "list(dd.keys())"
   ]
  }
 ],
 "metadata": {
  "kernelspec": {
   "display_name": "Python 3",
   "language": "python",
   "name": "python3"
  },
  "language_info": {
   "codemirror_mode": {
    "name": "ipython",
    "version": 3
   },
   "file_extension": ".py",
   "mimetype": "text/x-python",
   "name": "python",
   "nbconvert_exporter": "python",
   "pygments_lexer": "ipython3",
   "version": "3.8.8"
  }
 },
 "nbformat": 4,
 "nbformat_minor": 5
}
