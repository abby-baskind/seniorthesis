{
 "cells": [
  {
   "cell_type": "code",
   "execution_count": 1,
   "id": "willing-hypothetical",
   "metadata": {},
   "outputs": [],
   "source": [
    "import xarray as xr\n",
    "from cmip6_preprocessing.preprocessing import combined_preprocessing\n",
    "# import PyCO2SYS as pyco2\n",
    "import intake\n",
    "import matplotlib.pyplot as plt\n",
    "import numpy as np\n",
    "import warnings\n",
    "import gsw\n",
    "warnings.filterwarnings(\"ignore\")"
   ]
  },
  {
   "cell_type": "code",
   "execution_count": 2,
   "id": "accessible-lesbian",
   "metadata": {},
   "outputs": [],
   "source": [
    "col = intake.open_esm_datastore(\"https://storage.googleapis.com/cmip6/pangeo-cmip6.json\")"
   ]
  },
  {
   "cell_type": "code",
   "execution_count": 3,
   "id": "differential-identity",
   "metadata": {},
   "outputs": [
    {
     "data": {
      "text/plain": [
       "array(['GFDL-CM4', 'GFDL-ESM4', 'CESM2', 'CESM2-WACCM', 'GISS-E2-1-H',\n",
       "       'NorCPM1', 'NorESM2-MM', 'CESM2-WACCM-FV2', 'CESM2-FV2',\n",
       "       'E3SM-1-0', 'MRI-ESM2-0', 'E3SM-1-1', 'E3SM-1-1-ECA', 'NorESM2-LM'],\n",
       "      dtype=object)"
      ]
     },
     "execution_count": 3,
     "metadata": {},
     "output_type": "execute_result"
    }
   ],
   "source": [
    "cat_so_mon = col.search(variable_id= 'so', experiment_id= 'piControl', table_id = 'Omon', grid_label = 'gr')\n",
    "cat_so_mon.df['source_id'].unique()\n",
    "# so1 = [*cat_so_mon]\n",
    "# print(x)"
   ]
  },
  {
   "cell_type": "code",
   "execution_count": 6,
   "id": "anonymous-jacob",
   "metadata": {},
   "outputs": [
    {
     "data": {
      "text/plain": [
       "array(['GFDL-CM4', 'GFDL-ESM4', 'CESM2', 'CESM2-WACCM', 'GISS-E2-1-H',\n",
       "       'NorCPM1', 'NorESM2-MM', 'CESM2-WACCM-FV2', 'CESM2-FV2',\n",
       "       'MRI-ESM2-0', 'E3SM-1-0', 'E3SM-1-1', 'E3SM-1-1-ECA', 'NorESM2-LM'],\n",
       "      dtype=object)"
      ]
     },
     "execution_count": 6,
     "metadata": {},
     "output_type": "execute_result"
    }
   ],
   "source": [
    "cat_thetao_mon = col.search(variable_id= 'thetao', experiment_id= 'piControl', table_id = 'Omon', grid_label = 'gr')\n",
    "cat_thetao_mon.df['source_id'].unique()\n",
    "# thetao1 = [*cat_thetao_mon]\n",
    "# print(thetao1)"
   ]
  },
  {
   "cell_type": "code",
   "execution_count": 7,
   "id": "advisory-implement",
   "metadata": {},
   "outputs": [
    {
     "data": {
      "text/plain": [
       "array(['GFDL-CM4', 'GFDL-ESM4', 'CESM2', 'CESM2-WACCM', 'CESM2-FV2',\n",
       "       'CESM2-WACCM-FV2', 'NorESM2-LM'], dtype=object)"
      ]
     },
     "execution_count": 7,
     "metadata": {},
     "output_type": "execute_result"
    }
   ],
   "source": [
    "cat_dissic_mon = col.search(variable_id= 'dissic', experiment_id= 'piControl', table_id = 'Omon', grid_label = 'gr')\n",
    "cat_dissic_mon.df['source_id'].unique()\n",
    "# dissic1 = [*cat_dissic_mon]\n",
    "# print(dissic1)"
   ]
  },
  {
   "cell_type": "code",
   "execution_count": 8,
   "id": "educational-drain",
   "metadata": {},
   "outputs": [
    {
     "data": {
      "text/plain": [
       "array(['GFDL-CM4', 'GFDL-ESM4', 'CESM2', 'CESM2-WACCM', 'CESM2-WACCM-FV2',\n",
       "       'CESM2-FV2'], dtype=object)"
      ]
     },
     "execution_count": 8,
     "metadata": {},
     "output_type": "execute_result"
    }
   ],
   "source": [
    "cat_talk_mon = col.search(variable_id= 'talk', experiment_id= 'piControl', table_id = 'Omon', grid_label = 'gr')\n",
    "cat_talk_mon.df['source_id'].unique()\n",
    "# talk1 = [*cat_talk_mon]\n",
    "# print(talk1)"
   ]
  },
  {
   "cell_type": "code",
   "execution_count": 9,
   "id": "behind-classics",
   "metadata": {},
   "outputs": [
    {
     "data": {
      "text/plain": [
       "array([], dtype=object)"
      ]
     },
     "execution_count": 9,
     "metadata": {},
     "output_type": "execute_result"
    }
   ],
   "source": [
    "cat_so_yr = col.search(variable_id= 'so', experiment_id= 'piControl', table_id = 'Oyr', grid_label = 'gr')\n",
    "cat_so_yr.df['source_id'].unique()\n",
    "# so2 = [*cat_so_yr]"
   ]
  },
  {
   "cell_type": "code",
   "execution_count": 10,
   "id": "international-willow",
   "metadata": {},
   "outputs": [
    {
     "data": {
      "text/plain": [
       "array([], dtype=object)"
      ]
     },
     "execution_count": 10,
     "metadata": {},
     "output_type": "execute_result"
    }
   ],
   "source": [
    "cat_thetao_yr = col.search(variable_id= 'thetao', experiment_id= 'piControl', table_id = 'Oyr', grid_label = 'gr')\n",
    "cat_thetao_yr.df['source_id'].unique()\n",
    "# thetao2 = [*cat_thetao_yr]\n",
    "# print(thetao2)"
   ]
  },
  {
   "cell_type": "code",
   "execution_count": 11,
   "id": "conventional-casino",
   "metadata": {},
   "outputs": [
    {
     "data": {
      "text/plain": [
       "array(['GFDL-ESM4', 'CESM2-WACCM', 'CESM2', 'NorESM1-F',\n",
       "       'CESM2-WACCM-FV2', 'CESM2-FV2', 'MRI-ESM2-0', 'NorESM2-LM'],\n",
       "      dtype=object)"
      ]
     },
     "execution_count": 11,
     "metadata": {},
     "output_type": "execute_result"
    }
   ],
   "source": [
    "cat_dissic_yr = col.search(variable_id= 'dissic', experiment_id= 'piControl', table_id = 'Oyr', grid_label = 'gr')\n",
    "cat_dissic_yr.df['source_id'].unique()\n",
    "# dissic2 = [*cat_dissic_yr]\n",
    "# print(dissic2)"
   ]
  },
  {
   "cell_type": "code",
   "execution_count": 12,
   "id": "northern-active",
   "metadata": {},
   "outputs": [
    {
     "data": {
      "text/plain": [
       "array(['GFDL-ESM4', 'CESM2-WACCM', 'CESM2', 'NorESM1-F',\n",
       "       'CESM2-WACCM-FV2', 'CESM2-FV2', 'MRI-ESM2-0', 'NorESM2-LM'],\n",
       "      dtype=object)"
      ]
     },
     "execution_count": 12,
     "metadata": {},
     "output_type": "execute_result"
    }
   ],
   "source": [
    "cat_talk_yr = col.search(variable_id= 'talk', experiment_id= 'piControl', table_id = 'Oyr', grid_label = 'gr')\n",
    "cat_talk_yr.df['source_id'].unique()\n",
    "# talk2 = [*cat_talk_yr]\n",
    "# print(talk2)"
   ]
  },
  {
   "cell_type": "code",
   "execution_count": 34,
   "id": "bigger-resource",
   "metadata": {},
   "outputs": [],
   "source": [
    "so_mon = cat_so_mon.df['source_id'].unique()\n",
    "thetao_mon = cat_thetao_mon.df['source_id'].unique()\n",
    "dissic_mon = cat_dissic_mon.df['source_id'].unique()\n",
    "talk_mon = cat_talk_mon.df['source_id'].unique()\n",
    "so_yr = cat_so_yr.df['source_id'].unique()\n",
    "thetao_yr = cat_thetao_yr.df['source_id'].unique()\n",
    "talk_yr = cat_talk_yr.df['source_id'].unique()\n",
    "dissic_yr = cat_dissic_yr.df['source_id'].unique()"
   ]
  },
  {
   "cell_type": "code",
   "execution_count": 39,
   "id": "confidential-neutral",
   "metadata": {},
   "outputs": [
    {
     "name": "stdout",
     "output_type": "stream",
     "text": [
      "so_mon:  ['GFDL-CM4' 'GFDL-ESM4' 'CESM2' 'CESM2-WACCM' 'GISS-E2-1-H' 'NorCPM1'\n",
      " 'NorESM2-MM' 'CESM2-WACCM-FV2' 'CESM2-FV2' 'E3SM-1-0' 'MRI-ESM2-0'\n",
      " 'E3SM-1-1' 'E3SM-1-1-ECA' 'NorESM2-LM']\n",
      "\n",
      "thetao_mon:  ['GFDL-CM4' 'GFDL-ESM4' 'CESM2' 'CESM2-WACCM' 'GISS-E2-1-H' 'NorCPM1'\n",
      " 'NorESM2-MM' 'CESM2-WACCM-FV2' 'CESM2-FV2' 'MRI-ESM2-0' 'E3SM-1-0'\n",
      " 'E3SM-1-1' 'E3SM-1-1-ECA' 'NorESM2-LM']\n",
      "\n",
      "dissic_mon:  ['GFDL-CM4' 'GFDL-ESM4' 'CESM2' 'CESM2-WACCM' 'CESM2-FV2'\n",
      " 'CESM2-WACCM-FV2' 'NorESM2-LM']\n",
      "\n",
      "talk_mon:  ['GFDL-CM4' 'GFDL-ESM4' 'CESM2' 'CESM2-WACCM' 'CESM2-WACCM-FV2'\n",
      " 'CESM2-FV2']\n",
      "\n",
      "so_yr:  []\n",
      "\n",
      "thetao_yr:  []\n",
      "\n",
      "talk_yr:  ['GFDL-ESM4' 'CESM2-WACCM' 'CESM2' 'NorESM1-F' 'CESM2-WACCM-FV2'\n",
      " 'CESM2-FV2' 'MRI-ESM2-0' 'NorESM2-LM']\n",
      "\n",
      "dissic_yr:  ['GFDL-ESM4' 'CESM2-WACCM' 'CESM2' 'NorESM1-F' 'CESM2-WACCM-FV2'\n",
      " 'CESM2-FV2' 'MRI-ESM2-0' 'NorESM2-LM']\n"
     ]
    }
   ],
   "source": [
    "print('so_mon: ', so_mon)\n",
    "print('\\nthetao_mon: ', thetao_mon) \n",
    "print('\\ndissic_mon: ', dissic_mon) \n",
    "print('\\ntalk_mon: ', talk_mon) \n",
    "print('\\nso_yr: ', so_yr) \n",
    "print('\\nthetao_yr: ',thetao_yr)\n",
    "print('\\ntalk_yr: ',talk_yr) \n",
    "print('\\ndissic_yr: ',dissic_yr)"
   ]
  },
  {
   "cell_type": "code",
   "execution_count": 13,
   "id": "plain-respondent",
   "metadata": {},
   "outputs": [
    {
     "data": {
      "text/plain": [
       "array(['GFDL-CM4', 'GFDL-ESM4', 'CNRM-CM6-1', 'GISS-E2-1-G',\n",
       "       'BCC-CSM2-MR', 'CNRM-ESM2-1', 'AWI-CM-1-1-MR', 'BCC-ESM1',\n",
       "       'MIROC6', 'IPSL-CM6A-LR', 'CESM2', 'CESM2-WACCM', 'CanESM5-CanOE',\n",
       "       'CanESM5', 'MPI-ESM-1-2-HAM', 'HadGEM3-GC31-LL', 'NESM3',\n",
       "       'MPI-ESM1-2-LR', 'MPI-ESM1-2-HR', 'CAMS-CSM1-0', 'MCM-UA-1-0',\n",
       "       'GISS-E2-1-G-CC', 'MIROC-ES2L', 'UKESM1-0-LL', 'SAM0-UNICON',\n",
       "       'CNRM-CM6-1-HR', 'FGOALS-f3-L', 'NorESM2-MM', 'ACCESS-CM2',\n",
       "       'GISS-E2-2-G', 'CESM2-WACCM-FV2', 'CESM2-FV2', 'IITM-ESM',\n",
       "       'FGOALS-g3', 'ACCESS-ESM1-5', 'HadGEM3-GC31-MM', 'AWI-ESM-1-1-LR',\n",
       "       'CAS-ESM2-0', 'CIESM', 'EC-Earth3', 'CMCC-CM2-SR5',\n",
       "       'EC-Earth3-AerChem', 'EC-Earth3-Veg', 'EC-Earth3-LR', 'NorESM2-LM'],\n",
       "      dtype=object)"
      ]
     },
     "execution_count": 13,
     "metadata": {},
     "output_type": "execute_result"
    }
   ],
   "source": [
    "gn_so_mon = col.search(variable_id= 'so', experiment_id= 'piControl', table_id = 'Omon', grid_label = 'gn')\n",
    "gn_so_mon.df['source_id'].unique()"
   ]
  },
  {
   "cell_type": "code",
   "execution_count": 14,
   "id": "israeli-greeting",
   "metadata": {},
   "outputs": [
    {
     "data": {
      "text/plain": [
       "array(['CNRM-ESM2-1', 'IPSL-CM6A-LR', 'CESM2', 'CESM2-WACCM',\n",
       "       'CanESM5-CanOE', 'CanESM5', 'MPI-ESM-1-2-HAM', 'MPI-ESM1-2-LR',\n",
       "       'MPI-ESM1-2-HR', 'GISS-E2-1-G', 'GISS-E2-1-G-CC', 'MIROC-ES2L',\n",
       "       'NorESM1-F', 'CESM2-FV2', 'CESM2-WACCM-FV2', 'ACCESS-ESM1-5',\n",
       "       'UKESM1-0-LL', 'IPSL-CM5A2-INCA', 'CMCC-ESM2', 'MRI-ESM2-0'],\n",
       "      dtype=object)"
      ]
     },
     "execution_count": 14,
     "metadata": {},
     "output_type": "execute_result"
    }
   ],
   "source": [
    "gn_dissic_mon = col.search(variable_id= 'dissic', experiment_id= 'piControl', table_id = 'Omon', grid_label = 'gn')\n",
    "gn_dissic_mon.df['source_id'].unique()"
   ]
  },
  {
   "cell_type": "code",
   "execution_count": 15,
   "id": "palestinian-subscription",
   "metadata": {},
   "outputs": [
    {
     "data": {
      "text/plain": [
       "array(['CNRM-ESM2-1', 'IPSL-CM6A-LR', 'CESM2', 'CESM2-WACCM', 'CanESM5',\n",
       "       'MPI-ESM-1-2-HAM', 'MPI-ESM1-2-HR', 'GISS-E2-1-G',\n",
       "       'GISS-E2-1-G-CC', 'MIROC-ES2L', 'NorESM1-F', 'CESM2-WACCM-FV2',\n",
       "       'CESM2-FV2', 'ACCESS-ESM1-5'], dtype=object)"
      ]
     },
     "execution_count": 15,
     "metadata": {},
     "output_type": "execute_result"
    }
   ],
   "source": [
    "gn_talk_mon = col.search(variable_id= 'talk', experiment_id= 'piControl', table_id = 'Omon', grid_label = 'gn')\n",
    "gn_talk_mon.df['source_id'].unique()"
   ]
  },
  {
   "cell_type": "code",
   "execution_count": 16,
   "id": "senior-celebrity",
   "metadata": {},
   "outputs": [
    {
     "data": {
      "text/plain": [
       "array(['GFDL-CM4', 'GFDL-ESM4', 'CNRM-CM6-1', 'GISS-E2-1-G',\n",
       "       'BCC-CSM2-MR', 'CNRM-ESM2-1', 'BCC-ESM1', 'AWI-CM-1-1-MR',\n",
       "       'MIROC6', 'IPSL-CM6A-LR', 'CESM2', 'CESM2-WACCM', 'CanESM5-CanOE',\n",
       "       'CanESM5', 'MPI-ESM-1-2-HAM', 'NESM3', 'MPI-ESM1-2-LR',\n",
       "       'MPI-ESM1-2-HR', 'CAMS-CSM1-0', 'MCM-UA-1-0', 'GISS-E2-1-G-CC',\n",
       "       'MIROC-ES2L', 'UKESM1-0-LL', 'SAM0-UNICON', 'FIO-ESM-2-0',\n",
       "       'CNRM-CM6-1-HR', 'FGOALS-f3-L', 'NorESM2-MM', 'ACCESS-CM2',\n",
       "       'GISS-E2-2-G', 'CESM2-WACCM-FV2', 'CESM2-FV2', 'IITM-ESM',\n",
       "       'FGOALS-g3', 'HadGEM3-GC31-MM', 'AWI-ESM-1-1-LR', 'CIESM',\n",
       "       'CAS-ESM2-0', 'CMCC-CM2-SR5', 'EC-Earth3-AerChem', 'EC-Earth3',\n",
       "       'EC-Earth3-Veg', 'EC-Earth3-LR', 'EC-Earth3-Veg-LR', 'NorESM2-LM',\n",
       "       'TaiESM1', 'IPSL-CM5A2-INCA', 'CMCC-ESM2', 'MRI-ESM2-0',\n",
       "       'ACCESS-ESM1-5', 'HadGEM3-GC31-LL'], dtype=object)"
      ]
     },
     "execution_count": 16,
     "metadata": {},
     "output_type": "execute_result"
    }
   ],
   "source": [
    "gn_thetao_mon = col.search(variable_id= 'thetao', experiment_id= 'piControl', table_id = 'Omon', grid_label = 'gn')\n",
    "gn_thetao_mon.df['source_id'].unique()"
   ]
  },
  {
   "cell_type": "code",
   "execution_count": 17,
   "id": "ranging-thursday",
   "metadata": {},
   "outputs": [
    {
     "data": {
      "text/plain": [
       "array([], dtype=object)"
      ]
     },
     "execution_count": 17,
     "metadata": {},
     "output_type": "execute_result"
    }
   ],
   "source": [
    "gn_so_yr = col.search(variable_id= 'so', experiment_id= 'piControl', table_id = 'Oyr', grid_label = 'gn')\n",
    "gn_so_yr.df['source_id'].unique()"
   ]
  },
  {
   "cell_type": "code",
   "execution_count": 18,
   "id": "collectible-alberta",
   "metadata": {},
   "outputs": [
    {
     "data": {
      "text/plain": [
       "array([], dtype=object)"
      ]
     },
     "execution_count": 18,
     "metadata": {},
     "output_type": "execute_result"
    }
   ],
   "source": [
    "gn_thetao_yr = col.search(variable_id= 'thetao', experiment_id= 'piControl', table_id = 'Oyr', grid_label = 'gn')\n",
    "gn_thetao_yr.df['source_id'].unique()"
   ]
  },
  {
   "cell_type": "code",
   "execution_count": 19,
   "id": "detected-hepatitis",
   "metadata": {},
   "outputs": [
    {
     "data": {
      "text/plain": [
       "array(['IPSL-CM6A-LR', 'CanESM5-CanOE', 'CanESM5', 'CESM2-WACCM', 'CESM2',\n",
       "       'CESM2-WACCM-FV2', 'CESM2-FV2', 'ACCESS-ESM1-5', 'MRI-ESM2-0',\n",
       "       'NorESM2-LM', 'CMCC-ESM2'], dtype=object)"
      ]
     },
     "execution_count": 19,
     "metadata": {},
     "output_type": "execute_result"
    }
   ],
   "source": [
    "gn_dissic_yr = col.search(variable_id= 'dissic', experiment_id= 'piControl', table_id = 'Oyr', grid_label = 'gn')\n",
    "gn_dissic_yr.df['source_id'].unique()"
   ]
  },
  {
   "cell_type": "code",
   "execution_count": 20,
   "id": "occupied-geneva",
   "metadata": {},
   "outputs": [
    {
     "data": {
      "text/plain": [
       "array(['IPSL-CM6A-LR', 'CanESM5-CanOE', 'CanESM5', 'CESM2-WACCM', 'CESM2',\n",
       "       'CESM2-WACCM-FV2', 'CESM2-FV2', 'ACCESS-ESM1-5', 'MRI-ESM2-0',\n",
       "       'NorESM2-LM', 'CMCC-ESM2'], dtype=object)"
      ]
     },
     "execution_count": 20,
     "metadata": {},
     "output_type": "execute_result"
    }
   ],
   "source": [
    "gn_talk_yr = col.search(variable_id= 'talk', experiment_id= 'piControl', table_id = 'Oyr', grid_label = 'gn')\n",
    "gn_talk_yr.df['source_id'].unique()"
   ]
  },
  {
   "cell_type": "code",
   "execution_count": 21,
   "id": "developed-blogger",
   "metadata": {},
   "outputs": [
    {
     "data": {
      "text/plain": [
       "array(['highresSST-present', 'piControl', 'hist-1950', 'control-1950',\n",
       "       'historical', 'amip', 'abrupt-4xCO2', 'abrupt-0p5xCO2',\n",
       "       'abrupt-2xCO2', '1pctCO2', 'hist-1950HC', 'esm-piControl',\n",
       "       'esm-hist', 'hist-piNTCF', 'hist-nat', 'hist-piAer',\n",
       "       'piClim-histnat', 'histSST-piAer', 'histSST-piCH4',\n",
       "       'piClim-2xdust', 'histSST', 'histSST-1950HC', 'piClim-2xss',\n",
       "       'histSST-piO3', 'piClim-2xVOC', 'piClim-2xNOx', 'piClim-CH4',\n",
       "       'piClim-O3', 'piClim-NTCF', 'piClim-NOx', 'piClim-HC',\n",
       "       'ssp370SST-lowNTCF', 'piClim-lu', 'piClim-ghg', 'ssp370SST-lowCH4',\n",
       "       'piClim-VOC', 'piClim-control', 'ssp370-lowNTCF', 'piClim-aer',\n",
       "       'ssp370SST-ssp126Lu', 'ssp370pdSST', 'ssp370SST', 'piClim-4xCO2',\n",
       "       'piClim-anthro', '1pctCO2-bgc', '1pctCO2-rad', 'esm-ssp585',\n",
       "       '1pctCO2-cdr', 'piClim-histghg', 'piClim-histall',\n",
       "       'piClim-histaer', 'aqua-control-lwoff', 'aqua-control', 'aqua-p4K',\n",
       "       'amip-p4K-lwoff', 'amip-4xCO2', 'amip-p4K', 'aqua-4xCO2',\n",
       "       'amip-future4K', 'amip-lwoff', 'amip-m4K', 'ssp126-ssp370Lu',\n",
       "       'land-hist', 'land-noLu', 'land-hist-altStartYear', 'hist-noLu',\n",
       "       'esm-ssp585-ssp126Lu', 'ssp585', 'ssp370', 'omip1',\n",
       "       'ssp370-ssp126Lu', 'faf-all', 'faf-heat-NA0pct', 'esm-pi-CO2pulse',\n",
       "       'esm-pi-cdr-pulse', 'ssp245', 'ssp119', 'ssp126', 'histSST-piNTCF',\n",
       "       'faf-heat', 'faf-passiveheat', 'faf-heat-NA50pct',\n",
       "       'highresSST-future', 'amip-hist', 'faf-stress', 'faf-water',\n",
       "       'hist-aer', 'hist-GHG', 'abrupt-solp4p', 'piControl-spinup',\n",
       "       'hist-stratO3', 'midHolocene', 'lig127k', 'abrupt-solm4p',\n",
       "       'aqua-p4K-lwoff', 'esm-piControl-spinup', 'ssp245-nat',\n",
       "       'ssp245-GHG', 'dcppC-amv-Trop-pos', 'dcppC-pac-pacemaker',\n",
       "       'dcppC-amv-Trop-neg', 'dcppC-amv-neg', 'dcppC-amv-ExTrop-pos',\n",
       "       'dcppC-amv-ExTrop-neg', 'dcppC-ipv-NexTrop-pos',\n",
       "       'dcppC-ipv-NexTrop-neg', 'dcppC-atl-control',\n",
       "       'dcppC-atl-pacemaker', 'dcppC-pac-control', 'dcppC-ipv-pos',\n",
       "       'dcppC-ipv-neg', 'dcppC-amv-pos', 'piClim-2xDMS', 'piClim-BC',\n",
       "       'piClim-SO2', 'piClim-OC', 'piClim-2xfire', 'piClim-N2O', 'ssp434',\n",
       "       'ssp460', 'ssp534-over', 'deforest-globe', 'historical-cmip5',\n",
       "       'hist-bgc', 'pdSST-piArcSIC', 'futSST-pdSIC', 'pdSST-piAntSIC',\n",
       "       'pdSST-pdSIC', 'pdSST-futArcSIC', 'hist-sol', 'pdSST-futAntSIC',\n",
       "       'hist-nat-cmip5', 'hist-aer-cmip5', 'hist-volc', 'piSST-pdSIC',\n",
       "       'hist-totalO3', 'hist-GHG-cmip5', 'hist-CO2', 'piControl-cmip5',\n",
       "       'ssp245-stratO3', 'ssp245-aer', 'piSST-piSIC', 'rcp45-cmip5',\n",
       "       'rcp26-cmip5', 'rcp85-cmip5', 'dcppA-hindcast', 'dcppA-assim',\n",
       "       'dcppC-hindcast-noPinatubo', 'dcppC-hindcast-noAgung',\n",
       "       'dcppC-hindcast-noElChichon', 'hist-resIPO', 'ssp245-covid',\n",
       "       'ssp245-cov-strgreen', 'ssp245-cov-modgreen', 'ssp245-cov-fossil',\n",
       "       'lgm', 'ssp585-bgc', 'past1000', 'pa-pdSIC', 'pa-futArcSIC',\n",
       "       'historical-ext', 'pdSST-futArcSICSIT', 'pa-piArcSIC',\n",
       "       'pdSST-futOkhotskSIC', 'pa-piAntSIC', 'pdSST-futBKSeasSIC',\n",
       "       'pa-futAntSIC', 'pdSST-pdSICSIT'], dtype=object)"
      ]
     },
     "execution_count": 21,
     "metadata": {},
     "output_type": "execute_result"
    }
   ],
   "source": [
    "col.df['experiment_id'].unique()"
   ]
  },
  {
   "cell_type": "code",
   "execution_count": null,
   "id": "realistic-performer",
   "metadata": {},
   "outputs": [],
   "source": []
  }
 ],
 "metadata": {
  "kernelspec": {
   "display_name": "Python 3",
   "language": "python",
   "name": "python3"
  },
  "language_info": {
   "codemirror_mode": {
    "name": "ipython",
    "version": 3
   },
   "file_extension": ".py",
   "mimetype": "text/x-python",
   "name": "python",
   "nbconvert_exporter": "python",
   "pygments_lexer": "ipython3",
   "version": "3.8.6"
  }
 },
 "nbformat": 4,
 "nbformat_minor": 5
}
