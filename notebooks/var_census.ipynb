{
 "cells": [
  {
   "cell_type": "code",
   "execution_count": 40,
   "id": "hawaiian-knowing",
   "metadata": {},
   "outputs": [
    {
     "ename": "ModuleNotFoundError",
     "evalue": "No module named 'prettytable'",
     "output_type": "error",
     "traceback": [
      "\u001b[0;31m---------------------------------------------------------------------------\u001b[0m",
      "\u001b[0;31mModuleNotFoundError\u001b[0m                       Traceback (most recent call last)",
      "\u001b[0;32m<ipython-input-40-5478f8a59e77>\u001b[0m in \u001b[0;36m<module>\u001b[0;34m\u001b[0m\n\u001b[1;32m      8\u001b[0m \u001b[0;32mimport\u001b[0m \u001b[0mgsw\u001b[0m\u001b[0;34m\u001b[0m\u001b[0;34m\u001b[0m\u001b[0m\n\u001b[1;32m      9\u001b[0m \u001b[0mwarnings\u001b[0m\u001b[0;34m.\u001b[0m\u001b[0mfilterwarnings\u001b[0m\u001b[0;34m(\u001b[0m\u001b[0;34m\"ignore\"\u001b[0m\u001b[0;34m)\u001b[0m\u001b[0;34m\u001b[0m\u001b[0;34m\u001b[0m\u001b[0m\n\u001b[0;32m---> 10\u001b[0;31m \u001b[0;32mfrom\u001b[0m \u001b[0mprettytable\u001b[0m \u001b[0;32mimport\u001b[0m \u001b[0mPrettyTable\u001b[0m\u001b[0;34m\u001b[0m\u001b[0;34m\u001b[0m\u001b[0m\n\u001b[0m",
      "\u001b[0;31mModuleNotFoundError\u001b[0m: No module named 'prettytable'"
     ]
    }
   ],
   "source": [
    "import xarray as xr\n",
    "from cmip6_preprocessing.preprocessing import combined_preprocessing\n",
    "# import PyCO2SYS as pyco2\n",
    "import intake\n",
    "import matplotlib.pyplot as plt\n",
    "import numpy as np\n",
    "import warnings\n",
    "import gsw\n",
    "warnings.filterwarnings(\"ignore\")\n",
    "from prettytable import PrettyTable "
   ]
  },
  {
   "cell_type": "code",
   "execution_count": 2,
   "id": "academic-payday",
   "metadata": {},
   "outputs": [],
   "source": [
    "col = intake.open_esm_datastore(\"https://storage.googleapis.com/cmip6/pangeo-cmip6.json\")"
   ]
  },
  {
   "cell_type": "code",
   "execution_count": 24,
   "id": "related-telling",
   "metadata": {},
   "outputs": [
    {
     "name": "stdout",
     "output_type": "stream",
     "text": [
      "['CMIP.NASA-GISS.GISS-E2-1-H.piControl.Omon.gr', 'CMIP.NOAA-GFDL.GFDL-ESM4.piControl.Omon.gr', 'CMIP.NCC.NorCPM1.piControl.Omon.gr', 'CMIP.NCC.NorESM2-LM.piControl.Omon.gr', 'CMIP.MRI.MRI-ESM2-0.piControl.Omon.gr', 'CMIP.NCAR.CESM2-WACCM.piControl.Omon.gr', 'CMIP.E3SM-Project.E3SM-1-1-ECA.piControl.Omon.gr', 'CMIP.NCAR.CESM2-WACCM-FV2.piControl.Omon.gr', 'CMIP.NOAA-GFDL.GFDL-CM4.piControl.Omon.gr', 'CMIP.E3SM-Project.E3SM-1-0.piControl.Omon.gr', 'CMIP.NCAR.CESM2-FV2.piControl.Omon.gr', 'CMIP.E3SM-Project.E3SM-1-1.piControl.Omon.gr', 'CMIP.NCAR.CESM2.piControl.Omon.gr', 'CMIP.NCC.NorESM2-MM.piControl.Omon.gr']\n"
     ]
    }
   ],
   "source": [
    "cat_so_mon = col.search(variable_id= 'so', experiment_id= 'piControl', table_id = 'Omon', grid_label = 'gr')\n",
    "cat_so_mon.df['source_id'].unique();\n",
    "so1 = [*cat_so_mon]\n",
    "print(x)"
   ]
  },
  {
   "cell_type": "code",
   "execution_count": 26,
   "id": "powered-interval",
   "metadata": {},
   "outputs": [
    {
     "name": "stdout",
     "output_type": "stream",
     "text": [
      "['CMIP.NASA-GISS.GISS-E2-1-H.piControl.Omon.gr', 'CMIP.NOAA-GFDL.GFDL-ESM4.piControl.Omon.gr', 'CMIP.NCC.NorCPM1.piControl.Omon.gr', 'CMIP.NCC.NorESM2-LM.piControl.Omon.gr', 'CMIP.MRI.MRI-ESM2-0.piControl.Omon.gr', 'CMIP.NCAR.CESM2-WACCM.piControl.Omon.gr', 'CMIP.E3SM-Project.E3SM-1-1-ECA.piControl.Omon.gr', 'CMIP.NCAR.CESM2-WACCM-FV2.piControl.Omon.gr', 'CMIP.NOAA-GFDL.GFDL-CM4.piControl.Omon.gr', 'CMIP.E3SM-Project.E3SM-1-0.piControl.Omon.gr', 'CMIP.NCAR.CESM2-FV2.piControl.Omon.gr', 'CMIP.E3SM-Project.E3SM-1-1.piControl.Omon.gr', 'CMIP.NCAR.CESM2.piControl.Omon.gr', 'CMIP.NCC.NorESM2-MM.piControl.Omon.gr']\n"
     ]
    }
   ],
   "source": [
    "cat_thetao_mon = col.search(variable_id= 'thetao', experiment_id= 'piControl', table_id = 'Omon', grid_label = 'gr')\n",
    "cat_thetao_mon.df['source_id'].unique();\n",
    "thetao1 = [*cat_thetao_mon]\n",
    "print(thetao1)"
   ]
  },
  {
   "cell_type": "code",
   "execution_count": 27,
   "id": "anonymous-liberia",
   "metadata": {},
   "outputs": [
    {
     "name": "stdout",
     "output_type": "stream",
     "text": [
      "['CMIP.NOAA-GFDL.GFDL-ESM4.piControl.Omon.gr', 'CMIP.NOAA-GFDL.GFDL-CM4.piControl.Omon.gr', 'CMIP.NCAR.CESM2-WACCM.piControl.Omon.gr', 'CMIP.NCAR.CESM2-FV2.piControl.Omon.gr', 'CMIP.NCAR.CESM2.piControl.Omon.gr', 'CMIP.NCC.NorESM2-LM.piControl.Omon.gr', 'CMIP.NCAR.CESM2-WACCM-FV2.piControl.Omon.gr']\n"
     ]
    }
   ],
   "source": [
    "cat_dissic_mon = col.search(variable_id= 'dissic', experiment_id= 'piControl', table_id = 'Omon', grid_label = 'gr')\n",
    "cat_dissic_mon.df['source_id'].unique();\n",
    "dissic1 = [*cat_dissic_mon]\n",
    "print(dissic1)"
   ]
  },
  {
   "cell_type": "code",
   "execution_count": 29,
   "id": "medieval-subscriber",
   "metadata": {},
   "outputs": [
    {
     "name": "stdout",
     "output_type": "stream",
     "text": [
      "['CMIP.NOAA-GFDL.GFDL-ESM4.piControl.Omon.gr', 'CMIP.NOAA-GFDL.GFDL-CM4.piControl.Omon.gr', 'CMIP.NCAR.CESM2-WACCM.piControl.Omon.gr', 'CMIP.NCAR.CESM2-FV2.piControl.Omon.gr', 'CMIP.NCAR.CESM2.piControl.Omon.gr', 'CMIP.NCAR.CESM2-WACCM-FV2.piControl.Omon.gr']\n"
     ]
    }
   ],
   "source": [
    "cat_talk_mon = col.search(variable_id= 'talk', experiment_id= 'piControl', table_id = 'Omon', grid_label = 'gr')\n",
    "cat_talk_mon.df['source_id'].unique();\n",
    "talk1 = [*cat_talk_mon]\n",
    "print(talk1)"
   ]
  },
  {
   "cell_type": "code",
   "execution_count": 30,
   "id": "extensive-patent",
   "metadata": {},
   "outputs": [],
   "source": [
    "cat_so_yr = col.search(variable_id= 'so', experiment_id= 'piControl', table_id = 'Oyr', grid_label = 'gr')\n",
    "cat_so_yr.df['source_id'].unique();\n",
    "so2 = [*cat_so_yr]"
   ]
  },
  {
   "cell_type": "code",
   "execution_count": 31,
   "id": "objective-mason",
   "metadata": {},
   "outputs": [
    {
     "name": "stdout",
     "output_type": "stream",
     "text": [
      "[]\n"
     ]
    }
   ],
   "source": [
    "cat_thetao_yr = col.search(variable_id= 'thetao', experiment_id= 'piControl', table_id = 'Oyr', grid_label = 'gr')\n",
    "cat_thetao_yr.df['source_id'].unique();\n",
    "thetao2 = [*cat_thetao_yr]\n",
    "print(thetao2)"
   ]
  },
  {
   "cell_type": "code",
   "execution_count": 32,
   "id": "sapphire-infrastructure",
   "metadata": {},
   "outputs": [
    {
     "name": "stdout",
     "output_type": "stream",
     "text": [
      "['CMIP.NCAR.CESM2-WACCM-FV2.piControl.Oyr.gr', 'CMIP.NCC.NorESM2-LM.piControl.Oyr.gr', 'CMIP.NCC.NorESM1-F.piControl.Oyr.gr', 'CMIP.NCAR.CESM2.piControl.Oyr.gr', 'CMIP.NCAR.CESM2-WACCM.piControl.Oyr.gr', 'CMIP.MRI.MRI-ESM2-0.piControl.Oyr.gr', 'CMIP.NOAA-GFDL.GFDL-ESM4.piControl.Oyr.gr', 'CMIP.NCAR.CESM2-FV2.piControl.Oyr.gr']\n"
     ]
    }
   ],
   "source": [
    "cat_dissic_yr = col.search(variable_id= 'dissic', experiment_id= 'piControl', table_id = 'Oyr', grid_label = 'gr')\n",
    "cat_dissic_yr.df['source_id'].unique();\n",
    "dissic2 = [*cat_dissic_yr]\n",
    "print(dissic2)"
   ]
  },
  {
   "cell_type": "code",
   "execution_count": 33,
   "id": "looking-catalyst",
   "metadata": {},
   "outputs": [
    {
     "name": "stdout",
     "output_type": "stream",
     "text": [
      "['CMIP.NCAR.CESM2-WACCM-FV2.piControl.Oyr.gr', 'CMIP.NCC.NorESM2-LM.piControl.Oyr.gr', 'CMIP.NCC.NorESM1-F.piControl.Oyr.gr', 'CMIP.NCAR.CESM2.piControl.Oyr.gr', 'CMIP.NCAR.CESM2-WACCM.piControl.Oyr.gr', 'CMIP.MRI.MRI-ESM2-0.piControl.Oyr.gr', 'CMIP.NOAA-GFDL.GFDL-ESM4.piControl.Oyr.gr', 'CMIP.NCAR.CESM2-FV2.piControl.Oyr.gr']\n"
     ]
    }
   ],
   "source": [
    "cat_talk_yr = col.search(variable_id= 'talk', experiment_id= 'piControl', table_id = 'Oyr', grid_label = 'gr')\n",
    "cat_talk_yr.df['source_id'].unique()\n",
    "talk2 = [*cat_talk_yr]\n",
    "print(talk2)"
   ]
  },
  {
   "cell_type": "code",
   "execution_count": 34,
   "id": "supreme-stockholm",
   "metadata": {},
   "outputs": [],
   "source": [
    "so_mon = cat_so_mon.df['source_id'].unique()\n",
    "thetao_mon = cat_thetao_mon.df['source_id'].unique()\n",
    "dissic_mon = cat_dissic_mon.df['source_id'].unique()\n",
    "talk_mon = cat_talk_mon.df['source_id'].unique()\n",
    "so_yr = cat_so_yr.df['source_id'].unique()\n",
    "thetao_yr = cat_thetao_yr.df['source_id'].unique()\n",
    "talk_yr = cat_talk_yr.df['source_id'].unique()\n",
    "dissic_yr = cat_dissic_yr.df['source_id'].unique()"
   ]
  },
  {
   "cell_type": "code",
   "execution_count": 39,
   "id": "excess-nashville",
   "metadata": {},
   "outputs": [
    {
     "name": "stdout",
     "output_type": "stream",
     "text": [
      "so_mon:  ['GFDL-CM4' 'GFDL-ESM4' 'CESM2' 'CESM2-WACCM' 'GISS-E2-1-H' 'NorCPM1'\n",
      " 'NorESM2-MM' 'CESM2-WACCM-FV2' 'CESM2-FV2' 'E3SM-1-0' 'MRI-ESM2-0'\n",
      " 'E3SM-1-1' 'E3SM-1-1-ECA' 'NorESM2-LM']\n",
      "\n",
      "thetao_mon:  ['GFDL-CM4' 'GFDL-ESM4' 'CESM2' 'CESM2-WACCM' 'GISS-E2-1-H' 'NorCPM1'\n",
      " 'NorESM2-MM' 'CESM2-WACCM-FV2' 'CESM2-FV2' 'MRI-ESM2-0' 'E3SM-1-0'\n",
      " 'E3SM-1-1' 'E3SM-1-1-ECA' 'NorESM2-LM']\n",
      "\n",
      "dissic_mon:  ['GFDL-CM4' 'GFDL-ESM4' 'CESM2' 'CESM2-WACCM' 'CESM2-FV2'\n",
      " 'CESM2-WACCM-FV2' 'NorESM2-LM']\n",
      "\n",
      "talk_mon:  ['GFDL-CM4' 'GFDL-ESM4' 'CESM2' 'CESM2-WACCM' 'CESM2-WACCM-FV2'\n",
      " 'CESM2-FV2']\n",
      "\n",
      "so_yr:  []\n",
      "\n",
      "thetao_yr:  []\n",
      "\n",
      "talk_yr:  ['GFDL-ESM4' 'CESM2-WACCM' 'CESM2' 'NorESM1-F' 'CESM2-WACCM-FV2'\n",
      " 'CESM2-FV2' 'MRI-ESM2-0' 'NorESM2-LM']\n",
      "\n",
      "dissic_yr:  ['GFDL-ESM4' 'CESM2-WACCM' 'CESM2' 'NorESM1-F' 'CESM2-WACCM-FV2'\n",
      " 'CESM2-FV2' 'MRI-ESM2-0' 'NorESM2-LM']\n"
     ]
    }
   ],
   "source": [
    "print('so_mon: ', so_mon)\n",
    "print('\\nthetao_mon: ', thetao_mon) \n",
    "print('\\ndissic_mon: ', dissic_mon) \n",
    "print('\\ntalk_mon: ', talk_mon) \n",
    "print('\\nso_yr: ', so_yr) \n",
    "print('\\nthetao_yr: ',thetao_yr)\n",
    "print('\\ntalk_yr: ',talk_yr) \n",
    "print('\\ndissic_yr: ',dissic_yr)"
   ]
  },
  {
   "cell_type": "code",
   "execution_count": null,
   "id": "common-healthcare",
   "metadata": {},
   "outputs": [],
   "source": []
  }
 ],
 "metadata": {
  "kernelspec": {
   "display_name": "Python 3",
   "language": "python",
   "name": "python3"
  },
  "language_info": {
   "codemirror_mode": {
    "name": "ipython",
    "version": 3
   },
   "file_extension": ".py",
   "mimetype": "text/x-python",
   "name": "python",
   "nbconvert_exporter": "python",
   "pygments_lexer": "ipython3",
   "version": "3.8.6"
  }
 },
 "nbformat": 4,
 "nbformat_minor": 5
}
