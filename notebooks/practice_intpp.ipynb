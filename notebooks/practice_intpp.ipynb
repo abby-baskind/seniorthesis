{
 "cells": [
  {
   "cell_type": "markdown",
   "id": "fe23ca96-ccd2-4dfe-9110-6773097a8729",
   "metadata": {},
   "source": [
    "# `intpp` practice"
   ]
  },
  {
   "cell_type": "markdown",
   "id": "c31becad-2dc3-4e83-b7aa-771cc46fec8b",
   "metadata": {},
   "source": [
    "`cd project/seniorthesis/notebooks`\n",
    "\n",
    "`conda list PyCO2SYS`\n",
    "\n",
    "`pip install PyCO2SYS`\n",
    "\n",
    "`pip install git+https://github.com/jbusecke/cmip6_preprocessing.git`\n",
    "\n",
    "`mv *.png ../figures`"
   ]
  },
  {
   "cell_type": "code",
   "execution_count": 1,
   "id": "a4668fdb-0848-4e3f-8658-b2aed77d6a0b",
   "metadata": {},
   "outputs": [],
   "source": [
    "import xarray as xr\n",
    "import xesmf as xe\n",
    "from cmip6_preprocessing.preprocessing import combined_preprocessing\n",
    "# import PyCO2SYS as pyco2 # i have to install this package through terminal for it to work\n",
    "import intake\n",
    "import matplotlib.pyplot as plt\n",
    "import numpy as np\n",
    "import warnings\n",
    "import gsw\n",
    "from cmip6_preprocessing.postprocessing import combine_datasets\n",
    "from cartopy import crs as ccrs\n",
    "import cartopy.feature as cfeature\n",
    "from cartopy.util import add_cyclic_point\n",
    "import matplotlib.path as mpath\n",
    "from cmip6_preprocessing.postprocessing import combine_datasets\n",
    "from cmip6_preprocessing.postprocessing import merge_variables\n",
    "from dask.diagnostics import ProgressBar\n",
    "from xgcm import Grid\n",
    "from xhistogram.xarray import histogram\n",
    "import pandas as pd\n",
    "import scipy"
   ]
  },
  {
   "cell_type": "code",
   "execution_count": 2,
   "id": "19b439c3-758f-4cd9-b7ff-acd04e9e6c5b",
   "metadata": {},
   "outputs": [],
   "source": [
    "col = intake.open_esm_datastore(\"https://storage.googleapis.com/cmip6/pangeo-cmip6.json\")\n",
    "\n",
    "def pick_first_member(ds_list, **kwargs):\n",
    "    return ds_list[0]"
   ]
  },
  {
   "cell_type": "markdown",
   "id": "872f527a-36b6-420c-8fb4-24f2e95f3ff4",
   "metadata": {},
   "source": [
    "# CESM2-FV2\n",
    ">`CMIP6.CMIP.NCAR.CESM2-FV2.historical.r1i1p1f1.Omon.vo.gn.v20191120`\n",
    "\n",
    "> `CMIP6.CMIP.NCAR.CESM2-FV2.historical.r1i1p1f1.SImon.siconc.gn.v20191120`\n",
    "\n",
    "> `CMIP6.CMIP.NCAR.CESM2-FV2.historical.r1i1p1f1.Omon.intpp.gn.v20191120`\n",
    "\n",
    "## CESM2-FV2 has `intpp`, `hfds`, and `vo` as `gn`.\n",
    "## CESM2-FV2 has `intpp` and `hfds` as `gr`.\n",
    "## CESM2-FV2 does NOT have `siconc`."
   ]
  },
  {
   "cell_type": "code",
   "execution_count": 4,
   "id": "8cadc4c6-fef8-4c5d-8fa6-02f70945d237",
   "metadata": {},
   "outputs": [
    {
     "name": "stdout",
     "output_type": "stream",
     "text": [
      "\n",
      "--> The keys in the returned dictionary of datasets are constructed as follows:\n",
      "\t'activity_id.institution_id.source_id.experiment_id.member_id.table_id.variable_id.grid_label.zstore.dcpp_init_year.version'\n"
     ]
    },
    {
     "data": {
      "text/html": [
       "\n",
       "<style>\n",
       "    /* Turns off some styling */\n",
       "    progress {\n",
       "        /* gets rid of default border in Firefox and Opera. */\n",
       "        border: none;\n",
       "        /* Needs to be in here for Safari polyfill so background images work as expected. */\n",
       "        background-size: auto;\n",
       "    }\n",
       "    .progress-bar-interrupted, .progress-bar-interrupted::-webkit-progress-bar {\n",
       "        background: #F44336;\n",
       "    }\n",
       "</style>\n"
      ],
      "text/plain": [
       "<IPython.core.display.HTML object>"
      ]
     },
     "metadata": {},
     "output_type": "display_data"
    },
    {
     "data": {
      "text/html": [
       "\n",
       "    <div>\n",
       "      <progress value='1' class='' max='1' style='width:300px; height:20px; vertical-align: middle;'></progress>\n",
       "      100.00% [1/1 00:00<00:00]\n",
       "    </div>\n",
       "    "
      ],
      "text/plain": [
       "<IPython.core.display.HTML object>"
      ]
     },
     "metadata": {},
     "output_type": "display_data"
    },
    {
     "data": {
      "text/plain": [
       "[('CESM2-FV2.gr.historical.Omon',\n",
       "  <xarray.Dataset>\n",
       "  Dimensions:        (time: 1980, y: 180, x: 360, bnds: 2, vertex: 4)\n",
       "  Coordinates:\n",
       "    * y              (y) float64 -89.5 -88.5 -87.5 -86.5 ... 86.5 87.5 88.5 89.5\n",
       "    * x              (x) float64 0.5 1.5 2.5 3.5 4.5 ... 356.5 357.5 358.5 359.5\n",
       "    * time           (time) object 1850-01-15 13:00:00 ... 2014-12-15 12:00:00\n",
       "      lat_bounds     (y, bnds, x) float64 dask.array<chunksize=(180, 2, 360), meta=np.ndarray>\n",
       "      lon_bounds     (x, bnds, y) float64 dask.array<chunksize=(360, 2, 180), meta=np.ndarray>\n",
       "      time_bounds    (time, bnds) object dask.array<chunksize=(1980, 2), meta=np.ndarray>\n",
       "      lon            (x, y) float64 0.5 0.5 0.5 0.5 ... 359.5 359.5 359.5 359.5\n",
       "      lat            (x, y) float64 -89.5 -88.5 -87.5 -86.5 ... 87.5 88.5 89.5\n",
       "      lon_verticies  (vertex, x, y) float64 dask.array<chunksize=(1, 360, 180), meta=np.ndarray>\n",
       "      lat_verticies  (vertex, x, y) float64 dask.array<chunksize=(1, 360, 180), meta=np.ndarray>\n",
       "  Dimensions without coordinates: bnds, vertex\n",
       "  Data variables:\n",
       "      intpp          (time, y, x) float32 dask.array<chunksize=(192, 180, 360), meta=np.ndarray>\n",
       "  Attributes: (12/50)\n",
       "      Conventions:             CF-1.7 CMIP-6.2\n",
       "      activity_id:             CMIP\n",
       "      branch_method:           standard\n",
       "      branch_time_in_child:    674885.0\n",
       "      branch_time_in_parent:   10950.0\n",
       "      case_id:                 1559\n",
       "      ...                      ...\n",
       "      variant_info:            CMIP6 CESM2-FV2 historical experiment (1850-2014...\n",
       "      variant_label:           r1i1p1f1\n",
       "      netcdf_tracking_ids:     hdl:21.14100/92bf203a-51a2-4fa6-89a2-dfbb2938420...\n",
       "      version_id:              v20191120\n",
       "      intake_esm_varname:      None\n",
       "      intake_esm_dataset_key:  CMIP.NCAR.CESM2-FV2.historical.r1i1p1f1.Omon.int...)]"
      ]
     },
     "execution_count": 4,
     "metadata": {},
     "output_type": "execute_result"
    }
   ],
   "source": [
    "variables = ['intpp']\n",
    "z_kwargs = {'consolidated': True, 'use_cftime': True}\n",
    "query = dict(experiment_id=['historical'], \n",
    "             table_id=['Omon'], \n",
    "             variable_id=variables,\n",
    "             member_id = ['r1i1p1f1'],\n",
    "             grid_label=['gr'],\n",
    "              source_id=['CESM2-FV2']\n",
    "            )\n",
    "\n",
    "\n",
    "cat = col.search(**query)\n",
    "\n",
    "# print(cat.df['source_id'].unique())\n",
    "dd_CESM2FV2 = cat.to_dataset_dict(zarr_kwargs=z_kwargs, storage_options={'token': 'anon'},\n",
    "                                preprocess=combined_preprocessing, aggregate=False)\n",
    "\n",
    "dd_CESM2FV2 = merge_variables(dd_CESM2FV2)\n",
    "# list(dd_new.keys())\n",
    "\n",
    "# temp={}\n",
    "# for name,item in dd_gn.items():\n",
    "#     #print(name)\n",
    "#     #print(item.data_vars)\n",
    "#     present = item.data_vars\n",
    "#     if all(i in present for i in variables):\n",
    "#         #print(name)\n",
    "#         temp[name]=item\n",
    "# dd_gn = temp\n",
    "\n",
    "\n",
    "dd_CESM2FV2 = combine_datasets(\n",
    "    dd_CESM2FV2,\n",
    "    pick_first_member,\n",
    "    match_attrs=['source_id', 'grid_label', 'experiment_id', 'table_id']\n",
    ")\n",
    "\n",
    "list(dd_CESM2FV2.items())\n",
    "# dd_new_new_gn"
   ]
  },
  {
   "cell_type": "markdown",
   "id": "39c3bdc0-af6d-4ab7-b4f1-655fbd2b1619",
   "metadata": {},
   "source": [
    "# CESM2\n",
    "> `CMIP6.CMIP.NCAR.CESM2.historical.r1i1p1f1.Omon.vo.gn.v20190308`\n",
    "\n",
    ">`CMIP6.CMIP.NCAR.CESM2.historical.r1i1p1f1.SImon.siconc.gn.v20190308`\n",
    "\n",
    ">`CMIP6.CMIP.NCAR.CESM2.historical.r11i1p1f1.Omon.intpp.gn.v20190514`"
   ]
  },
  {
   "cell_type": "code",
   "execution_count": 5,
   "id": "d9eceb7b-3196-47dd-b691-782bec55e285",
   "metadata": {},
   "outputs": [
    {
     "name": "stdout",
     "output_type": "stream",
     "text": [
      "\n",
      "--> The keys in the returned dictionary of datasets are constructed as follows:\n",
      "\t'activity_id.institution_id.source_id.experiment_id.member_id.table_id.variable_id.grid_label.zstore.dcpp_init_year.version'\n"
     ]
    },
    {
     "data": {
      "text/html": [
       "\n",
       "<style>\n",
       "    /* Turns off some styling */\n",
       "    progress {\n",
       "        /* gets rid of default border in Firefox and Opera. */\n",
       "        border: none;\n",
       "        /* Needs to be in here for Safari polyfill so background images work as expected. */\n",
       "        background-size: auto;\n",
       "    }\n",
       "    .progress-bar-interrupted, .progress-bar-interrupted::-webkit-progress-bar {\n",
       "        background: #F44336;\n",
       "    }\n",
       "</style>\n"
      ],
      "text/plain": [
       "<IPython.core.display.HTML object>"
      ]
     },
     "metadata": {},
     "output_type": "display_data"
    },
    {
     "data": {
      "text/html": [
       "\n",
       "    <div>\n",
       "      <progress value='1' class='' max='1' style='width:300px; height:20px; vertical-align: middle;'></progress>\n",
       "      100.00% [1/1 00:00<00:00]\n",
       "    </div>\n",
       "    "
      ],
      "text/plain": [
       "<IPython.core.display.HTML object>"
      ]
     },
     "metadata": {},
     "output_type": "display_data"
    },
    {
     "data": {
      "text/plain": [
       "[('CESM2.gr.historical.Omon',\n",
       "  <xarray.Dataset>\n",
       "  Dimensions:        (time: 1980, y: 180, x: 360, bnds: 2, vertex: 4)\n",
       "  Coordinates:\n",
       "    * y              (y) float64 -89.5 -88.5 -87.5 -86.5 ... 86.5 87.5 88.5 89.5\n",
       "    * x              (x) float64 0.5 1.5 2.5 3.5 4.5 ... 356.5 357.5 358.5 359.5\n",
       "    * time           (time) object 1850-01-15 12:59:59.999997 ... 2014-12-15 12...\n",
       "      lat_bounds     (y, bnds, x) float64 dask.array<chunksize=(180, 2, 360), meta=np.ndarray>\n",
       "      lon_bounds     (x, bnds, y) float64 dask.array<chunksize=(360, 2, 180), meta=np.ndarray>\n",
       "      time_bounds    (time, bnds) object dask.array<chunksize=(1980, 2), meta=np.ndarray>\n",
       "      lon            (x, y) float64 0.5 0.5 0.5 0.5 ... 359.5 359.5 359.5 359.5\n",
       "      lat            (x, y) float64 -89.5 -88.5 -87.5 -86.5 ... 87.5 88.5 89.5\n",
       "      lon_verticies  (vertex, x, y) float64 dask.array<chunksize=(1, 360, 180), meta=np.ndarray>\n",
       "      lat_verticies  (vertex, x, y) float64 dask.array<chunksize=(1, 360, 180), meta=np.ndarray>\n",
       "  Dimensions without coordinates: bnds, vertex\n",
       "  Data variables:\n",
       "      intpp          (time, y, x) float32 dask.array<chunksize=(385, 180, 360), meta=np.ndarray>\n",
       "  Attributes: (12/50)\n",
       "      Conventions:             CF-1.7 CMIP-6.2\n",
       "      activity_id:             CMIP\n",
       "      branch_method:           standard\n",
       "      branch_time_in_child:    674885.0\n",
       "      branch_time_in_parent:   219000.0\n",
       "      case_id:                 15\n",
       "      ...                      ...\n",
       "      variant_label:           r1i1p1f1\n",
       "      status:                  2019-10-29;created;by nhn2@columbia.edu\n",
       "      netcdf_tracking_ids:     hdl:21.14100/f5999bab-0833-449e-936f-22ae1361ac90\n",
       "      version_id:              v20190308\n",
       "      intake_esm_varname:      None\n",
       "      intake_esm_dataset_key:  CMIP.NCAR.CESM2.historical.r1i1p1f1.Omon.intpp.g...)]"
      ]
     },
     "execution_count": 5,
     "metadata": {},
     "output_type": "execute_result"
    }
   ],
   "source": [
    "variables = ['intpp']\n",
    "z_kwargs = {'consolidated': True, 'use_cftime': True}\n",
    "query = dict(experiment_id=['historical'], \n",
    "             table_id=['Omon'], \n",
    "             variable_id=variables,\n",
    "             member_id = ['r1i1p1f1'],\n",
    "             grid_label=['gr'],\n",
    "              source_id=['CESM2']\n",
    "            )\n",
    "\n",
    "\n",
    "cat = col.search(**query)\n",
    "\n",
    "# print(cat.df['source_id'].unique())\n",
    "dd_CESM2 = cat.to_dataset_dict(zarr_kwargs=z_kwargs, storage_options={'token': 'anon'},\n",
    "                                preprocess=combined_preprocessing, aggregate=False)\n",
    "\n",
    "dd_CESM2 = merge_variables(dd_CESM2)\n",
    "# list(dd_new.keys())\n",
    "\n",
    "# temp={}\n",
    "# for name,item in dd_gn.items():\n",
    "#     #print(name)\n",
    "#     #print(item.data_vars)\n",
    "#     present = item.data_vars\n",
    "#     if all(i in present for i in variables):\n",
    "#         #print(name)\n",
    "#         temp[name]=item\n",
    "# dd_gn = temp\n",
    "\n",
    "\n",
    "dd_CESM2 = combine_datasets(\n",
    "    dd_CESM2,\n",
    "    pick_first_member,\n",
    "    match_attrs=['source_id', 'grid_label', 'experiment_id', 'table_id']\n",
    ")\n",
    "\n",
    "list(dd_CESM2.items())\n",
    "# dd_new_new_gn"
   ]
  },
  {
   "cell_type": "markdown",
   "id": "4596d8b4-afc9-4f49-aadd-e8a7db3bc06b",
   "metadata": {},
   "source": [
    "# CESM2-WACCM\n",
    "> `CMIP6.CMIP.NCAR.CESM2-WACCM.historical.r3i1p1f1.Omon.vo.gn.v20190917`\n",
    "\n",
    "> `CMIP6.CMIP.NCAR.CESM2-WACCM.historical.r3i1p1f1.SImon.siconc.gn`\n",
    "\n",
    "> `CMIP6.CMIP.NCAR.CESM2-WACCM.historical.r3i1p1f1.Omon.intpp.gn.v20190808`"
   ]
  },
  {
   "cell_type": "code",
   "execution_count": 6,
   "id": "89430094-26e3-4a0b-88ab-373675754357",
   "metadata": {},
   "outputs": [
    {
     "name": "stdout",
     "output_type": "stream",
     "text": [
      "\n",
      "--> The keys in the returned dictionary of datasets are constructed as follows:\n",
      "\t'activity_id.institution_id.source_id.experiment_id.member_id.table_id.variable_id.grid_label.zstore.dcpp_init_year.version'\n"
     ]
    },
    {
     "data": {
      "text/html": [
       "\n",
       "<style>\n",
       "    /* Turns off some styling */\n",
       "    progress {\n",
       "        /* gets rid of default border in Firefox and Opera. */\n",
       "        border: none;\n",
       "        /* Needs to be in here for Safari polyfill so background images work as expected. */\n",
       "        background-size: auto;\n",
       "    }\n",
       "    .progress-bar-interrupted, .progress-bar-interrupted::-webkit-progress-bar {\n",
       "        background: #F44336;\n",
       "    }\n",
       "</style>\n"
      ],
      "text/plain": [
       "<IPython.core.display.HTML object>"
      ]
     },
     "metadata": {},
     "output_type": "display_data"
    },
    {
     "data": {
      "text/html": [
       "\n",
       "    <div>\n",
       "      <progress value='1' class='' max='1' style='width:300px; height:20px; vertical-align: middle;'></progress>\n",
       "      100.00% [1/1 00:00<00:00]\n",
       "    </div>\n",
       "    "
      ],
      "text/plain": [
       "<IPython.core.display.HTML object>"
      ]
     },
     "metadata": {},
     "output_type": "display_data"
    },
    {
     "data": {
      "text/plain": [
       "[('CESM2-WACCM.gr.historical.Omon',\n",
       "  <xarray.Dataset>\n",
       "  Dimensions:        (time: 1980, y: 180, x: 360, bnds: 2, vertex: 4)\n",
       "  Coordinates:\n",
       "    * y              (y) float64 -89.5 -88.5 -87.5 -86.5 ... 86.5 87.5 88.5 89.5\n",
       "    * x              (x) float64 0.5 1.5 2.5 3.5 4.5 ... 356.5 357.5 358.5 359.5\n",
       "    * time           (time) object 1850-01-15 13:00:00 ... 2014-12-15 12:00:00\n",
       "      lat_bounds     (y, bnds, x) float64 dask.array<chunksize=(180, 2, 360), meta=np.ndarray>\n",
       "      lon_bounds     (x, bnds, y) float64 dask.array<chunksize=(360, 2, 180), meta=np.ndarray>\n",
       "      time_bounds    (time, bnds) object dask.array<chunksize=(1980, 2), meta=np.ndarray>\n",
       "      lon            (x, y) float64 0.5 0.5 0.5 0.5 ... 359.5 359.5 359.5 359.5\n",
       "      lat            (x, y) float64 -89.5 -88.5 -87.5 -86.5 ... 87.5 88.5 89.5\n",
       "      lon_verticies  (vertex, x, y) float64 dask.array<chunksize=(1, 360, 180), meta=np.ndarray>\n",
       "      lat_verticies  (vertex, x, y) float64 dask.array<chunksize=(1, 360, 180), meta=np.ndarray>\n",
       "  Dimensions without coordinates: bnds, vertex\n",
       "  Data variables:\n",
       "      intpp          (time, y, x) float32 dask.array<chunksize=(192, 180, 360), meta=np.ndarray>\n",
       "  Attributes: (12/50)\n",
       "      Conventions:             CF-1.7 CMIP-6.2\n",
       "      activity_id:             CMIP\n",
       "      branch_method:           standard\n",
       "      branch_time_in_child:    674885.0\n",
       "      branch_time_in_parent:   25185.0\n",
       "      case_id:                 6\n",
       "      ...                      ...\n",
       "      variant_info:            CMIP6 CESM2 hindcast (1850-2015) with high-top a...\n",
       "      variant_label:           r3i1p1f1\n",
       "      netcdf_tracking_ids:     hdl:21.14100/2418e694-b3a6-480b-8a05-1b836420a72a\n",
       "      version_id:              v20190808\n",
       "      intake_esm_varname:      None\n",
       "      intake_esm_dataset_key:  CMIP.NCAR.CESM2-WACCM.historical.r3i1p1f1.Omon.i...)]"
      ]
     },
     "execution_count": 6,
     "metadata": {},
     "output_type": "execute_result"
    }
   ],
   "source": [
    "variables = ['intpp']\n",
    "z_kwargs = {'consolidated': True, 'use_cftime': True}\n",
    "query = dict(experiment_id=['historical'], \n",
    "             table_id=['Omon'], \n",
    "             variable_id=variables,\n",
    "             member_id = ['r3i1p1f1'],\n",
    "             grid_label=['gr'],\n",
    "              source_id=['CESM2-WACCM']\n",
    "            )\n",
    "\n",
    "\n",
    "cat = col.search(**query)\n",
    "\n",
    "# print(cat.df['source_id'].unique())\n",
    "dd_CESM2WACCM = cat.to_dataset_dict(zarr_kwargs=z_kwargs, storage_options={'token': 'anon'},\n",
    "                                preprocess=combined_preprocessing, aggregate=False)\n",
    "\n",
    "dd_CESM2WACCM = merge_variables(dd_CESM2WACCM)\n",
    "# list(dd_new.keys())\n",
    "\n",
    "# temp={}\n",
    "# for name,item in dd_gn.items():\n",
    "#     #print(name)\n",
    "#     #print(item.data_vars)\n",
    "#     present = item.data_vars\n",
    "#     if all(i in present for i in variables):\n",
    "#         #print(name)\n",
    "#         temp[name]=item\n",
    "# dd_gn = temp\n",
    "\n",
    "\n",
    "dd_CESM2WACCM = combine_datasets(\n",
    "    dd_CESM2WACCM,\n",
    "    pick_first_member,\n",
    "    match_attrs=['source_id', 'grid_label', 'experiment_id', 'table_id']\n",
    ")\n",
    "\n",
    "list(dd_CESM2WACCM.items())\n",
    "# dd_new_new_gn"
   ]
  },
  {
   "cell_type": "markdown",
   "id": "a735b61c-088c-4c0a-9aab-25bf5ee1839d",
   "metadata": {},
   "source": [
    "# CESM2-WACCM-FV2\n",
    "> `CMIP6.CMIP.NCAR.CESM2-WACCM-FV2.historical.r1i1p1f1.Omon.intpp.gr.v20191120`\n",
    "\n",
    "> `CMIP6.CMIP.NCAR.CESM2-WACCM-FV2.historical.r1i1p1f1.SImon.siconc.gn.v20191120`\n",
    "\n",
    "> `CMIP6.CMIP.NCAR.CESM2-WACCM-FV2.historical.r1i1p1f1.Omon.vo.gn.v20191120`"
   ]
  },
  {
   "cell_type": "code",
   "execution_count": 7,
   "id": "0706edb1-ea94-43a1-ac8a-5e94b2743396",
   "metadata": {},
   "outputs": [
    {
     "name": "stdout",
     "output_type": "stream",
     "text": [
      "\n",
      "--> The keys in the returned dictionary of datasets are constructed as follows:\n",
      "\t'activity_id.institution_id.source_id.experiment_id.member_id.table_id.variable_id.grid_label.zstore.dcpp_init_year.version'\n"
     ]
    },
    {
     "data": {
      "text/html": [
       "\n",
       "<style>\n",
       "    /* Turns off some styling */\n",
       "    progress {\n",
       "        /* gets rid of default border in Firefox and Opera. */\n",
       "        border: none;\n",
       "        /* Needs to be in here for Safari polyfill so background images work as expected. */\n",
       "        background-size: auto;\n",
       "    }\n",
       "    .progress-bar-interrupted, .progress-bar-interrupted::-webkit-progress-bar {\n",
       "        background: #F44336;\n",
       "    }\n",
       "</style>\n"
      ],
      "text/plain": [
       "<IPython.core.display.HTML object>"
      ]
     },
     "metadata": {},
     "output_type": "display_data"
    },
    {
     "data": {
      "text/html": [
       "\n",
       "    <div>\n",
       "      <progress value='1' class='' max='1' style='width:300px; height:20px; vertical-align: middle;'></progress>\n",
       "      100.00% [1/1 00:00<00:00]\n",
       "    </div>\n",
       "    "
      ],
      "text/plain": [
       "<IPython.core.display.HTML object>"
      ]
     },
     "metadata": {},
     "output_type": "display_data"
    },
    {
     "data": {
      "text/plain": [
       "[('CESM2-WACCM-FV2.gr.historical.Omon',\n",
       "  <xarray.Dataset>\n",
       "  Dimensions:        (time: 1980, y: 180, x: 360, bnds: 2, vertex: 4)\n",
       "  Coordinates:\n",
       "    * y              (y) float64 -89.5 -88.5 -87.5 -86.5 ... 86.5 87.5 88.5 89.5\n",
       "    * x              (x) float64 0.5 1.5 2.5 3.5 4.5 ... 356.5 357.5 358.5 359.5\n",
       "    * time           (time) object 1850-01-15 13:00:00 ... 2014-12-15 12:00:00\n",
       "      lat_bounds     (y, bnds, x) float64 dask.array<chunksize=(180, 2, 360), meta=np.ndarray>\n",
       "      lon_bounds     (x, bnds, y) float64 dask.array<chunksize=(360, 2, 180), meta=np.ndarray>\n",
       "      time_bounds    (time, bnds) object dask.array<chunksize=(1980, 2), meta=np.ndarray>\n",
       "      lon            (x, y) float64 0.5 0.5 0.5 0.5 ... 359.5 359.5 359.5 359.5\n",
       "      lat            (x, y) float64 -89.5 -88.5 -87.5 -86.5 ... 87.5 88.5 89.5\n",
       "      lon_verticies  (vertex, x, y) float64 dask.array<chunksize=(1, 360, 180), meta=np.ndarray>\n",
       "      lat_verticies  (vertex, x, y) float64 dask.array<chunksize=(1, 360, 180), meta=np.ndarray>\n",
       "  Dimensions without coordinates: bnds, vertex\n",
       "  Data variables:\n",
       "      intpp          (time, y, x) float32 dask.array<chunksize=(192, 180, 360), meta=np.ndarray>\n",
       "  Attributes: (12/50)\n",
       "      Conventions:             CF-1.7 CMIP-6.2\n",
       "      activity_id:             CMIP\n",
       "      branch_method:           standard\n",
       "      branch_time_in_child:    674885.0\n",
       "      branch_time_in_parent:   10950.0\n",
       "      case_id:                 1562\n",
       "      ...                      ...\n",
       "      variant_info:            CMIP6 CESM2 historical ensemble with WACCM6-FV2 ...\n",
       "      variant_label:           r1i1p1f1\n",
       "      netcdf_tracking_ids:     hdl:21.14100/d8d2cbf2-bba0-4bed-a564-bcd527b891a...\n",
       "      version_id:              v20191120\n",
       "      intake_esm_varname:      None\n",
       "      intake_esm_dataset_key:  CMIP.NCAR.CESM2-WACCM-FV2.historical.r1i1p1f1.Om...)]"
      ]
     },
     "execution_count": 7,
     "metadata": {},
     "output_type": "execute_result"
    }
   ],
   "source": [
    "variables = ['intpp']\n",
    "z_kwargs = {'consolidated': True, 'use_cftime': True}\n",
    "query = dict(experiment_id=['historical'], \n",
    "             table_id=['Omon'], \n",
    "             variable_id=variables,\n",
    "             member_id = ['r1i1p1f1'],\n",
    "             grid_label=['gr'],\n",
    "              source_id=['CESM2-WACCM-FV2']\n",
    "            )\n",
    "\n",
    "\n",
    "cat = col.search(**query)\n",
    "\n",
    "# print(cat.df['source_id'].unique())\n",
    "dd_CESM2WACCMFV2 = cat.to_dataset_dict(zarr_kwargs=z_kwargs, storage_options={'token': 'anon'},\n",
    "                                preprocess=combined_preprocessing, aggregate=False)\n",
    "\n",
    "dd_CESM2WACCMFV2 = merge_variables(dd_CESM2WACCMFV2)\n",
    "# list(dd_new.keys())\n",
    "\n",
    "# temp={}\n",
    "# for name,item in dd_gn.items():\n",
    "#     #print(name)\n",
    "#     #print(item.data_vars)\n",
    "#     present = item.data_vars\n",
    "#     if all(i in present for i in variables):\n",
    "#         #print(name)\n",
    "#         temp[name]=item\n",
    "# dd_gn = temp\n",
    "\n",
    "\n",
    "dd_CESM2WACCMFV2 = combine_datasets(\n",
    "    dd_CESM2WACCMFV2,\n",
    "    pick_first_member,\n",
    "    match_attrs=['source_id', 'grid_label', 'experiment_id', 'table_id']\n",
    ")\n",
    "\n",
    "list(dd_CESM2WACCMFV2.items())\n",
    "# dd_new_new_gn"
   ]
  },
  {
   "cell_type": "markdown",
   "id": "267fa8d7-480f-4b7f-9a55-9aec8920b0c5",
   "metadata": {},
   "source": [
    "# UKESM1-0-LL\n",
    "> `CMIP6.CMIP.MOHC.UKESM1-0-LL.historical.r9i1p1f2.Omon.vo.gn.v20190603`\n",
    "\n",
    "> `CMIP6.CMIP.MOHC.UKESM1-0-LL.historical.r9i1p1f2.SImon.siconc.gn.v20200310` \n",
    "\n",
    "> `CMIP6.CMIP.MOHC.UKESM1-0-LL.historical.r9i1p1f2.Omon.intpp.gn.v20191015`"
   ]
  },
  {
   "cell_type": "code",
   "execution_count": 8,
   "id": "18db9a54-1b72-4084-b89b-65fa838c89cc",
   "metadata": {},
   "outputs": [
    {
     "name": "stdout",
     "output_type": "stream",
     "text": [
      "\n",
      "--> The keys in the returned dictionary of datasets are constructed as follows:\n",
      "\t'activity_id.institution_id.source_id.experiment_id.member_id.table_id.variable_id.grid_label.zstore.dcpp_init_year.version'\n"
     ]
    },
    {
     "data": {
      "text/html": [
       "\n",
       "<style>\n",
       "    /* Turns off some styling */\n",
       "    progress {\n",
       "        /* gets rid of default border in Firefox and Opera. */\n",
       "        border: none;\n",
       "        /* Needs to be in here for Safari polyfill so background images work as expected. */\n",
       "        background-size: auto;\n",
       "    }\n",
       "    .progress-bar-interrupted, .progress-bar-interrupted::-webkit-progress-bar {\n",
       "        background: #F44336;\n",
       "    }\n",
       "</style>\n"
      ],
      "text/plain": [
       "<IPython.core.display.HTML object>"
      ]
     },
     "metadata": {},
     "output_type": "display_data"
    },
    {
     "data": {
      "text/html": [
       "\n",
       "    <div>\n",
       "      <progress value='1' class='' max='1' style='width:300px; height:20px; vertical-align: middle;'></progress>\n",
       "      100.00% [1/1 00:00<00:00]\n",
       "    </div>\n",
       "    "
      ],
      "text/plain": [
       "<IPython.core.display.HTML object>"
      ]
     },
     "metadata": {},
     "output_type": "display_data"
    },
    {
     "data": {
      "text/plain": [
       "[('UKESM1-0-LL.gn.historical.Omon',\n",
       "  <xarray.Dataset>\n",
       "  Dimensions:        (time: 1980, y: 330, x: 360, bnds: 2, vertex: 4)\n",
       "  Coordinates:\n",
       "    * x              (x) int32 0 1 2 3 4 5 6 7 ... 352 353 354 355 356 357 358 359\n",
       "    * y              (y) int32 0 1 2 3 4 5 6 7 ... 322 323 324 325 326 327 328 329\n",
       "    * time           (time) object 1850-01-16 00:00:00 ... 2014-12-16 00:00:00\n",
       "      lat            (y, x) float32 dask.array<chunksize=(330, 360), meta=np.ndarray>\n",
       "      lon            (y, x) float32 dask.array<chunksize=(330, 360), meta=np.ndarray>\n",
       "      time_bounds    (time, bnds) object dask.array<chunksize=(1980, 2), meta=np.ndarray>\n",
       "      lat_verticies  (y, x, vertex) float32 dask.array<chunksize=(330, 360, 4), meta=np.ndarray>\n",
       "      lon_verticies  (y, x, vertex) float32 dask.array<chunksize=(330, 360, 4), meta=np.ndarray>\n",
       "      lon_bounds     (bnds, y, x) float32 dask.array<chunksize=(1, 330, 360), meta=np.ndarray>\n",
       "      lat_bounds     (bnds, y, x) float32 dask.array<chunksize=(1, 330, 360), meta=np.ndarray>\n",
       "  Dimensions without coordinates: bnds, vertex\n",
       "  Data variables:\n",
       "      intpp          (time, y, x) float32 dask.array<chunksize=(230, 330, 360), meta=np.ndarray>\n",
       "  Attributes: (12/52)\n",
       "      Conventions:             CF-1.7 CMIP-6.2\n",
       "      activity_id:             CMIP\n",
       "      branch_method:           standard\n",
       "      branch_time_in_child:    0.0\n",
       "      branch_time_in_parent:   156600.0\n",
       "      cmor_version:            3.4.0\n",
       "      ...                      ...\n",
       "      variable_name:           intpp\n",
       "      variant_label:           r9i1p1f2\n",
       "      netcdf_tracking_ids:     hdl:21.14100/f706eda4-47b9-4e60-935d-99d3b3892db...\n",
       "      version_id:              v20191015\n",
       "      intake_esm_varname:      None\n",
       "      intake_esm_dataset_key:  CMIP.MOHC.UKESM1-0-LL.historical.r9i1p1f2.Omon.i...)]"
      ]
     },
     "execution_count": 8,
     "metadata": {},
     "output_type": "execute_result"
    }
   ],
   "source": [
    "variables = ['intpp']\n",
    "z_kwargs = {'consolidated': True, 'use_cftime': True}\n",
    "query = dict(experiment_id=['historical'], \n",
    "             table_id=['Omon'], \n",
    "             variable_id=variables,\n",
    "             member_id = ['r9i1p1f2'],\n",
    "             # grid_label=['gn'],\n",
    "              source_id=['UKESM1-0-LL']\n",
    "            )\n",
    "\n",
    "\n",
    "cat = col.search(**query)\n",
    "\n",
    "# print(cat.df['source_id'].unique())\n",
    "dd_UKESM1 = cat.to_dataset_dict(zarr_kwargs=z_kwargs, storage_options={'token': 'anon'},\n",
    "                                preprocess=combined_preprocessing, aggregate=False)\n",
    "\n",
    "dd_UKESM1 = merge_variables(dd_UKESM1)\n",
    "# list(dd_new.keys())\n",
    "\n",
    "# temp={}\n",
    "# for name,item in dd_gn.items():\n",
    "#     #print(name)\n",
    "#     #print(item.data_vars)\n",
    "#     present = item.data_vars\n",
    "#     if all(i in present for i in variables):\n",
    "#         #print(name)\n",
    "#         temp[name]=item\n",
    "# dd_gn = temp\n",
    "\n",
    "\n",
    "dd_UKESM1 = combine_datasets(\n",
    "    dd_UKESM1,\n",
    "    pick_first_member,\n",
    "    match_attrs=['source_id', 'grid_label', 'experiment_id', 'table_id']\n",
    ")\n",
    "\n",
    "list(dd_UKESM1.items())\n",
    "# dd_new_new_gn"
   ]
  },
  {
   "cell_type": "markdown",
   "id": "687969de-227c-411b-98d5-650b382304af",
   "metadata": {},
   "source": [
    "# CanESM5-CanOE\n",
    "> `CMIP6.CMIP.CCCma.CanESM5-CanOE.historical.r3i1p2f1.Omon.vo.gn.v20190429`\n",
    "\n",
    "> `CMIP6.CMIP.CCCma.CanESM5-CanOE.historical.r3i1p2f1.SImon.siconc.gn.v20190429`\n",
    "\n",
    "> `CMIP6.CMIP.CCCma.CanESM5-CanOE.historical.r3i1p2f1.Omon.intpp.gn.v20190429` "
   ]
  },
  {
   "cell_type": "code",
   "execution_count": 9,
   "id": "1762cea4-728e-441d-819e-8133307da886",
   "metadata": {},
   "outputs": [
    {
     "name": "stdout",
     "output_type": "stream",
     "text": [
      "\n",
      "--> The keys in the returned dictionary of datasets are constructed as follows:\n",
      "\t'activity_id.institution_id.source_id.experiment_id.member_id.table_id.variable_id.grid_label.zstore.dcpp_init_year.version'\n"
     ]
    },
    {
     "data": {
      "text/html": [
       "\n",
       "<style>\n",
       "    /* Turns off some styling */\n",
       "    progress {\n",
       "        /* gets rid of default border in Firefox and Opera. */\n",
       "        border: none;\n",
       "        /* Needs to be in here for Safari polyfill so background images work as expected. */\n",
       "        background-size: auto;\n",
       "    }\n",
       "    .progress-bar-interrupted, .progress-bar-interrupted::-webkit-progress-bar {\n",
       "        background: #F44336;\n",
       "    }\n",
       "</style>\n"
      ],
      "text/plain": [
       "<IPython.core.display.HTML object>"
      ]
     },
     "metadata": {},
     "output_type": "display_data"
    },
    {
     "data": {
      "text/html": [
       "\n",
       "    <div>\n",
       "      <progress value='1' class='' max='1' style='width:300px; height:20px; vertical-align: middle;'></progress>\n",
       "      100.00% [1/1 00:00<00:00]\n",
       "    </div>\n",
       "    "
      ],
      "text/plain": [
       "<IPython.core.display.HTML object>"
      ]
     },
     "metadata": {},
     "output_type": "display_data"
    },
    {
     "data": {
      "text/plain": [
       "[('CanESM5-CanOE.gn.historical.Omon',\n",
       "  <xarray.Dataset>\n",
       "  Dimensions:        (time: 1980, y: 291, x: 360, bnds: 2, vertex: 4)\n",
       "  Coordinates:\n",
       "    * x              (x) int32 0 1 2 3 4 5 6 7 ... 352 353 354 355 356 357 358 359\n",
       "    * y              (y) int32 0 1 2 3 4 5 6 7 ... 283 284 285 286 287 288 289 290\n",
       "    * time           (time) object 1850-01-16 12:00:00 ... 2014-12-16 12:00:00\n",
       "      lat            (y, x) float64 dask.array<chunksize=(291, 360), meta=np.ndarray>\n",
       "      lon            (y, x) float64 dask.array<chunksize=(291, 360), meta=np.ndarray>\n",
       "      time_bounds    (time, bnds) object dask.array<chunksize=(1980, 2), meta=np.ndarray>\n",
       "      lat_verticies  (y, x, vertex) float64 dask.array<chunksize=(291, 360, 4), meta=np.ndarray>\n",
       "      lon_verticies  (y, x, vertex) float64 dask.array<chunksize=(291, 360, 4), meta=np.ndarray>\n",
       "      lon_bounds     (bnds, y, x) float64 dask.array<chunksize=(1, 291, 360), meta=np.ndarray>\n",
       "      lat_bounds     (bnds, y, x) float64 dask.array<chunksize=(1, 291, 360), meta=np.ndarray>\n",
       "  Dimensions without coordinates: bnds, vertex\n",
       "  Data variables:\n",
       "      intpp          (time, y, x) float32 dask.array<chunksize=(211, 291, 360), meta=np.ndarray>\n",
       "  Attributes: (12/58)\n",
       "      CCCma_model_hash:            cf1c106c42298308cd44798411445ff4f405340f\n",
       "      CCCma_parent_runid:          canoecpl-007\n",
       "      CCCma_pycmor_hash:           3ecdc18eb7c1f7fbce0346850f41adf815d9fb66\n",
       "      CCCma_runid:                 c2-his03\n",
       "      Conventions:                 CF-1.7 CMIP-6.2\n",
       "      YMDH_branch_time_in_child:   1850:01:01:00\n",
       "      ...                          ...\n",
       "      variant_label:               r3i1p2f1\n",
       "      version:                     v20190429\n",
       "      netcdf_tracking_ids:         hdl:21.14100/8e830b70-62f4-492f-a9b4-497033e...\n",
       "      version_id:                  v20190429\n",
       "      intake_esm_varname:          None\n",
       "      intake_esm_dataset_key:      CMIP.CCCma.CanESM5-CanOE.historical.r3i1p2f1...)]"
      ]
     },
     "execution_count": 9,
     "metadata": {},
     "output_type": "execute_result"
    }
   ],
   "source": [
    "variables = ['intpp']\n",
    "z_kwargs = {'consolidated': True, 'use_cftime': True}\n",
    "query = dict(experiment_id=['historical'], \n",
    "             table_id=['Omon'], \n",
    "             variable_id=variables,\n",
    "             member_id = ['r3i1p2f1'],\n",
    "             # grid_label=['gn'],\n",
    "              source_id=['CanESM5-CanOE']\n",
    "            )\n",
    "\n",
    "\n",
    "cat = col.search(**query)\n",
    "\n",
    "# print(cat.df['source_id'].unique())\n",
    "dd_CanOE = cat.to_dataset_dict(zarr_kwargs=z_kwargs, storage_options={'token': 'anon'},\n",
    "                                preprocess=combined_preprocessing, aggregate=False)\n",
    "\n",
    "dd_CanOE = merge_variables(dd_CanOE)\n",
    "# list(dd_new.keys())\n",
    "\n",
    "# temp={}\n",
    "# for name,item in dd_gn.items():\n",
    "#     #print(name)\n",
    "#     #print(item.data_vars)\n",
    "#     present = item.data_vars\n",
    "#     if all(i in present for i in variables):\n",
    "#         #print(name)\n",
    "#         temp[name]=item\n",
    "# dd_gn = temp\n",
    "\n",
    "\n",
    "dd_CanOE = combine_datasets(\n",
    "    dd_CanOE,\n",
    "    pick_first_member,\n",
    "    match_attrs=['source_id', 'grid_label', 'experiment_id', 'table_id']\n",
    ")\n",
    "\n",
    "list(dd_CanOE.items())\n",
    "# dd_new_new_gn"
   ]
  },
  {
   "cell_type": "markdown",
   "id": "252fd9d7-7f70-41c8-ba66-a20ef787afb2",
   "metadata": {},
   "source": [
    "# MRI-ESM2-0\n",
    "> `CMIP6.CMIP.MRI.MRI-ESM2-0.historical.r1i2p1f1.Omon.intpp.gn.v20210311`\n",
    "\n",
    "> `CMIP6.CMIP.MRI.MRI-ESM2-0.historical.r1i2p1f1.SImon.siconc.gn.v20210311`\n",
    "\n",
    "> `CMIP6.CMIP.MRI.MRI-ESM2-0.historical.r1i2p1f1.Omon.vo.gn.v20210311` "
   ]
  },
  {
   "cell_type": "code",
   "execution_count": 11,
   "id": "4d3ff747-12db-4e2f-beea-358b9cb83c54",
   "metadata": {},
   "outputs": [
    {
     "name": "stdout",
     "output_type": "stream",
     "text": [
      "\n",
      "--> The keys in the returned dictionary of datasets are constructed as follows:\n",
      "\t'activity_id.institution_id.source_id.experiment_id.member_id.table_id.variable_id.grid_label.zstore.dcpp_init_year.version'\n"
     ]
    },
    {
     "data": {
      "text/html": [
       "\n",
       "<style>\n",
       "    /* Turns off some styling */\n",
       "    progress {\n",
       "        /* gets rid of default border in Firefox and Opera. */\n",
       "        border: none;\n",
       "        /* Needs to be in here for Safari polyfill so background images work as expected. */\n",
       "        background-size: auto;\n",
       "    }\n",
       "    .progress-bar-interrupted, .progress-bar-interrupted::-webkit-progress-bar {\n",
       "        background: #F44336;\n",
       "    }\n",
       "</style>\n"
      ],
      "text/plain": [
       "<IPython.core.display.HTML object>"
      ]
     },
     "metadata": {},
     "output_type": "display_data"
    },
    {
     "data": {
      "text/html": [
       "\n",
       "    <div>\n",
       "      <progress value='1' class='' max='1' style='width:300px; height:20px; vertical-align: middle;'></progress>\n",
       "      100.00% [1/1 00:00<00:00]\n",
       "    </div>\n",
       "    "
      ],
      "text/plain": [
       "<IPython.core.display.HTML object>"
      ]
     },
     "metadata": {},
     "output_type": "display_data"
    },
    {
     "data": {
      "text/plain": [
       "[('MRI-ESM2-0.gr.historical.Omon',\n",
       "  <xarray.Dataset>\n",
       "  Dimensions:        (time: 1980, y: 180, x: 360, bnds: 2, vertex: 4)\n",
       "  Coordinates:\n",
       "    * y              (y) float64 -89.5 -88.5 -87.5 -86.5 ... 86.5 87.5 88.5 89.5\n",
       "    * x              (x) float64 0.5 1.5 2.5 3.5 4.5 ... 356.5 357.5 358.5 359.5\n",
       "    * time           (time) object 1850-01-16 12:00:00 ... 2014-12-16 12:00:00\n",
       "      lat_bounds     (y, bnds, x) float64 dask.array<chunksize=(180, 2, 360), meta=np.ndarray>\n",
       "      lon_bounds     (x, bnds, y) float64 dask.array<chunksize=(360, 2, 180), meta=np.ndarray>\n",
       "      time_bounds    (time, bnds) object dask.array<chunksize=(1980, 2), meta=np.ndarray>\n",
       "      lon            (x, y) float64 0.5 0.5 0.5 0.5 ... 359.5 359.5 359.5 359.5\n",
       "      lat            (x, y) float64 -89.5 -88.5 -87.5 -86.5 ... 87.5 88.5 89.5\n",
       "      lon_verticies  (vertex, x, y) float64 dask.array<chunksize=(1, 360, 180), meta=np.ndarray>\n",
       "      lat_verticies  (vertex, x, y) float64 dask.array<chunksize=(1, 360, 180), meta=np.ndarray>\n",
       "  Dimensions without coordinates: bnds, vertex\n",
       "  Data variables:\n",
       "      intpp          (time, y, x) float32 dask.array<chunksize=(366, 180, 360), meta=np.ndarray>\n",
       "  Attributes: (12/49)\n",
       "      Conventions:             CF-1.7 CMIP-6.2\n",
       "      activity_id:             CMIP\n",
       "      branch_method:           standard\n",
       "      branch_time_in_child:    0.0\n",
       "      branch_time_in_parent:   0.0\n",
       "      cmor_version:            3.5.0\n",
       "      ...                      ...\n",
       "      variable_id:             intpp\n",
       "      variant_label:           r1i2p1f1\n",
       "      netcdf_tracking_ids:     hdl:21.14100/672ee822-72f4-41d0-9b42-cb698c8f6e10\n",
       "      version_id:              v20200303\n",
       "      intake_esm_varname:      None\n",
       "      intake_esm_dataset_key:  CMIP.MRI.MRI-ESM2-0.historical.r1i2p1f1.Omon.int...)]"
      ]
     },
     "execution_count": 11,
     "metadata": {},
     "output_type": "execute_result"
    }
   ],
   "source": [
    "variables = ['intpp']\n",
    "z_kwargs = {'consolidated': True, 'use_cftime': True}\n",
    "query = dict(experiment_id=['historical'], \n",
    "             table_id=['Omon'], \n",
    "             variable_id=variables,\n",
    "             member_id = ['r1i2p1f1'],\n",
    "             grid_label=['gr'],\n",
    "              source_id=['MRI-ESM2-0']\n",
    "            )\n",
    "\n",
    "\n",
    "cat = col.search(**query)\n",
    "\n",
    "# print(cat.df['source_id'].unique())\n",
    "dd_MRI = cat.to_dataset_dict(zarr_kwargs=z_kwargs, storage_options={'token': 'anon'},\n",
    "                                preprocess=combined_preprocessing, aggregate=False)\n",
    "\n",
    "dd_MRI = merge_variables(dd_MRI)\n",
    "# list(dd_new.keys())\n",
    "\n",
    "# temp={}\n",
    "# for name,item in dd_gn.items():\n",
    "#     #print(name)\n",
    "#     #print(item.data_vars)\n",
    "#     present = item.data_vars\n",
    "#     if all(i in present for i in variables):\n",
    "#         #print(name)\n",
    "#         temp[name]=item\n",
    "# dd_gn = temp\n",
    "\n",
    "\n",
    "dd_MRI = combine_datasets(\n",
    "    dd_MRI,\n",
    "    pick_first_member,\n",
    "    match_attrs=['source_id', 'grid_label', 'experiment_id', 'table_id']\n",
    ")\n",
    "\n",
    "list(dd_MRI.items())\n",
    "# dd_new_new_gn"
   ]
  },
  {
   "cell_type": "markdown",
   "id": "c20adcec-1a10-4ec6-81f1-8b3ba1859ee6",
   "metadata": {},
   "source": [
    "# IPSL-CM6A-LR\n",
    "> `CMIP6.CMIP.IPSL.IPSL-CM6A-LR.historical.r1i1p1f1.Omon.vo.gn.v20180803`\n",
    "\n",
    "> `CMIP6.CMIP.IPSL.IPSL-CM6A-LR.historical.r1i1p1f1.SImon.siconc.gn.v20180803`\n",
    "\n",
    "> `CMIP6.CMIP.IPSL.IPSL-CM6A-LR.historical.r1i1p1f1.Omon.intpp.gn.v20180803`"
   ]
  },
  {
   "cell_type": "code",
   "execution_count": 12,
   "id": "f689f156-aba1-4e1b-a1bc-e01ce8884aa1",
   "metadata": {},
   "outputs": [
    {
     "name": "stdout",
     "output_type": "stream",
     "text": [
      "\n",
      "--> The keys in the returned dictionary of datasets are constructed as follows:\n",
      "\t'activity_id.institution_id.source_id.experiment_id.member_id.table_id.variable_id.grid_label.zstore.dcpp_init_year.version'\n"
     ]
    },
    {
     "data": {
      "text/html": [
       "\n",
       "<style>\n",
       "    /* Turns off some styling */\n",
       "    progress {\n",
       "        /* gets rid of default border in Firefox and Opera. */\n",
       "        border: none;\n",
       "        /* Needs to be in here for Safari polyfill so background images work as expected. */\n",
       "        background-size: auto;\n",
       "    }\n",
       "    .progress-bar-interrupted, .progress-bar-interrupted::-webkit-progress-bar {\n",
       "        background: #F44336;\n",
       "    }\n",
       "</style>\n"
      ],
      "text/plain": [
       "<IPython.core.display.HTML object>"
      ]
     },
     "metadata": {},
     "output_type": "display_data"
    },
    {
     "data": {
      "text/html": [
       "\n",
       "    <div>\n",
       "      <progress value='1' class='' max='1' style='width:300px; height:20px; vertical-align: middle;'></progress>\n",
       "      100.00% [1/1 00:00<00:00]\n",
       "    </div>\n",
       "    "
      ],
      "text/plain": [
       "<IPython.core.display.HTML object>"
      ]
     },
     "metadata": {},
     "output_type": "display_data"
    },
    {
     "data": {
      "text/plain": [
       "[('IPSL-CM6A-LR.gn.historical.Omon',\n",
       "  <xarray.Dataset>\n",
       "  Dimensions:        (y: 332, x: 362, time: 1980, vertex: 4, bnds: 2)\n",
       "  Coordinates:\n",
       "      lat_verticies  (y, x, vertex) float32 dask.array<chunksize=(332, 362, 4), meta=np.ndarray>\n",
       "      lon_verticies  (y, x, vertex) float32 dask.array<chunksize=(332, 362, 4), meta=np.ndarray>\n",
       "    * time           (time) object 1850-01-16 12:00:00 ... 2014-12-16 12:00:00\n",
       "      lat            (y, x) float32 dask.array<chunksize=(332, 362), meta=np.ndarray>\n",
       "      lon            (y, x) float32 dask.array<chunksize=(332, 362), meta=np.ndarray>\n",
       "      time_bounds    (time, bnds) object dask.array<chunksize=(1980, 2), meta=np.ndarray>\n",
       "    * y              (y) int64 0 1 2 3 4 5 6 7 ... 324 325 326 327 328 329 330 331\n",
       "    * x              (x) int64 0 1 2 3 4 5 6 7 ... 354 355 356 357 358 359 360 361\n",
       "      lon_bounds     (bnds, y, x) float32 dask.array<chunksize=(1, 332, 362), meta=np.ndarray>\n",
       "      lat_bounds     (bnds, y, x) float32 dask.array<chunksize=(1, 332, 362), meta=np.ndarray>\n",
       "  Dimensions without coordinates: vertex, bnds\n",
       "  Data variables:\n",
       "      area           (y, x) float32 dask.array<chunksize=(332, 362), meta=np.ndarray>\n",
       "      intpp          (time, y, x) float32 dask.array<chunksize=(234, 332, 362), meta=np.ndarray>\n",
       "  Attributes: (12/56)\n",
       "      CMIP6_CV_version:        cv=6.2.3.5-2-g63b123e\n",
       "      Conventions:             CF-1.7 CMIP-6.2\n",
       "      EXPID:                   historical\n",
       "      NCO:                     \"4.6.0\"\n",
       "      activity_id:             CMIP\n",
       "      branch_method:           standard\n",
       "      ...                      ...\n",
       "      variable_id:             intpp\n",
       "      variant_label:           r1i1p1f1\n",
       "      netcdf_tracking_ids:     hdl:21.14100/1a02f08e-7c26-479c-b65d-b42ad695ef2e\n",
       "      version_id:              v20180803\n",
       "      intake_esm_varname:      None\n",
       "      intake_esm_dataset_key:  CMIP.IPSL.IPSL-CM6A-LR.historical.r1i1p1f1.Omon....)]"
      ]
     },
     "execution_count": 12,
     "metadata": {},
     "output_type": "execute_result"
    }
   ],
   "source": [
    "variables = ['intpp']\n",
    "z_kwargs = {'consolidated': True, 'use_cftime': True}\n",
    "query = dict(experiment_id=['historical'], \n",
    "             table_id=['Omon'], \n",
    "             variable_id=variables,\n",
    "             member_id = ['r1i1p1f1'],\n",
    "             # grid_label=['gn'],\n",
    "              source_id=['IPSL-CM6A-LR']\n",
    "            )\n",
    "\n",
    "\n",
    "cat = col.search(**query)\n",
    "\n",
    "# print(cat.df['source_id'].unique())\n",
    "dd_IPSL = cat.to_dataset_dict(zarr_kwargs=z_kwargs, storage_options={'token': 'anon'},\n",
    "                                preprocess=combined_preprocessing, aggregate=False)\n",
    "\n",
    "dd_IPSL = merge_variables(dd_IPSL)\n",
    "# list(dd_new.keys())\n",
    "\n",
    "# temp={}\n",
    "# for name,item in dd_gn.items():\n",
    "#     #print(name)\n",
    "#     #print(item.data_vars)\n",
    "#     present = item.data_vars\n",
    "#     if all(i in present for i in variables):\n",
    "#         #print(name)\n",
    "#         temp[name]=item\n",
    "# dd_gn = temp\n",
    "\n",
    "\n",
    "dd_IPSL = combine_datasets(\n",
    "    dd_IPSL,\n",
    "    pick_first_member,\n",
    "    match_attrs=['source_id', 'grid_label', 'experiment_id', 'table_id']\n",
    ")\n",
    "\n",
    "list(dd_IPSL.items())\n",
    "# dd_new_new_gn"
   ]
  },
  {
   "cell_type": "markdown",
   "id": "b27854fc-0984-4a5b-8d4e-24b96aebb94d",
   "metadata": {},
   "source": [
    "# CNRM-ESM2-1\n",
    "> `CMIP6.CMIP.CNRM-CERFACS.CNRM-ESM2-1.historical.r6i1p1f2.Omon.intpp.gn.v20200117`\n",
    "\n",
    "> `CMIP6.CMIP.CNRM-CERFACS.CNRM-ESM2-1.historical.r4i1p1f2.SImon.siconc.gn.v20190125`\n",
    "\n",
    "> `CMIP6.CMIP.CNRM-CERFACS.CNRM-ESM2-1.historical.r6i1p1f2.Omon.vo.gn.v20200117`"
   ]
  },
  {
   "cell_type": "code",
   "execution_count": 13,
   "id": "f6f7bff2-f9b0-42e6-bc0c-f7f929d6c017",
   "metadata": {},
   "outputs": [
    {
     "name": "stdout",
     "output_type": "stream",
     "text": [
      "\n",
      "--> The keys in the returned dictionary of datasets are constructed as follows:\n",
      "\t'activity_id.institution_id.source_id.experiment_id.member_id.table_id.variable_id.grid_label.zstore.dcpp_init_year.version'\n"
     ]
    },
    {
     "data": {
      "text/html": [
       "\n",
       "<style>\n",
       "    /* Turns off some styling */\n",
       "    progress {\n",
       "        /* gets rid of default border in Firefox and Opera. */\n",
       "        border: none;\n",
       "        /* Needs to be in here for Safari polyfill so background images work as expected. */\n",
       "        background-size: auto;\n",
       "    }\n",
       "    .progress-bar-interrupted, .progress-bar-interrupted::-webkit-progress-bar {\n",
       "        background: #F44336;\n",
       "    }\n",
       "</style>\n"
      ],
      "text/plain": [
       "<IPython.core.display.HTML object>"
      ]
     },
     "metadata": {},
     "output_type": "display_data"
    },
    {
     "data": {
      "text/html": [
       "\n",
       "    <div>\n",
       "      <progress value='1' class='' max='1' style='width:300px; height:20px; vertical-align: middle;'></progress>\n",
       "      100.00% [1/1 00:00<00:00]\n",
       "    </div>\n",
       "    "
      ],
      "text/plain": [
       "<IPython.core.display.HTML object>"
      ]
     },
     "metadata": {},
     "output_type": "display_data"
    },
    {
     "data": {
      "text/plain": [
       "[('CNRM-ESM2-1.gn.historical.Omon',\n",
       "  <xarray.Dataset>\n",
       "  Dimensions:        (time: 1980, y: 294, x: 362, vertex: 4, bnds: 2)\n",
       "  Coordinates:\n",
       "      lat_verticies  (y, x, vertex) float64 dask.array<chunksize=(294, 362, 4), meta=np.ndarray>\n",
       "      lon_verticies  (y, x, vertex) float64 dask.array<chunksize=(294, 362, 4), meta=np.ndarray>\n",
       "    * time           (time) object 1850-01-16 12:00:00 ... 2014-12-16 12:00:00\n",
       "      lat            (y, x) float64 dask.array<chunksize=(294, 362), meta=np.ndarray>\n",
       "      lon            (y, x) float64 dask.array<chunksize=(294, 362), meta=np.ndarray>\n",
       "      time_bounds    (time, bnds) object dask.array<chunksize=(1980, 2), meta=np.ndarray>\n",
       "    * y              (y) int64 0 1 2 3 4 5 6 7 ... 286 287 288 289 290 291 292 293\n",
       "    * x              (x) int64 0 1 2 3 4 5 6 7 ... 354 355 356 357 358 359 360 361\n",
       "      lon_bounds     (bnds, y, x) float64 dask.array<chunksize=(1, 294, 362), meta=np.ndarray>\n",
       "      lat_bounds     (bnds, y, x) float64 dask.array<chunksize=(1, 294, 362), meta=np.ndarray>\n",
       "  Dimensions without coordinates: vertex, bnds\n",
       "  Data variables:\n",
       "      intpp          (time, y, x) float32 dask.array<chunksize=(232, 294, 362), meta=np.ndarray>\n",
       "  Attributes: (12/57)\n",
       "      CMIP6_CV_version:        cv=6.2.3.0-7-g2019642\n",
       "      Conventions:             CF-1.7 CMIP-6.2\n",
       "      EXPID:                   CNRM-ESM2-1_historical_r6i1p1f2\n",
       "      activity_id:             CMIP\n",
       "      arpege_minor_version:    6.3.2\n",
       "      branch_method:           standard\n",
       "      ...                      ...\n",
       "      variant_label:           r6i1p1f2\n",
       "      xios_commit:             1442-shuffle\n",
       "      netcdf_tracking_ids:     hdl:21.14100/adb5d0b2-4995-4991-becf-a13217801d71\n",
       "      version_id:              v20200117\n",
       "      intake_esm_varname:      None\n",
       "      intake_esm_dataset_key:  CMIP.CNRM-CERFACS.CNRM-ESM2-1.historical.r6i1p1f...)]"
      ]
     },
     "execution_count": 13,
     "metadata": {},
     "output_type": "execute_result"
    }
   ],
   "source": [
    "variables = ['intpp']\n",
    "z_kwargs = {'consolidated': True, 'use_cftime': True}\n",
    "query = dict(experiment_id=['historical'], \n",
    "             table_id=['Omon'], \n",
    "             variable_id=variables,\n",
    "             member_id = ['r6i1p1f2'],\n",
    "             # grid_label=['gn'],\n",
    "              source_id=['CNRM-ESM2-1']\n",
    "            )\n",
    "\n",
    "\n",
    "cat = col.search(**query)\n",
    "\n",
    "# print(cat.df['source_id'].unique())\n",
    "dd_CNRM = cat.to_dataset_dict(zarr_kwargs=z_kwargs, storage_options={'token': 'anon'},\n",
    "                                preprocess=combined_preprocessing, aggregate=False)\n",
    "\n",
    "dd_CNRM = merge_variables(dd_CNRM)\n",
    "# list(dd_new.keys())\n",
    "\n",
    "# temp={}\n",
    "# for name,item in dd_gn.items():\n",
    "#     #print(name)\n",
    "#     #print(item.data_vars)\n",
    "#     present = item.data_vars\n",
    "#     if all(i in present for i in variables):\n",
    "#         #print(name)\n",
    "#         temp[name]=item\n",
    "# dd_gn = temp\n",
    "\n",
    "\n",
    "dd_CNRM = combine_datasets(\n",
    "    dd_CNRM,\n",
    "    pick_first_member,\n",
    "    match_attrs=['source_id', 'grid_label', 'experiment_id', 'table_id']\n",
    ")\n",
    "\n",
    "list(dd_CNRM.items())\n",
    "# dd_new_new_gn"
   ]
  },
  {
   "cell_type": "code",
   "execution_count": null,
   "id": "70c36d40-7d0f-43da-a39f-ba606ebb317c",
   "metadata": {},
   "outputs": [],
   "source": [
    "dd = {**dd_CESM2FV2, **"
   ]
  }
 ],
 "metadata": {
  "kernelspec": {
   "display_name": "Python 3 (ipykernel)",
   "language": "python",
   "name": "python3"
  },
  "language_info": {
   "codemirror_mode": {
    "name": "ipython",
    "version": 3
   },
   "file_extension": ".py",
   "mimetype": "text/x-python",
   "name": "python",
   "nbconvert_exporter": "python",
   "pygments_lexer": "ipython3",
   "version": "3.9.10"
  }
 },
 "nbformat": 4,
 "nbformat_minor": 5
}
