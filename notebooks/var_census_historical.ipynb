{
 "cells": [
  {
   "cell_type": "code",
   "execution_count": null,
   "id": "responsible-parish",
   "metadata": {},
   "outputs": [],
   "source": []
  },
  {
   "cell_type": "code",
   "execution_count": 1,
   "id": "preliminary-conversion",
   "metadata": {},
   "outputs": [],
   "source": [
    "import xarray as xr\n",
    "from cmip6_preprocessing.preprocessing import combined_preprocessing\n",
    "# import PyCO2SYS as pyco2\n",
    "import intake\n",
    "import matplotlib.pyplot as plt\n",
    "import numpy as np\n",
    "import warnings\n",
    "import gsw\n",
    "warnings.filterwarnings(\"ignore\")"
   ]
  },
  {
   "cell_type": "code",
   "execution_count": 3,
   "id": "satisfactory-alignment",
   "metadata": {},
   "outputs": [],
   "source": [
    "col = intake.open_esm_datastore(\"https://storage.googleapis.com/cmip6/pangeo-cmip6.json\")"
   ]
  },
  {
   "cell_type": "code",
   "execution_count": 4,
   "id": "substantial-shadow",
   "metadata": {},
   "outputs": [
    {
     "data": {
      "text/plain": [
       "array(['GFDL-CM4', 'CESM2', 'GISS-E2-1-H', 'GFDL-ESM4', 'CESM2-WACCM',\n",
       "       'NorESM2-LM', 'E3SM-1-0', 'NorCPM1', 'NorESM2-MM', 'CESM2-FV2',\n",
       "       'CESM2-WACCM-FV2', 'E3SM-1-1', 'MRI-ESM2-0', 'E3SM-1-1-ECA'],\n",
       "      dtype=object)"
      ]
     },
     "execution_count": 4,
     "metadata": {},
     "output_type": "execute_result"
    }
   ],
   "source": [
    "cat_so_mon = col.search(variable_id= 'so', experiment_id= 'historical', table_id = 'Omon', grid_label = 'gr')\n",
    "cat_so_mon.df['source_id'].unique()\n",
    "# so1 = [*cat_so_mon]\n",
    "# print(x)"
   ]
  },
  {
   "cell_type": "code",
   "execution_count": 5,
   "id": "impressive-column",
   "metadata": {},
   "outputs": [
    {
     "data": {
      "text/plain": [
       "array(['GFDL-CM4', 'CESM2', 'GISS-E2-1-H', 'GFDL-ESM4', 'CESM2-WACCM',\n",
       "       'NorESM2-LM', 'E3SM-1-0', 'NorCPM1', 'NorESM2-MM', 'CESM2-FV2',\n",
       "       'CESM2-WACCM-FV2', 'E3SM-1-1', 'MRI-ESM2-0', 'E3SM-1-1-ECA',\n",
       "       'EC-Earth3-Veg'], dtype=object)"
      ]
     },
     "execution_count": 5,
     "metadata": {},
     "output_type": "execute_result"
    }
   ],
   "source": [
    "cat_thetao_mon = col.search(variable_id= 'thetao', experiment_id= 'historical', table_id = 'Omon', grid_label = 'gr')\n",
    "cat_thetao_mon.df['source_id'].unique()\n",
    "# thetao1 = [*cat_thetao_mon]\n",
    "# print(thetao1)"
   ]
  },
  {
   "cell_type": "code",
   "execution_count": 6,
   "id": "restricted-rapid",
   "metadata": {},
   "outputs": [
    {
     "data": {
      "text/plain": [
       "array(['GFDL-CM4', 'CESM2', 'GFDL-ESM4', 'CESM2-WACCM', 'NorESM2-LM',\n",
       "       'NorESM2-MM', 'CESM2-WACCM-FV2', 'CESM2-FV2', 'MRI-ESM2-0'],\n",
       "      dtype=object)"
      ]
     },
     "execution_count": 6,
     "metadata": {},
     "output_type": "execute_result"
    }
   ],
   "source": [
    "cat_dissic_mon = col.search(variable_id= 'dissic', experiment_id= 'historical', table_id = 'Omon', grid_label = 'gr')\n",
    "cat_dissic_mon.df['source_id'].unique()\n",
    "# dissic1 = [*cat_dissic_mon]\n",
    "# print(dissic1)"
   ]
  },
  {
   "cell_type": "code",
   "execution_count": 7,
   "id": "smaller-nelson",
   "metadata": {},
   "outputs": [
    {
     "data": {
      "text/plain": [
       "array(['GFDL-CM4', 'CESM2', 'GFDL-ESM4', 'CESM2-WACCM', 'NorESM2-LM',\n",
       "       'NorCPM1', 'CESM2-FV2', 'CESM2-WACCM-FV2', 'MRI-ESM2-0'],\n",
       "      dtype=object)"
      ]
     },
     "execution_count": 7,
     "metadata": {},
     "output_type": "execute_result"
    }
   ],
   "source": [
    "cat_talk_mon = col.search(variable_id= 'talk', experiment_id= 'historical', table_id = 'Omon', grid_label = 'gr')\n",
    "cat_talk_mon.df['source_id'].unique()\n",
    "# talk1 = [*cat_talk_mon]\n",
    "# print(talk1)"
   ]
  },
  {
   "cell_type": "code",
   "execution_count": 8,
   "id": "neither-caution",
   "metadata": {},
   "outputs": [
    {
     "data": {
      "text/plain": [
       "array([], dtype=object)"
      ]
     },
     "execution_count": 8,
     "metadata": {},
     "output_type": "execute_result"
    }
   ],
   "source": [
    "cat_so_yr = col.search(variable_id= 'so', experiment_id= 'historical', table_id = 'Oyr', grid_label = 'gr')\n",
    "cat_so_yr.df['source_id'].unique()\n",
    "# so2 = [*cat_so_yr]"
   ]
  },
  {
   "cell_type": "code",
   "execution_count": 9,
   "id": "loving-notion",
   "metadata": {},
   "outputs": [
    {
     "data": {
      "text/plain": [
       "array([], dtype=object)"
      ]
     },
     "execution_count": 9,
     "metadata": {},
     "output_type": "execute_result"
    }
   ],
   "source": [
    "cat_thetao_yr = col.search(variable_id= 'thetao', experiment_id= 'historical', table_id = 'Oyr', grid_label = 'gr')\n",
    "cat_thetao_yr.df['source_id'].unique()\n",
    "# thetao2 = [*cat_thetao_yr]\n",
    "# print(thetao2)"
   ]
  },
  {
   "cell_type": "code",
   "execution_count": 10,
   "id": "northern-range",
   "metadata": {},
   "outputs": [
    {
     "data": {
      "text/plain": [
       "array(['CESM2', 'GFDL-ESM4', 'CESM2-WACCM', 'NorESM2-LM',\n",
       "       'CESM2-WACCM-FV2', 'CESM2-FV2', 'NorESM2-MM', 'MRI-ESM2-0'],\n",
       "      dtype=object)"
      ]
     },
     "execution_count": 10,
     "metadata": {},
     "output_type": "execute_result"
    }
   ],
   "source": [
    "cat_dissic_yr = col.search(variable_id= 'dissic', experiment_id= 'historical', table_id = 'Oyr', grid_label = 'gr')\n",
    "cat_dissic_yr.df['source_id'].unique()\n",
    "# dissic2 = [*cat_dissic_yr]\n",
    "# print(dissic2)"
   ]
  },
  {
   "cell_type": "code",
   "execution_count": 11,
   "id": "statutory-stadium",
   "metadata": {},
   "outputs": [
    {
     "data": {
      "text/plain": [
       "array(['CESM2', 'GFDL-ESM4', 'NorCPM1', 'CESM2-WACCM', 'NorESM2-LM',\n",
       "       'CESM2-FV2', 'CESM2-WACCM-FV2', 'NorESM2-MM', 'MRI-ESM2-0'],\n",
       "      dtype=object)"
      ]
     },
     "execution_count": 11,
     "metadata": {},
     "output_type": "execute_result"
    }
   ],
   "source": [
    "cat_talk_yr = col.search(variable_id= 'talk', experiment_id= 'historical', table_id = 'Oyr', grid_label = 'gr')\n",
    "cat_talk_yr.df['source_id'].unique()\n",
    "# talk2 = [*cat_talk_yr]\n",
    "# print(talk2)"
   ]
  },
  {
   "cell_type": "code",
   "execution_count": 12,
   "id": "oriented-mentor",
   "metadata": {},
   "outputs": [],
   "source": [
    "so_mon = cat_so_mon.df['source_id'].unique()\n",
    "thetao_mon = cat_thetao_mon.df['source_id'].unique()\n",
    "dissic_mon = cat_dissic_mon.df['source_id'].unique()\n",
    "talk_mon = cat_talk_mon.df['source_id'].unique()\n",
    "so_yr = cat_so_yr.df['source_id'].unique()\n",
    "thetao_yr = cat_thetao_yr.df['source_id'].unique()\n",
    "talk_yr = cat_talk_yr.df['source_id'].unique()\n",
    "dissic_yr = cat_dissic_yr.df['source_id'].unique()"
   ]
  },
  {
   "cell_type": "code",
   "execution_count": 13,
   "id": "contemporary-there",
   "metadata": {},
   "outputs": [
    {
     "name": "stdout",
     "output_type": "stream",
     "text": [
      "so_mon:  ['GFDL-CM4' 'CESM2' 'GISS-E2-1-H' 'GFDL-ESM4' 'CESM2-WACCM' 'NorESM2-LM'\n",
      " 'E3SM-1-0' 'NorCPM1' 'NorESM2-MM' 'CESM2-FV2' 'CESM2-WACCM-FV2'\n",
      " 'E3SM-1-1' 'MRI-ESM2-0' 'E3SM-1-1-ECA']\n",
      "\n",
      "thetao_mon:  ['GFDL-CM4' 'CESM2' 'GISS-E2-1-H' 'GFDL-ESM4' 'CESM2-WACCM' 'NorESM2-LM'\n",
      " 'E3SM-1-0' 'NorCPM1' 'NorESM2-MM' 'CESM2-FV2' 'CESM2-WACCM-FV2'\n",
      " 'E3SM-1-1' 'MRI-ESM2-0' 'E3SM-1-1-ECA' 'EC-Earth3-Veg']\n",
      "\n",
      "dissic_mon:  ['GFDL-CM4' 'CESM2' 'GFDL-ESM4' 'CESM2-WACCM' 'NorESM2-LM' 'NorESM2-MM'\n",
      " 'CESM2-WACCM-FV2' 'CESM2-FV2' 'MRI-ESM2-0']\n",
      "\n",
      "talk_mon:  ['GFDL-CM4' 'CESM2' 'GFDL-ESM4' 'CESM2-WACCM' 'NorESM2-LM' 'NorCPM1'\n",
      " 'CESM2-FV2' 'CESM2-WACCM-FV2' 'MRI-ESM2-0']\n",
      "\n",
      "so_yr:  []\n",
      "\n",
      "thetao_yr:  []\n",
      "\n",
      "talk_yr:  ['CESM2' 'GFDL-ESM4' 'NorCPM1' 'CESM2-WACCM' 'NorESM2-LM' 'CESM2-FV2'\n",
      " 'CESM2-WACCM-FV2' 'NorESM2-MM' 'MRI-ESM2-0']\n",
      "\n",
      "dissic_yr:  ['CESM2' 'GFDL-ESM4' 'CESM2-WACCM' 'NorESM2-LM' 'CESM2-WACCM-FV2'\n",
      " 'CESM2-FV2' 'NorESM2-MM' 'MRI-ESM2-0']\n"
     ]
    }
   ],
   "source": [
    "print('so_mon: ', so_mon)\n",
    "print('\\nthetao_mon: ', thetao_mon) \n",
    "print('\\ndissic_mon: ', dissic_mon) \n",
    "print('\\ntalk_mon: ', talk_mon) \n",
    "print('\\nso_yr: ', so_yr) \n",
    "print('\\nthetao_yr: ',thetao_yr)\n",
    "print('\\ntalk_yr: ',talk_yr) \n",
    "print('\\ndissic_yr: ',dissic_yr)"
   ]
  },
  {
   "cell_type": "code",
   "execution_count": 14,
   "id": "light-difficulty",
   "metadata": {},
   "outputs": [
    {
     "data": {
      "text/plain": [
       "array(['GFDL-CM4', 'IPSL-CM6A-LR', 'GISS-E2-1-G', 'CNRM-CM6-1',\n",
       "       'BCC-CSM2-MR', 'BCC-ESM1', 'CNRM-ESM2-1', 'AWI-CM-1-1-MR',\n",
       "       'CanESM5', 'CESM2', 'MIROC6', 'SAM0-UNICON', 'CanESM5-CanOE',\n",
       "       'UKESM1-0-LL', 'EC-Earth3-Veg', 'HadGEM3-GC31-LL', 'EC-Earth3',\n",
       "       'MPI-ESM-1-2-HAM', 'NESM3', 'CAMS-CSM1-0', 'MPI-ESM1-2-LR',\n",
       "       'MPI-ESM1-2-HR', 'GFDL-ESM4', 'MCM-UA-1-0', 'CESM2-WACCM',\n",
       "       'GISS-E2-1-G-CC', 'NorESM2-LM', 'FGOALS-f3-L', 'MIROC-ES2L',\n",
       "       'NorCPM1', 'FGOALS-g3', 'ACCESS-CM2', 'NorESM2-MM',\n",
       "       'ACCESS-ESM1-5', 'CESM2-FV2', 'CESM2-WACCM-FV2', 'FIO-ESM-2-0',\n",
       "       'AWI-ESM-1-1-LR', 'CIESM', 'CMCC-CM2-SR5', 'EC-Earth3-AerChem',\n",
       "       'TaiESM1', 'CMCC-CM2-HR4', 'CMCC-ESM2'], dtype=object)"
      ]
     },
     "execution_count": 14,
     "metadata": {},
     "output_type": "execute_result"
    }
   ],
   "source": [
    "gn_so_mon = col.search(variable_id= 'so', experiment_id= 'historical', table_id = 'Omon', grid_label = 'gn')\n",
    "gn_so_mon.df['source_id'].unique()"
   ]
  },
  {
   "cell_type": "code",
   "execution_count": 15,
   "id": "sweet-integration",
   "metadata": {},
   "outputs": [
    {
     "data": {
      "text/plain": [
       "array(['IPSL-CM6A-LR', 'CNRM-ESM2-1', 'CESM2', 'CanESM5', 'CanESM5-CanOE',\n",
       "       'MPI-ESM-1-2-HAM', 'UKESM1-0-LL', 'MPI-ESM1-2-LR', 'MPI-ESM1-2-HR',\n",
       "       'CESM2-WACCM', 'GISS-E2-1-G', 'GISS-E2-1-G-CC', 'MIROC-ES2L',\n",
       "       'ACCESS-ESM1-5', 'CESM2-WACCM-FV2', 'CESM2-FV2', 'IPSL-CM5A2-INCA',\n",
       "       'CMCC-ESM2', 'IPSL-CM6A-LR-INCA', 'MRI-ESM2-0'], dtype=object)"
      ]
     },
     "execution_count": 15,
     "metadata": {},
     "output_type": "execute_result"
    }
   ],
   "source": [
    "gn_dissic_mon = col.search(variable_id= 'dissic', experiment_id= 'historical', table_id = 'Omon', grid_label = 'gn')\n",
    "gn_dissic_mon.df['source_id'].unique()"
   ]
  },
  {
   "cell_type": "code",
   "execution_count": 16,
   "id": "previous-annual",
   "metadata": {},
   "outputs": [
    {
     "data": {
      "text/plain": [
       "array(['IPSL-CM6A-LR', 'CNRM-ESM2-1', 'CESM2', 'CanESM5', 'CanESM5-CanOE',\n",
       "       'MPI-ESM-1-2-HAM', 'UKESM1-0-LL', 'MPI-ESM1-2-LR', 'MPI-ESM1-2-HR',\n",
       "       'CESM2-WACCM', 'GISS-E2-1-G', 'GISS-E2-1-G-CC', 'MIROC-ES2L',\n",
       "       'ACCESS-ESM1-5', 'CESM2-FV2', 'CESM2-WACCM-FV2', 'IPSL-CM5A2-INCA',\n",
       "       'CMCC-ESM2', 'IPSL-CM6A-LR-INCA', 'MRI-ESM2-0'], dtype=object)"
      ]
     },
     "execution_count": 16,
     "metadata": {},
     "output_type": "execute_result"
    }
   ],
   "source": [
    "gn_talk_mon = col.search(variable_id= 'talk', experiment_id= 'historical', table_id = 'Omon', grid_label = 'gn')\n",
    "gn_talk_mon.df['source_id'].unique()"
   ]
  },
  {
   "cell_type": "code",
   "execution_count": 17,
   "id": "difficult-webcam",
   "metadata": {},
   "outputs": [
    {
     "data": {
      "text/plain": [
       "array(['GFDL-CM4', 'IPSL-CM6A-LR', 'GISS-E2-1-G', 'CNRM-CM6-1',\n",
       "       'BCC-CSM2-MR', 'BCC-ESM1', 'CNRM-ESM2-1', 'AWI-CM-1-1-MR', 'CESM2',\n",
       "       'MIROC6', 'SAM0-UNICON', 'CanESM5', 'CanESM5-CanOE', 'UKESM1-0-LL',\n",
       "       'HadGEM3-GC31-LL', 'MPI-ESM-1-2-HAM', 'NESM3', 'CAMS-CSM1-0',\n",
       "       'MPI-ESM1-2-LR', 'MPI-ESM1-2-HR', 'GFDL-ESM4', 'MCM-UA-1-0',\n",
       "       'CESM2-WACCM', 'GISS-E2-1-G-CC', 'NorESM2-LM', 'MIROC-ES2L',\n",
       "       'NorCPM1', 'FGOALS-f3-L', 'FGOALS-g3', 'CNRM-CM6-1-HR',\n",
       "       'NorESM2-MM', 'ACCESS-CM2', 'ACCESS-ESM1-5', 'CESM2-FV2',\n",
       "       'CESM2-WACCM-FV2', 'FIO-ESM-2-0', 'HadGEM3-GC31-MM',\n",
       "       'EC-Earth3-Veg', 'EC-Earth3', 'AWI-ESM-1-1-LR', 'CAS-ESM2-0',\n",
       "       'CIESM', 'CMCC-CM2-SR5', 'EC-Earth3-AerChem', 'TaiESM1',\n",
       "       'IPSL-CM5A2-INCA', 'CMCC-CM2-HR4', 'EC-Earth3-Veg-LR',\n",
       "       'EC-Earth3-CC', 'CMCC-ESM2', 'IPSL-CM6A-LR-INCA', 'MRI-ESM2-0'],\n",
       "      dtype=object)"
      ]
     },
     "execution_count": 17,
     "metadata": {},
     "output_type": "execute_result"
    }
   ],
   "source": [
    "gn_thetao_mon = col.search(variable_id= 'thetao', experiment_id= 'historical', table_id = 'Omon', grid_label = 'gn')\n",
    "gn_thetao_mon.df['source_id'].unique()"
   ]
  },
  {
   "cell_type": "code",
   "execution_count": 18,
   "id": "prostate-palestine",
   "metadata": {},
   "outputs": [
    {
     "data": {
      "text/plain": [
       "array([], dtype=object)"
      ]
     },
     "execution_count": 18,
     "metadata": {},
     "output_type": "execute_result"
    }
   ],
   "source": [
    "gn_so_yr = col.search(variable_id= 'so', experiment_id= 'historical', table_id = 'Oyr', grid_label = 'gn')\n",
    "gn_so_yr.df['source_id'].unique()"
   ]
  },
  {
   "cell_type": "code",
   "execution_count": 19,
   "id": "divided-biotechnology",
   "metadata": {},
   "outputs": [
    {
     "data": {
      "text/plain": [
       "array([], dtype=object)"
      ]
     },
     "execution_count": 19,
     "metadata": {},
     "output_type": "execute_result"
    }
   ],
   "source": [
    "gn_thetao_yr = col.search(variable_id= 'thetao', experiment_id= 'historical', table_id = 'Oyr', grid_label = 'gn')\n",
    "gn_thetao_yr.df['source_id'].unique()"
   ]
  },
  {
   "cell_type": "code",
   "execution_count": 20,
   "id": "beautiful-uncertainty",
   "metadata": {},
   "outputs": [
    {
     "data": {
      "text/plain": [
       "array(['CanESM5', 'CanESM5-CanOE', 'CESM2', 'IPSL-CM6A-LR', 'CESM2-WACCM',\n",
       "       'NorESM2-LM', 'ACCESS-ESM1-5', 'CESM2-WACCM-FV2', 'CESM2-FV2',\n",
       "       'NorESM2-MM', 'MRI-ESM2-0', 'IPSL-CM5A2-INCA', 'EC-Earth3-CC',\n",
       "       'CMCC-ESM2'], dtype=object)"
      ]
     },
     "execution_count": 20,
     "metadata": {},
     "output_type": "execute_result"
    }
   ],
   "source": [
    "gn_dissic_yr = col.search(variable_id= 'dissic', experiment_id= 'historical', table_id = 'Oyr', grid_label = 'gn')\n",
    "gn_dissic_yr.df['source_id'].unique()"
   ]
  },
  {
   "cell_type": "code",
   "execution_count": 21,
   "id": "turned-priest",
   "metadata": {},
   "outputs": [
    {
     "data": {
      "text/plain": [
       "array(['CanESM5', 'CanESM5-CanOE', 'CESM2', 'IPSL-CM6A-LR', 'CESM2-WACCM',\n",
       "       'NorESM2-LM', 'ACCESS-ESM1-5', 'CESM2-FV2', 'CESM2-WACCM-FV2',\n",
       "       'NorESM2-MM', 'MRI-ESM2-0', 'IPSL-CM5A2-INCA', 'EC-Earth3-CC',\n",
       "       'CMCC-ESM2'], dtype=object)"
      ]
     },
     "execution_count": 21,
     "metadata": {},
     "output_type": "execute_result"
    }
   ],
   "source": [
    "gn_talk_yr = col.search(variable_id= 'talk', experiment_id= 'historical', table_id = 'Oyr', grid_label = 'gn')\n",
    "gn_talk_yr.df['source_id'].unique()"
   ]
  },
  {
   "cell_type": "code",
   "execution_count": 22,
   "id": "parliamentary-circular",
   "metadata": {},
   "outputs": [],
   "source": [
    "so_mon_gn = gn_so_mon.df['source_id'].unique()\n",
    "thetao_mon_gn = gn_thetao_mon.df['source_id'].unique()\n",
    "dissic_mon_gn = gn_dissic_mon.df['source_id'].unique()\n",
    "talk_mon_gn = gn_talk_mon.df['source_id'].unique()\n",
    "so_yr_gn = gn_so_yr.df['source_id'].unique()\n",
    "thetao_yr_gn = gn_thetao_yr.df['source_id'].unique()\n",
    "talk_yr_gn = gn_talk_yr.df['source_id'].unique()\n",
    "dissic_yr_gn = gn_dissic_yr.df['source_id'].unique()"
   ]
  },
  {
   "cell_type": "code",
   "execution_count": 23,
   "id": "vertical-wrestling",
   "metadata": {},
   "outputs": [
    {
     "name": "stdout",
     "output_type": "stream",
     "text": [
      "so_mon:  ['GFDL-CM4' 'IPSL-CM6A-LR' 'GISS-E2-1-G' 'CNRM-CM6-1' 'BCC-CSM2-MR'\n",
      " 'BCC-ESM1' 'CNRM-ESM2-1' 'AWI-CM-1-1-MR' 'CanESM5' 'CESM2' 'MIROC6'\n",
      " 'SAM0-UNICON' 'CanESM5-CanOE' 'UKESM1-0-LL' 'EC-Earth3-Veg'\n",
      " 'HadGEM3-GC31-LL' 'EC-Earth3' 'MPI-ESM-1-2-HAM' 'NESM3' 'CAMS-CSM1-0'\n",
      " 'MPI-ESM1-2-LR' 'MPI-ESM1-2-HR' 'GFDL-ESM4' 'MCM-UA-1-0' 'CESM2-WACCM'\n",
      " 'GISS-E2-1-G-CC' 'NorESM2-LM' 'FGOALS-f3-L' 'MIROC-ES2L' 'NorCPM1'\n",
      " 'FGOALS-g3' 'ACCESS-CM2' 'NorESM2-MM' 'ACCESS-ESM1-5' 'CESM2-FV2'\n",
      " 'CESM2-WACCM-FV2' 'FIO-ESM-2-0' 'AWI-ESM-1-1-LR' 'CIESM' 'CMCC-CM2-SR5'\n",
      " 'EC-Earth3-AerChem' 'TaiESM1' 'CMCC-CM2-HR4' 'CMCC-ESM2']\n",
      "\n",
      "thetao_mon:  ['GFDL-CM4' 'IPSL-CM6A-LR' 'GISS-E2-1-G' 'CNRM-CM6-1' 'BCC-CSM2-MR'\n",
      " 'BCC-ESM1' 'CNRM-ESM2-1' 'AWI-CM-1-1-MR' 'CESM2' 'MIROC6' 'SAM0-UNICON'\n",
      " 'CanESM5' 'CanESM5-CanOE' 'UKESM1-0-LL' 'HadGEM3-GC31-LL'\n",
      " 'MPI-ESM-1-2-HAM' 'NESM3' 'CAMS-CSM1-0' 'MPI-ESM1-2-LR' 'MPI-ESM1-2-HR'\n",
      " 'GFDL-ESM4' 'MCM-UA-1-0' 'CESM2-WACCM' 'GISS-E2-1-G-CC' 'NorESM2-LM'\n",
      " 'MIROC-ES2L' 'NorCPM1' 'FGOALS-f3-L' 'FGOALS-g3' 'CNRM-CM6-1-HR'\n",
      " 'NorESM2-MM' 'ACCESS-CM2' 'ACCESS-ESM1-5' 'CESM2-FV2' 'CESM2-WACCM-FV2'\n",
      " 'FIO-ESM-2-0' 'HadGEM3-GC31-MM' 'EC-Earth3-Veg' 'EC-Earth3'\n",
      " 'AWI-ESM-1-1-LR' 'CAS-ESM2-0' 'CIESM' 'CMCC-CM2-SR5' 'EC-Earth3-AerChem'\n",
      " 'TaiESM1' 'IPSL-CM5A2-INCA' 'CMCC-CM2-HR4' 'EC-Earth3-Veg-LR'\n",
      " 'EC-Earth3-CC' 'CMCC-ESM2' 'IPSL-CM6A-LR-INCA' 'MRI-ESM2-0']\n",
      "\n",
      "dissic_mon:  ['IPSL-CM6A-LR' 'CNRM-ESM2-1' 'CESM2' 'CanESM5' 'CanESM5-CanOE'\n",
      " 'MPI-ESM-1-2-HAM' 'UKESM1-0-LL' 'MPI-ESM1-2-LR' 'MPI-ESM1-2-HR'\n",
      " 'CESM2-WACCM' 'GISS-E2-1-G' 'GISS-E2-1-G-CC' 'MIROC-ES2L' 'ACCESS-ESM1-5'\n",
      " 'CESM2-WACCM-FV2' 'CESM2-FV2' 'IPSL-CM5A2-INCA' 'CMCC-ESM2'\n",
      " 'IPSL-CM6A-LR-INCA' 'MRI-ESM2-0']\n",
      "\n",
      "talk_mon:  ['IPSL-CM6A-LR' 'CNRM-ESM2-1' 'CESM2' 'CanESM5' 'CanESM5-CanOE'\n",
      " 'MPI-ESM-1-2-HAM' 'UKESM1-0-LL' 'MPI-ESM1-2-LR' 'MPI-ESM1-2-HR'\n",
      " 'CESM2-WACCM' 'GISS-E2-1-G' 'GISS-E2-1-G-CC' 'MIROC-ES2L' 'ACCESS-ESM1-5'\n",
      " 'CESM2-FV2' 'CESM2-WACCM-FV2' 'IPSL-CM5A2-INCA' 'CMCC-ESM2'\n",
      " 'IPSL-CM6A-LR-INCA' 'MRI-ESM2-0']\n",
      "\n",
      "so_yr:  []\n",
      "\n",
      "thetao_yr:  []\n",
      "\n",
      "talk_yr:  ['CanESM5' 'CanESM5-CanOE' 'CESM2' 'IPSL-CM6A-LR' 'CESM2-WACCM'\n",
      " 'NorESM2-LM' 'ACCESS-ESM1-5' 'CESM2-FV2' 'CESM2-WACCM-FV2' 'NorESM2-MM'\n",
      " 'MRI-ESM2-0' 'IPSL-CM5A2-INCA' 'EC-Earth3-CC' 'CMCC-ESM2']\n",
      "\n",
      "dissic_yr:  ['CanESM5' 'CanESM5-CanOE' 'CESM2' 'IPSL-CM6A-LR' 'CESM2-WACCM'\n",
      " 'NorESM2-LM' 'ACCESS-ESM1-5' 'CESM2-WACCM-FV2' 'CESM2-FV2' 'NorESM2-MM'\n",
      " 'MRI-ESM2-0' 'IPSL-CM5A2-INCA' 'EC-Earth3-CC' 'CMCC-ESM2']\n"
     ]
    }
   ],
   "source": [
    "print('so_mon: ', so_mon_gn)\n",
    "print('\\nthetao_mon: ', thetao_mon_gn) \n",
    "print('\\ndissic_mon: ', dissic_mon_gn) \n",
    "print('\\ntalk_mon: ', talk_mon_gn) \n",
    "print('\\nso_yr: ', so_yr_gn) \n",
    "print('\\nthetao_yr: ',thetao_yr_gn)\n",
    "print('\\ntalk_yr: ',talk_yr_gn) \n",
    "print('\\ndissic_yr: ',dissic_yr_gn)"
   ]
  },
  {
   "cell_type": "code",
   "execution_count": null,
   "id": "robust-capacity",
   "metadata": {},
   "outputs": [],
   "source": []
  }
 ],
 "metadata": {
  "kernelspec": {
   "display_name": "Python 3",
   "language": "python",
   "name": "python3"
  },
  "language_info": {
   "codemirror_mode": {
    "name": "ipython",
    "version": 3
   },
   "file_extension": ".py",
   "mimetype": "text/x-python",
   "name": "python",
   "nbconvert_exporter": "python",
   "pygments_lexer": "ipython3",
   "version": "3.8.6"
  }
 },
 "nbformat": 4,
 "nbformat_minor": 5
}
